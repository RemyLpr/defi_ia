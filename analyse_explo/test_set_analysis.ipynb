{
  "cells": [
    {
      "cell_type": "markdown",
      "metadata": {
        "id": "view-in-github",
        "colab_type": "text"
      },
      "source": [
        "<a href=\"https://colab.research.google.com/github/RemyLpr/defi_ia/blob/main/analyse_explo/test_set_analysis.ipynb\" target=\"_parent\"><img src=\"https://colab.research.google.com/assets/colab-badge.svg\" alt=\"Open In Colab\"/></a>"
      ]
    },
    {
      "cell_type": "markdown",
      "id": "7301940f",
      "metadata": {
        "id": "7301940f"
      },
      "source": [
        "# Import des librairies"
      ]
    },
    {
      "cell_type": "code",
      "execution_count": 2,
      "id": "N-5hTJ6VK-bo",
      "metadata": {
        "colab": {
          "base_uri": "https://localhost:8080/"
        },
        "id": "N-5hTJ6VK-bo",
        "outputId": "6f077685-e0e8-4b39-fdb3-d4f309caf64f"
      },
      "outputs": [
        {
          "output_type": "stream",
          "name": "stdout",
          "text": [
            "Looking in indexes: https://pypi.org/simple, https://us-python.pkg.dev/colab-wheels/public/simple/\n",
            "Collecting fitter\n",
            "  Downloading fitter-1.5.1.tar.gz (27 kB)\n",
            "Requirement already satisfied: click in /usr/local/lib/python3.7/dist-packages (from fitter) (7.1.2)\n",
            "Requirement already satisfied: joblib in /usr/local/lib/python3.7/dist-packages (from fitter) (1.2.0)\n",
            "Requirement already satisfied: matplotlib in /usr/local/lib/python3.7/dist-packages (from fitter) (3.2.2)\n",
            "Requirement already satisfied: numpy in /usr/local/lib/python3.7/dist-packages (from fitter) (1.21.6)\n",
            "Requirement already satisfied: pandas in /usr/local/lib/python3.7/dist-packages (from fitter) (1.3.5)\n",
            "Requirement already satisfied: scipy>=0.18 in /usr/local/lib/python3.7/dist-packages (from fitter) (1.7.3)\n",
            "Requirement already satisfied: tqdm in /usr/local/lib/python3.7/dist-packages (from fitter) (4.64.1)\n",
            "Requirement already satisfied: kiwisolver>=1.0.1 in /usr/local/lib/python3.7/dist-packages (from matplotlib->fitter) (1.4.4)\n",
            "Requirement already satisfied: cycler>=0.10 in /usr/local/lib/python3.7/dist-packages (from matplotlib->fitter) (0.11.0)\n",
            "Requirement already satisfied: pyparsing!=2.0.4,!=2.1.2,!=2.1.6,>=2.0.1 in /usr/local/lib/python3.7/dist-packages (from matplotlib->fitter) (3.0.9)\n",
            "Requirement already satisfied: python-dateutil>=2.1 in /usr/local/lib/python3.7/dist-packages (from matplotlib->fitter) (2.8.2)\n",
            "Requirement already satisfied: typing-extensions in /usr/local/lib/python3.7/dist-packages (from kiwisolver>=1.0.1->matplotlib->fitter) (4.1.1)\n",
            "Requirement already satisfied: six>=1.5 in /usr/local/lib/python3.7/dist-packages (from python-dateutil>=2.1->matplotlib->fitter) (1.15.0)\n",
            "Requirement already satisfied: pytz>=2017.3 in /usr/local/lib/python3.7/dist-packages (from pandas->fitter) (2022.5)\n",
            "Building wheels for collected packages: fitter\n",
            "  Building wheel for fitter (setup.py) ... \u001b[?25l\u001b[?25hdone\n",
            "  Created wheel for fitter: filename=fitter-1.5.1-py3-none-any.whl size=25596 sha256=23aeebceaa193db7728f75a9747d8f7c8d749fe51411cc5ba1514d6d60e76f3b\n",
            "  Stored in directory: /root/.cache/pip/wheels/40/65/62/57b872ba7af36e70111b1f67cffe76f97c747804aff7665ccb\n",
            "Successfully built fitter\n",
            "Installing collected packages: fitter\n",
            "Successfully installed fitter-1.5.1\n",
            "Looking in indexes: https://pypi.org/simple, https://us-python.pkg.dev/colab-wheels/public/simple/\n",
            "Collecting missingpy\n",
            "  Downloading missingpy-0.2.0-py3-none-any.whl (49 kB)\n",
            "\u001b[K     |████████████████████████████████| 49 kB 5.1 MB/s \n",
            "\u001b[?25hInstalling collected packages: missingpy\n",
            "Successfully installed missingpy-0.2.0\n"
          ]
        }
      ],
      "source": [
        "!pip install fitter\n",
        "!pip install missingpy"
      ]
    },
    {
      "cell_type": "code",
      "execution_count": 12,
      "id": "289277e1",
      "metadata": {
        "id": "289277e1"
      },
      "outputs": [],
      "source": [
        "import pandas as pd\n",
        "import matplotlib.pyplot as plt\n",
        "import seaborn as sns\n",
        "import numpy as np\n",
        "from fitter import Fitter, get_common_distributions, get_distributions\n",
        "import sklearn.neighbors._base\n",
        "import sys\n",
        "sys.modules['sklearn.neighbors.base'] = sklearn.neighbors._base\n",
        "from missingpy import MissForest\n",
        "from sklearn.impute import KNNImputer\n",
        "from scipy import stats\n",
        "import warnings\n",
        "warnings.filterwarnings('ignore')\n",
        "from sklearn.linear_model import Ridge\n",
        "from sklearn.preprocessing import PolynomialFeatures\n",
        "from sklearn.pipeline import make_pipeline\n",
        "import operator\n",
        "from scipy.stats import chisquare"
      ]
    },
    {
      "cell_type": "markdown",
      "id": "962021ea",
      "metadata": {
        "id": "962021ea"
      },
      "source": [
        "# Chargement des données"
      ]
    },
    {
      "cell_type": "code",
      "execution_count": 6,
      "id": "1e5aa03e",
      "metadata": {
        "id": "1e5aa03e"
      },
      "outputs": [],
      "source": [
        "df = pd.read_csv(\"test_set.csv\")\n",
        "df_req = df.drop_duplicates(subset=['order_requests'])"
      ]
    },
    {
      "cell_type": "markdown",
      "id": "084299fd",
      "metadata": {
        "id": "084299fd"
      },
      "source": [
        "# Prévisualisation"
      ]
    },
    {
      "cell_type": "code",
      "execution_count": null,
      "id": "27fc30db",
      "metadata": {
        "id": "27fc30db",
        "outputId": "284a6ed1-ec83-4577-f137-19acc147b1ac",
        "colab": {
          "base_uri": "https://localhost:8080/",
          "height": 424
        }
      },
      "outputs": [
        {
          "output_type": "execute_result",
          "data": {
            "text/plain": [
              "      index  order_requests     city  date  language  mobile  avatar_id  \\\n",
              "0         0               1  vilnius    21  romanian       0          1   \n",
              "1         1               1  vilnius    21  romanian       0          1   \n",
              "2         2               1  vilnius    21  romanian       0          1   \n",
              "3         3               1  vilnius    21  romanian       0          1   \n",
              "4         4               1  vilnius    21  romanian       0          1   \n",
              "...     ...             ...      ...   ...       ...     ...        ...   \n",
              "6639   6639             843     rome     5     irish       0        794   \n",
              "6640   6640             844   vienna     1     irish       1        794   \n",
              "6641   6641             844   vienna     1     irish       1        794   \n",
              "6642   6642             844   vienna     1     irish       1        794   \n",
              "6643   6643             844   vienna     1     irish       1        794   \n",
              "\n",
              "      hotel_id  stock  \n",
              "0          161     46  \n",
              "1          187     32  \n",
              "2          279     12  \n",
              "3          395     10  \n",
              "4          488     42  \n",
              "...        ...    ...  \n",
              "6639       987      1  \n",
              "6640        26      1  \n",
              "6641       263      0  \n",
              "6642       456      0  \n",
              "6643       699      0  \n",
              "\n",
              "[6644 rows x 9 columns]"
            ],
            "text/html": [
              "\n",
              "  <div id=\"df-e40eefb6-46fc-4de6-bc15-ec995a072a85\">\n",
              "    <div class=\"colab-df-container\">\n",
              "      <div>\n",
              "<style scoped>\n",
              "    .dataframe tbody tr th:only-of-type {\n",
              "        vertical-align: middle;\n",
              "    }\n",
              "\n",
              "    .dataframe tbody tr th {\n",
              "        vertical-align: top;\n",
              "    }\n",
              "\n",
              "    .dataframe thead th {\n",
              "        text-align: right;\n",
              "    }\n",
              "</style>\n",
              "<table border=\"1\" class=\"dataframe\">\n",
              "  <thead>\n",
              "    <tr style=\"text-align: right;\">\n",
              "      <th></th>\n",
              "      <th>index</th>\n",
              "      <th>order_requests</th>\n",
              "      <th>city</th>\n",
              "      <th>date</th>\n",
              "      <th>language</th>\n",
              "      <th>mobile</th>\n",
              "      <th>avatar_id</th>\n",
              "      <th>hotel_id</th>\n",
              "      <th>stock</th>\n",
              "    </tr>\n",
              "  </thead>\n",
              "  <tbody>\n",
              "    <tr>\n",
              "      <th>0</th>\n",
              "      <td>0</td>\n",
              "      <td>1</td>\n",
              "      <td>vilnius</td>\n",
              "      <td>21</td>\n",
              "      <td>romanian</td>\n",
              "      <td>0</td>\n",
              "      <td>1</td>\n",
              "      <td>161</td>\n",
              "      <td>46</td>\n",
              "    </tr>\n",
              "    <tr>\n",
              "      <th>1</th>\n",
              "      <td>1</td>\n",
              "      <td>1</td>\n",
              "      <td>vilnius</td>\n",
              "      <td>21</td>\n",
              "      <td>romanian</td>\n",
              "      <td>0</td>\n",
              "      <td>1</td>\n",
              "      <td>187</td>\n",
              "      <td>32</td>\n",
              "    </tr>\n",
              "    <tr>\n",
              "      <th>2</th>\n",
              "      <td>2</td>\n",
              "      <td>1</td>\n",
              "      <td>vilnius</td>\n",
              "      <td>21</td>\n",
              "      <td>romanian</td>\n",
              "      <td>0</td>\n",
              "      <td>1</td>\n",
              "      <td>279</td>\n",
              "      <td>12</td>\n",
              "    </tr>\n",
              "    <tr>\n",
              "      <th>3</th>\n",
              "      <td>3</td>\n",
              "      <td>1</td>\n",
              "      <td>vilnius</td>\n",
              "      <td>21</td>\n",
              "      <td>romanian</td>\n",
              "      <td>0</td>\n",
              "      <td>1</td>\n",
              "      <td>395</td>\n",
              "      <td>10</td>\n",
              "    </tr>\n",
              "    <tr>\n",
              "      <th>4</th>\n",
              "      <td>4</td>\n",
              "      <td>1</td>\n",
              "      <td>vilnius</td>\n",
              "      <td>21</td>\n",
              "      <td>romanian</td>\n",
              "      <td>0</td>\n",
              "      <td>1</td>\n",
              "      <td>488</td>\n",
              "      <td>42</td>\n",
              "    </tr>\n",
              "    <tr>\n",
              "      <th>...</th>\n",
              "      <td>...</td>\n",
              "      <td>...</td>\n",
              "      <td>...</td>\n",
              "      <td>...</td>\n",
              "      <td>...</td>\n",
              "      <td>...</td>\n",
              "      <td>...</td>\n",
              "      <td>...</td>\n",
              "      <td>...</td>\n",
              "    </tr>\n",
              "    <tr>\n",
              "      <th>6639</th>\n",
              "      <td>6639</td>\n",
              "      <td>843</td>\n",
              "      <td>rome</td>\n",
              "      <td>5</td>\n",
              "      <td>irish</td>\n",
              "      <td>0</td>\n",
              "      <td>794</td>\n",
              "      <td>987</td>\n",
              "      <td>1</td>\n",
              "    </tr>\n",
              "    <tr>\n",
              "      <th>6640</th>\n",
              "      <td>6640</td>\n",
              "      <td>844</td>\n",
              "      <td>vienna</td>\n",
              "      <td>1</td>\n",
              "      <td>irish</td>\n",
              "      <td>1</td>\n",
              "      <td>794</td>\n",
              "      <td>26</td>\n",
              "      <td>1</td>\n",
              "    </tr>\n",
              "    <tr>\n",
              "      <th>6641</th>\n",
              "      <td>6641</td>\n",
              "      <td>844</td>\n",
              "      <td>vienna</td>\n",
              "      <td>1</td>\n",
              "      <td>irish</td>\n",
              "      <td>1</td>\n",
              "      <td>794</td>\n",
              "      <td>263</td>\n",
              "      <td>0</td>\n",
              "    </tr>\n",
              "    <tr>\n",
              "      <th>6642</th>\n",
              "      <td>6642</td>\n",
              "      <td>844</td>\n",
              "      <td>vienna</td>\n",
              "      <td>1</td>\n",
              "      <td>irish</td>\n",
              "      <td>1</td>\n",
              "      <td>794</td>\n",
              "      <td>456</td>\n",
              "      <td>0</td>\n",
              "    </tr>\n",
              "    <tr>\n",
              "      <th>6643</th>\n",
              "      <td>6643</td>\n",
              "      <td>844</td>\n",
              "      <td>vienna</td>\n",
              "      <td>1</td>\n",
              "      <td>irish</td>\n",
              "      <td>1</td>\n",
              "      <td>794</td>\n",
              "      <td>699</td>\n",
              "      <td>0</td>\n",
              "    </tr>\n",
              "  </tbody>\n",
              "</table>\n",
              "<p>6644 rows × 9 columns</p>\n",
              "</div>\n",
              "      <button class=\"colab-df-convert\" onclick=\"convertToInteractive('df-e40eefb6-46fc-4de6-bc15-ec995a072a85')\"\n",
              "              title=\"Convert this dataframe to an interactive table.\"\n",
              "              style=\"display:none;\">\n",
              "        \n",
              "  <svg xmlns=\"http://www.w3.org/2000/svg\" height=\"24px\"viewBox=\"0 0 24 24\"\n",
              "       width=\"24px\">\n",
              "    <path d=\"M0 0h24v24H0V0z\" fill=\"none\"/>\n",
              "    <path d=\"M18.56 5.44l.94 2.06.94-2.06 2.06-.94-2.06-.94-.94-2.06-.94 2.06-2.06.94zm-11 1L8.5 8.5l.94-2.06 2.06-.94-2.06-.94L8.5 2.5l-.94 2.06-2.06.94zm10 10l.94 2.06.94-2.06 2.06-.94-2.06-.94-.94-2.06-.94 2.06-2.06.94z\"/><path d=\"M17.41 7.96l-1.37-1.37c-.4-.4-.92-.59-1.43-.59-.52 0-1.04.2-1.43.59L10.3 9.45l-7.72 7.72c-.78.78-.78 2.05 0 2.83L4 21.41c.39.39.9.59 1.41.59.51 0 1.02-.2 1.41-.59l7.78-7.78 2.81-2.81c.8-.78.8-2.07 0-2.86zM5.41 20L4 18.59l7.72-7.72 1.47 1.35L5.41 20z\"/>\n",
              "  </svg>\n",
              "      </button>\n",
              "      \n",
              "  <style>\n",
              "    .colab-df-container {\n",
              "      display:flex;\n",
              "      flex-wrap:wrap;\n",
              "      gap: 12px;\n",
              "    }\n",
              "\n",
              "    .colab-df-convert {\n",
              "      background-color: #E8F0FE;\n",
              "      border: none;\n",
              "      border-radius: 50%;\n",
              "      cursor: pointer;\n",
              "      display: none;\n",
              "      fill: #1967D2;\n",
              "      height: 32px;\n",
              "      padding: 0 0 0 0;\n",
              "      width: 32px;\n",
              "    }\n",
              "\n",
              "    .colab-df-convert:hover {\n",
              "      background-color: #E2EBFA;\n",
              "      box-shadow: 0px 1px 2px rgba(60, 64, 67, 0.3), 0px 1px 3px 1px rgba(60, 64, 67, 0.15);\n",
              "      fill: #174EA6;\n",
              "    }\n",
              "\n",
              "    [theme=dark] .colab-df-convert {\n",
              "      background-color: #3B4455;\n",
              "      fill: #D2E3FC;\n",
              "    }\n",
              "\n",
              "    [theme=dark] .colab-df-convert:hover {\n",
              "      background-color: #434B5C;\n",
              "      box-shadow: 0px 1px 3px 1px rgba(0, 0, 0, 0.15);\n",
              "      filter: drop-shadow(0px 1px 2px rgba(0, 0, 0, 0.3));\n",
              "      fill: #FFFFFF;\n",
              "    }\n",
              "  </style>\n",
              "\n",
              "      <script>\n",
              "        const buttonEl =\n",
              "          document.querySelector('#df-e40eefb6-46fc-4de6-bc15-ec995a072a85 button.colab-df-convert');\n",
              "        buttonEl.style.display =\n",
              "          google.colab.kernel.accessAllowed ? 'block' : 'none';\n",
              "\n",
              "        async function convertToInteractive(key) {\n",
              "          const element = document.querySelector('#df-e40eefb6-46fc-4de6-bc15-ec995a072a85');\n",
              "          const dataTable =\n",
              "            await google.colab.kernel.invokeFunction('convertToInteractive',\n",
              "                                                     [key], {});\n",
              "          if (!dataTable) return;\n",
              "\n",
              "          const docLinkHtml = 'Like what you see? Visit the ' +\n",
              "            '<a target=\"_blank\" href=https://colab.research.google.com/notebooks/data_table.ipynb>data table notebook</a>'\n",
              "            + ' to learn more about interactive tables.';\n",
              "          element.innerHTML = '';\n",
              "          dataTable['output_type'] = 'display_data';\n",
              "          await google.colab.output.renderOutput(dataTable, element);\n",
              "          const docLink = document.createElement('div');\n",
              "          docLink.innerHTML = docLinkHtml;\n",
              "          element.appendChild(docLink);\n",
              "        }\n",
              "      </script>\n",
              "    </div>\n",
              "  </div>\n",
              "  "
            ]
          },
          "metadata": {},
          "execution_count": 5
        }
      ],
      "source": [
        "df"
      ]
    },
    {
      "cell_type": "markdown",
      "id": "04abfe63",
      "metadata": {
        "id": "04abfe63"
      },
      "source": [
        "# Etude des villes"
      ]
    },
    {
      "cell_type": "markdown",
      "id": "095d267e",
      "metadata": {
        "id": "095d267e"
      },
      "source": [
        "Premièrement nous allons afficher la répartition des villes dans le dataset de test afin de vérifier si elles sont toutes présentes et de manière équitable."
      ]
    },
    {
      "cell_type": "code",
      "execution_count": null,
      "id": "eb62b8d2",
      "metadata": {
        "id": "eb62b8d2",
        "outputId": "5f19636b-f31f-4ed0-b8bc-6face9c69497"
      },
      "outputs": [
        {
          "data": {
            "text/plain": [
              "amsterdam     1134\n",
              "paris         1125\n",
              "madrid        1094\n",
              "copenhagen     723\n",
              "rome           721\n",
              "vilnius        609\n",
              "vienna         568\n",
              "sofia          374\n",
              "valletta       296\n",
              "Name: city, dtype: int64"
            ]
          },
          "execution_count": 4,
          "metadata": {},
          "output_type": "execute_result"
        }
      ],
      "source": [
        "df[\"city\"].value_counts()"
      ]
    },
    {
      "cell_type": "markdown",
      "id": "fb1f3a60",
      "metadata": {
        "id": "fb1f3a60"
      },
      "source": [
        "Les villes sont effectivement toutes bien présentes mais de manière très déséquilibrée. Ce déséquilibre pourrait être retrouvé dans l'ensemble des données, ou pas. Pour avoir une idée de la réponse je vais utiliser des métadonnées associées aux villes qui pourraient expliquer le nombre d'hotêls que l'API renvoie pour celles-ci."
      ]
    },
    {
      "cell_type": "markdown",
      "id": "b5522265",
      "metadata": {
        "id": "b5522265"
      },
      "source": [
        "Dans un premier temps je vais vérifier si la répartition vue ci-dessus correspond à la taille des villes étudiées (en terme de nombre d'habitants).\n",
        "Les données sont tirées du site : https://www.populationdata.net/palmares/villes/europe/"
      ]
    },
    {
      "cell_type": "code",
      "execution_count": null,
      "id": "9e2aa721",
      "metadata": {
        "id": "9e2aa721"
      },
      "outputs": [],
      "source": [
        "population_data = {\"amsterdam\" : 2480394, \"paris\" : 13114718, \"madrid\" : 6475872, \"copenhagen\" : 2931445, \"rome\" : 4340474, \"vilnius\" : 673921, \"vienna\" : 2717459, \"sofia\" : 1681592, \"valletta\" : 408750}"
      ]
    },
    {
      "cell_type": "markdown",
      "id": "56a2acb1",
      "metadata": {
        "id": "56a2acb1"
      },
      "source": [
        "Ensuite je suis allé extraire le nombre de recherches Google des termes \"hotel\" plus nom de la ville. J'ai stocké le nombre de résultats de la requête dans une liste (ordre = same que renvoyé par df[\"city\"])."
      ]
    },
    {
      "cell_type": "code",
      "execution_count": null,
      "id": "7ad4e8c1",
      "metadata": {
        "id": "7ad4e8c1"
      },
      "outputs": [],
      "source": [
        "nb_url = [258, 705, 328, 69.5, 545, 11.8, 191, 225, 7.47] # unité = 10**6\n",
        "# chiffres obtenus sur google.com langue = anglais US"
      ]
    },
    {
      "cell_type": "markdown",
      "id": "ef7abc1f",
      "metadata": {
        "id": "ef7abc1f"
      },
      "source": [
        "J'ai également été sur le site https://www.booking.com/ et récupéré le nombre d'hôtel renvoyé pour une requête dans chaque ville (pas de dates et résa pour 2 adultes)."
      ]
    },
    {
      "cell_type": "code",
      "execution_count": null,
      "id": "48cedf6c",
      "metadata": {
        "id": "48cedf6c"
      },
      "outputs": [],
      "source": [
        "data_booking = [1061, 4980, 3344, 475, 9029, 651, 2287, 971, 235]"
      ]
    },
    {
      "cell_type": "markdown",
      "id": "7e228081",
      "metadata": {
        "id": "7e228081"
      },
      "source": [
        "Des données sur les pays peuvent également être retenues comme le PIB par habitant (à voir si c'est également utilisable pour la feature language)."
      ]
    },
    {
      "cell_type": "code",
      "execution_count": null,
      "id": "daa32dee",
      "metadata": {
        "id": "daa32dee"
      },
      "outputs": [],
      "source": [
        "PIB = [48424, 38210, 26239, 58586, 31512, 18072, 45091, 8294, 27738]"
      ]
    },
    {
      "cell_type": "code",
      "execution_count": null,
      "id": "9514dbff",
      "metadata": {
        "id": "9514dbff"
      },
      "outputs": [],
      "source": [
        "l = list(df[\"city\"].value_counts())\n",
        "df_city = pd.DataFrame(population_data.items(), columns=['city', 'nb_hab'])\n",
        "df_city[\"nb_url\"] = nb_url\n",
        "df_city[\"booking\"] = data_booking\n",
        "df_city[\"PIB\"] = PIB\n",
        "df_city[\"nb_val\"] = l"
      ]
    },
    {
      "cell_type": "code",
      "execution_count": null,
      "id": "20fd67cc",
      "metadata": {
        "id": "20fd67cc",
        "outputId": "a4eefb9f-d4c6-4bc8-f317-3567a9f27d9c"
      },
      "outputs": [
        {
          "data": {
            "text/html": [
              "<div>\n",
              "<style scoped>\n",
              "    .dataframe tbody tr th:only-of-type {\n",
              "        vertical-align: middle;\n",
              "    }\n",
              "\n",
              "    .dataframe tbody tr th {\n",
              "        vertical-align: top;\n",
              "    }\n",
              "\n",
              "    .dataframe thead th {\n",
              "        text-align: right;\n",
              "    }\n",
              "</style>\n",
              "<table border=\"1\" class=\"dataframe\">\n",
              "  <thead>\n",
              "    <tr style=\"text-align: right;\">\n",
              "      <th></th>\n",
              "      <th>city</th>\n",
              "      <th>nb_hab</th>\n",
              "      <th>nb_url</th>\n",
              "      <th>booking</th>\n",
              "      <th>PIB</th>\n",
              "      <th>nb_val</th>\n",
              "    </tr>\n",
              "  </thead>\n",
              "  <tbody>\n",
              "    <tr>\n",
              "      <th>0</th>\n",
              "      <td>amsterdam</td>\n",
              "      <td>2480394</td>\n",
              "      <td>258.00</td>\n",
              "      <td>1061</td>\n",
              "      <td>48424</td>\n",
              "      <td>1134</td>\n",
              "    </tr>\n",
              "    <tr>\n",
              "      <th>1</th>\n",
              "      <td>paris</td>\n",
              "      <td>13114718</td>\n",
              "      <td>705.00</td>\n",
              "      <td>4980</td>\n",
              "      <td>38210</td>\n",
              "      <td>1125</td>\n",
              "    </tr>\n",
              "    <tr>\n",
              "      <th>2</th>\n",
              "      <td>madrid</td>\n",
              "      <td>6475872</td>\n",
              "      <td>328.00</td>\n",
              "      <td>3344</td>\n",
              "      <td>26239</td>\n",
              "      <td>1094</td>\n",
              "    </tr>\n",
              "    <tr>\n",
              "      <th>3</th>\n",
              "      <td>copenhagen</td>\n",
              "      <td>2931445</td>\n",
              "      <td>69.50</td>\n",
              "      <td>475</td>\n",
              "      <td>58586</td>\n",
              "      <td>723</td>\n",
              "    </tr>\n",
              "    <tr>\n",
              "      <th>4</th>\n",
              "      <td>rome</td>\n",
              "      <td>4340474</td>\n",
              "      <td>545.00</td>\n",
              "      <td>9029</td>\n",
              "      <td>31512</td>\n",
              "      <td>721</td>\n",
              "    </tr>\n",
              "    <tr>\n",
              "      <th>5</th>\n",
              "      <td>vilnius</td>\n",
              "      <td>673921</td>\n",
              "      <td>11.80</td>\n",
              "      <td>651</td>\n",
              "      <td>18072</td>\n",
              "      <td>609</td>\n",
              "    </tr>\n",
              "    <tr>\n",
              "      <th>6</th>\n",
              "      <td>vienna</td>\n",
              "      <td>2717459</td>\n",
              "      <td>191.00</td>\n",
              "      <td>2287</td>\n",
              "      <td>45091</td>\n",
              "      <td>568</td>\n",
              "    </tr>\n",
              "    <tr>\n",
              "      <th>7</th>\n",
              "      <td>sofia</td>\n",
              "      <td>1681592</td>\n",
              "      <td>225.00</td>\n",
              "      <td>971</td>\n",
              "      <td>8294</td>\n",
              "      <td>374</td>\n",
              "    </tr>\n",
              "    <tr>\n",
              "      <th>8</th>\n",
              "      <td>valletta</td>\n",
              "      <td>408750</td>\n",
              "      <td>7.47</td>\n",
              "      <td>235</td>\n",
              "      <td>27738</td>\n",
              "      <td>296</td>\n",
              "    </tr>\n",
              "  </tbody>\n",
              "</table>\n",
              "</div>"
            ],
            "text/plain": [
              "         city    nb_hab  nb_url  booking    PIB  nb_val\n",
              "0   amsterdam   2480394  258.00     1061  48424    1134\n",
              "1       paris  13114718  705.00     4980  38210    1125\n",
              "2      madrid   6475872  328.00     3344  26239    1094\n",
              "3  copenhagen   2931445   69.50      475  58586     723\n",
              "4        rome   4340474  545.00     9029  31512     721\n",
              "5     vilnius    673921   11.80      651  18072     609\n",
              "6      vienna   2717459  191.00     2287  45091     568\n",
              "7       sofia   1681592  225.00      971   8294     374\n",
              "8    valletta    408750    7.47      235  27738     296"
            ]
          },
          "execution_count": 27,
          "metadata": {},
          "output_type": "execute_result"
        }
      ],
      "source": [
        "df_city"
      ]
    },
    {
      "cell_type": "markdown",
      "id": "316b6419",
      "metadata": {
        "id": "316b6419"
      },
      "source": [
        "Toutes ces features pourront également être conservées pour aider à l'entraînement de notre modèle plus tard dans le projet."
      ]
    },
    {
      "cell_type": "markdown",
      "source": [
        "Regardons maintenant la distribution des villes par rapport au nombre de requêtes (et non le nombre d'hôtels)."
      ],
      "metadata": {
        "id": "S_9fwGpkZqGI"
      },
      "id": "S_9fwGpkZqGI"
    },
    {
      "cell_type": "code",
      "source": [
        "df_req[\"city\"].value_counts()"
      ],
      "metadata": {
        "id": "8zED7xOHcdn-",
        "outputId": "28bebcb9-4344-4023-b29f-cf52610f28da",
        "colab": {
          "base_uri": "https://localhost:8080/"
        }
      },
      "id": "8zED7xOHcdn-",
      "execution_count": null,
      "outputs": [
        {
          "output_type": "execute_result",
          "data": {
            "text/plain": [
              "paris         99\n",
              "madrid        98\n",
              "vilnius       96\n",
              "sofia         95\n",
              "amsterdam     94\n",
              "vienna        93\n",
              "valletta      92\n",
              "copenhagen    89\n",
              "rome          88\n",
              "Name: city, dtype: int64"
            ]
          },
          "metadata": {},
          "execution_count": 16
        }
      ]
    },
    {
      "cell_type": "markdown",
      "source": [
        "Cette distribution semble suivre une loi uniforme. Nous allons tester cette hypothèse à l'aide d'un test du chi2 d'une loi uniforme."
      ],
      "metadata": {
        "id": "Q561cH9sZ1Qa"
      },
      "id": "Q561cH9sZ1Qa"
    },
    {
      "cell_type": "code",
      "source": [
        "city_counts = list(df_req[\"city\"].value_counts())\n",
        "chisquare(city_counts)"
      ],
      "metadata": {
        "id": "0TWhFTONZxv9",
        "outputId": "dc2d99c3-d44d-4175-dcc5-7fcb6fe48147",
        "colab": {
          "base_uri": "https://localhost:8080/"
        }
      },
      "id": "0TWhFTONZxv9",
      "execution_count": null,
      "outputs": [
        {
          "output_type": "execute_result",
          "data": {
            "text/plain": [
              "Power_divergenceResult(statistic=1.1895734597156398, pvalue=0.9967438605173313)"
            ]
          },
          "metadata": {},
          "execution_count": 15
        }
      ]
    },
    {
      "cell_type": "markdown",
      "source": [
        "La pvaleur du test de chi2 est très proche de 1, on ne peut donc pas rejeter l'hypothèse d'une distribution uniforme des villes dans le dataset de test. Les légères différences observées sont donc certainement dues au hasard."
      ],
      "metadata": {
        "id": "sPMRF3LoclhA"
      },
      "id": "sPMRF3LoclhA"
    },
    {
      "cell_type": "markdown",
      "id": "1a7bdf57",
      "metadata": {
        "id": "1a7bdf57"
      },
      "source": [
        "# Etude de la date"
      ]
    },
    {
      "cell_type": "markdown",
      "id": "4232f021",
      "metadata": {
        "id": "4232f021"
      },
      "source": [
        "Ici nous allons étudier la distribution des dates dans le jeu de données de test, afin de voir si il y a un pic de réservation et quand se trouve-t-il."
      ]
    },
    {
      "cell_type": "code",
      "execution_count": null,
      "id": "0aa26bd1",
      "metadata": {
        "colab": {
          "base_uri": "https://localhost:8080/",
          "height": 508
        },
        "id": "0aa26bd1",
        "outputId": "b19b19c9-6956-4e7b-e705-7969b3af4a62"
      },
      "outputs": [
        {
          "output_type": "execute_result",
          "data": {
            "text/plain": [
              "(array([58., 58., 60., 56., 56., 59., 57.,  0.,  0.,  0.,  0.,  0.,  0.,\n",
              "         0.,  0., 34., 34., 33., 34., 29., 33., 33.,  0.,  0.,  0.,  0.,\n",
              "         0.,  0.,  0.,  0.,  0.,  0.,  0.,  0., 28., 33., 30., 30., 33.,\n",
              "        29., 27.]),\n",
              " array([ 0.        ,  0.97560976,  1.95121951,  2.92682927,  3.90243902,\n",
              "         4.87804878,  5.85365854,  6.82926829,  7.80487805,  8.7804878 ,\n",
              "         9.75609756, 10.73170732, 11.70731707, 12.68292683, 13.65853659,\n",
              "        14.63414634, 15.6097561 , 16.58536585, 17.56097561, 18.53658537,\n",
              "        19.51219512, 20.48780488, 21.46341463, 22.43902439, 23.41463415,\n",
              "        24.3902439 , 25.36585366, 26.34146341, 27.31707317, 28.29268293,\n",
              "        29.26829268, 30.24390244, 31.2195122 , 32.19512195, 33.17073171,\n",
              "        34.14634146, 35.12195122, 36.09756098, 37.07317073, 38.04878049,\n",
              "        39.02439024, 40.        ]),\n",
              " <a list of 41 Patch objects>)"
            ]
          },
          "metadata": {},
          "execution_count": 65
        },
        {
          "output_type": "display_data",
          "data": {
            "text/plain": [
              "<Figure size 432x288 with 1 Axes>"
            ],
            "image/png": "[encoded data removed]"
          },
          "metadata": {
            "needs_background": "light"
          }
        }
      ],
      "source": [
        "plt.hist(df_req[\"date\"], bins= 41) # attention au nombre de bins"
      ]
    },
    {
      "cell_type": "markdown",
      "id": "af3f3ee5",
      "metadata": {
        "id": "af3f3ee5"
      },
      "source": [
        "En observant la distribution des valeurs il semble clair que celle-ci que des intervalles de dates ont été volontairement retirés du set de test. Nous allons donc tenter d'approximer la distribution de ces valeurs estimant le nombre de réservations à partir de la date dans le but de l'utiliser pour notre stratégie de reqûetage de l'API."
      ]
    },
    {
      "cell_type": "code",
      "execution_count": 19,
      "id": "43fdd535",
      "metadata": {
        "colab": {
          "base_uri": "https://localhost:8080/",
          "height": 472
        },
        "id": "43fdd535",
        "outputId": "8c52f926-8f5a-4630-a989-0adc67b24126"
      },
      "outputs": [
        {
          "output_type": "stream",
          "name": "stderr",
          "text": [
            "Fitting 5 distributions: 100%|██████████| 5/5 [00:01<00:00,  3.54it/s]\n"
          ]
        },
        {
          "output_type": "execute_result",
          "data": {
            "text/plain": [
              "         sumsquare_error          aic          bic  kl_div  ks_statistic  \\\n",
              "gamma           0.240544   860.613826 -6869.361372     inf      0.269223   \n",
              "burr            0.246205   888.264527 -6842.989746     inf      0.274488   \n",
              "beta            0.254240   829.463092 -6815.887810     inf      0.302072   \n",
              "lognorm         0.268760  1155.484096 -6775.749245     inf      0.387878   \n",
              "norm            0.279109   793.762607 -6750.596035     inf      0.230904   \n",
              "\n",
              "             ks_pvalue  \n",
              "gamma     1.622692e-54  \n",
              "burr      1.089058e-56  \n",
              "beta      8.128871e-69  \n",
              "lognorm  8.006454e-115  \n",
              "norm      4.795906e-40  "
            ],
            "text/html": [
              "\n",
              "  <div id=\"df-b572f714-1431-4330-ab5b-c2e59b593c02\">\n",
              "    <div class=\"colab-df-container\">\n",
              "      <div>\n",
              "<style scoped>\n",
              "    .dataframe tbody tr th:only-of-type {\n",
              "        vertical-align: middle;\n",
              "    }\n",
              "\n",
              "    .dataframe tbody tr th {\n",
              "        vertical-align: top;\n",
              "    }\n",
              "\n",
              "    .dataframe thead th {\n",
              "        text-align: right;\n",
              "    }\n",
              "</style>\n",
              "<table border=\"1\" class=\"dataframe\">\n",
              "  <thead>\n",
              "    <tr style=\"text-align: right;\">\n",
              "      <th></th>\n",
              "      <th>sumsquare_error</th>\n",
              "      <th>aic</th>\n",
              "      <th>bic</th>\n",
              "      <th>kl_div</th>\n",
              "      <th>ks_statistic</th>\n",
              "      <th>ks_pvalue</th>\n",
              "    </tr>\n",
              "  </thead>\n",
              "  <tbody>\n",
              "    <tr>\n",
              "      <th>gamma</th>\n",
              "      <td>0.240544</td>\n",
              "      <td>860.613826</td>\n",
              "      <td>-6869.361372</td>\n",
              "      <td>inf</td>\n",
              "      <td>0.269223</td>\n",
              "      <td>1.622692e-54</td>\n",
              "    </tr>\n",
              "    <tr>\n",
              "      <th>burr</th>\n",
              "      <td>0.246205</td>\n",
              "      <td>888.264527</td>\n",
              "      <td>-6842.989746</td>\n",
              "      <td>inf</td>\n",
              "      <td>0.274488</td>\n",
              "      <td>1.089058e-56</td>\n",
              "    </tr>\n",
              "    <tr>\n",
              "      <th>beta</th>\n",
              "      <td>0.254240</td>\n",
              "      <td>829.463092</td>\n",
              "      <td>-6815.887810</td>\n",
              "      <td>inf</td>\n",
              "      <td>0.302072</td>\n",
              "      <td>8.128871e-69</td>\n",
              "    </tr>\n",
              "    <tr>\n",
              "      <th>lognorm</th>\n",
              "      <td>0.268760</td>\n",
              "      <td>1155.484096</td>\n",
              "      <td>-6775.749245</td>\n",
              "      <td>inf</td>\n",
              "      <td>0.387878</td>\n",
              "      <td>8.006454e-115</td>\n",
              "    </tr>\n",
              "    <tr>\n",
              "      <th>norm</th>\n",
              "      <td>0.279109</td>\n",
              "      <td>793.762607</td>\n",
              "      <td>-6750.596035</td>\n",
              "      <td>inf</td>\n",
              "      <td>0.230904</td>\n",
              "      <td>4.795906e-40</td>\n",
              "    </tr>\n",
              "  </tbody>\n",
              "</table>\n",
              "</div>\n",
              "      <button class=\"colab-df-convert\" onclick=\"convertToInteractive('df-b572f714-1431-4330-ab5b-c2e59b593c02')\"\n",
              "              title=\"Convert this dataframe to an interactive table.\"\n",
              "              style=\"display:none;\">\n",
              "        \n",
              "  <svg xmlns=\"http://www.w3.org/2000/svg\" height=\"24px\"viewBox=\"0 0 24 24\"\n",
              "       width=\"24px\">\n",
              "    <path d=\"M0 0h24v24H0V0z\" fill=\"none\"/>\n",
              "    <path d=\"M18.56 5.44l.94 2.06.94-2.06 2.06-.94-2.06-.94-.94-2.06-.94 2.06-2.06.94zm-11 1L8.5 8.5l.94-2.06 2.06-.94-2.06-.94L8.5 2.5l-.94 2.06-2.06.94zm10 10l.94 2.06.94-2.06 2.06-.94-2.06-.94-.94-2.06-.94 2.06-2.06.94z\"/><path d=\"M17.41 7.96l-1.37-1.37c-.4-.4-.92-.59-1.43-.59-.52 0-1.04.2-1.43.59L10.3 9.45l-7.72 7.72c-.78.78-.78 2.05 0 2.83L4 21.41c.39.39.9.59 1.41.59.51 0 1.02-.2 1.41-.59l7.78-7.78 2.81-2.81c.8-.78.8-2.07 0-2.86zM5.41 20L4 18.59l7.72-7.72 1.47 1.35L5.41 20z\"/>\n",
              "  </svg>\n",
              "      </button>\n",
              "      \n",
              "  <style>\n",
              "    .colab-df-container {\n",
              "      display:flex;\n",
              "      flex-wrap:wrap;\n",
              "      gap: 12px;\n",
              "    }\n",
              "\n",
              "    .colab-df-convert {\n",
              "      background-color: #E8F0FE;\n",
              "      border: none;\n",
              "      border-radius: 50%;\n",
              "      cursor: pointer;\n",
              "      display: none;\n",
              "      fill: #1967D2;\n",
              "      height: 32px;\n",
              "      padding: 0 0 0 0;\n",
              "      width: 32px;\n",
              "    }\n",
              "\n",
              "    .colab-df-convert:hover {\n",
              "      background-color: #E2EBFA;\n",
              "      box-shadow: 0px 1px 2px rgba(60, 64, 67, 0.3), 0px 1px 3px 1px rgba(60, 64, 67, 0.15);\n",
              "      fill: #174EA6;\n",
              "    }\n",
              "\n",
              "    [theme=dark] .colab-df-convert {\n",
              "      background-color: #3B4455;\n",
              "      fill: #D2E3FC;\n",
              "    }\n",
              "\n",
              "    [theme=dark] .colab-df-convert:hover {\n",
              "      background-color: #434B5C;\n",
              "      box-shadow: 0px 1px 3px 1px rgba(0, 0, 0, 0.15);\n",
              "      filter: drop-shadow(0px 1px 2px rgba(0, 0, 0, 0.3));\n",
              "      fill: #FFFFFF;\n",
              "    }\n",
              "  </style>\n",
              "\n",
              "      <script>\n",
              "        const buttonEl =\n",
              "          document.querySelector('#df-b572f714-1431-4330-ab5b-c2e59b593c02 button.colab-df-convert');\n",
              "        buttonEl.style.display =\n",
              "          google.colab.kernel.accessAllowed ? 'block' : 'none';\n",
              "\n",
              "        async function convertToInteractive(key) {\n",
              "          const element = document.querySelector('#df-b572f714-1431-4330-ab5b-c2e59b593c02');\n",
              "          const dataTable =\n",
              "            await google.colab.kernel.invokeFunction('convertToInteractive',\n",
              "                                                     [key], {});\n",
              "          if (!dataTable) return;\n",
              "\n",
              "          const docLinkHtml = 'Like what you see? Visit the ' +\n",
              "            '<a target=\"_blank\" href=https://colab.research.google.com/notebooks/data_table.ipynb>data table notebook</a>'\n",
              "            + ' to learn more about interactive tables.';\n",
              "          element.innerHTML = '';\n",
              "          dataTable['output_type'] = 'display_data';\n",
              "          await google.colab.output.renderOutput(dataTable, element);\n",
              "          const docLink = document.createElement('div');\n",
              "          docLink.innerHTML = docLinkHtml;\n",
              "          element.appendChild(docLink);\n",
              "        }\n",
              "      </script>\n",
              "    </div>\n",
              "  </div>\n",
              "  "
            ]
          },
          "metadata": {},
          "execution_count": 19
        },
        {
          "output_type": "display_data",
          "data": {
            "text/plain": [
              "<Figure size 432x288 with 1 Axes>"
            ],
            "image/png": "[encoded data removed]"
          },
          "metadata": {
            "needs_background": "light"
          }
        }
      ],
      "source": [
        "dates = df_req[\"date\"].values\n",
        "f = Fitter(dates, distributions=['gamma', 'lognorm', \"beta\", \"burr\", \"norm\"])\n",
        "f.fit()\n",
        "f.summary()"
      ]
    },
    {
      "cell_type": "markdown",
      "id": "7197bc02",
      "metadata": {
        "id": "7197bc02"
      },
      "source": [
        "On peut voir ici que les valeurs manquantes nous empêchent de prédire correctement la distribution des données. On va donc tester différentes techniques de data imputation pour régler ce problème."
      ]
    },
    {
      "cell_type": "code",
      "execution_count": 20,
      "id": "adIkma92L9XU",
      "metadata": {
        "id": "adIkma92L9XU"
      },
      "outputs": [],
      "source": [
        "nb_occ_date = df_req[\"date\"].value_counts().rename_axis('date').reset_index(name='nb_occ').sort_values(by = [\"date\"])\n",
        "# ajout des NaN dans le dataframe\n",
        "for d in range(0,45):\n",
        "  if d not in nb_occ_date[\"date\"].values:\n",
        "    nb_occ_date = nb_occ_date.append({'date':d, 'nb_occ':np.nan}, ignore_index=True)\n",
        "nb_occ_date = nb_occ_date.sort_values(by = [\"date\"])"
      ]
    },
    {
      "cell_type": "markdown",
      "id": "c6Ze9GhPbPjD",
      "metadata": {
        "id": "c6Ze9GhPbPjD"
      },
      "source": [
        "Nous allons effectuer une imputation à l'aide de l'algorithme MissForest."
      ]
    },
    {
      "cell_type": "code",
      "execution_count": null,
      "id": "9RHUXDYNbUQe",
      "metadata": {
        "colab": {
          "base_uri": "https://localhost:8080/"
        },
        "id": "9RHUXDYNbUQe",
        "outputId": "62c85f5e-33a6-45ac-b56e-5e3609c3cd1b"
      },
      "outputs": [
        {
          "output_type": "stream",
          "name": "stdout",
          "text": [
            "Iteration: 0\n",
            "Iteration: 1\n",
            "Iteration: 2\n",
            "Iteration: 3\n",
            "Iteration: 4\n",
            "Iteration: 5\n"
          ]
        }
      ],
      "source": [
        "# data imputation\n",
        "imp = MissForest()\n",
        "nb_occ_date_mf = imp.fit_transform(nb_occ_date)"
      ]
    },
    {
      "cell_type": "markdown",
      "id": "Vw6ez2Z8WJZe",
      "metadata": {
        "id": "Vw6ez2Z8WJZe"
      },
      "source": [
        "Affichons maintenant le nombre d'occurrences de chaque date après l'imputation."
      ]
    },
    {
      "cell_type": "code",
      "execution_count": null,
      "id": "_4mnfbZLVPks",
      "metadata": {
        "colab": {
          "base_uri": "https://localhost:8080/",
          "height": 282
        },
        "id": "_4mnfbZLVPks",
        "outputId": "fee2fe4b-68e0-418d-bc97-92553b7f4e26"
      },
      "outputs": [
        {
          "output_type": "execute_result",
          "data": {
            "text/plain": [
              "[<matplotlib.lines.Line2D at 0x7f7c3f701d50>]"
            ]
          },
          "metadata": {},
          "execution_count": 69
        },
        {
          "output_type": "display_data",
          "data": {
            "text/plain": [
              "<Figure size 432x288 with 1 Axes>"
            ],
            "image/png": "[encoded data removed]"
          },
          "metadata": {
            "needs_background": "light"
          }
        }
      ],
      "source": [
        "df_filled_mf = pd.DataFrame(nb_occ_date_mf, columns = [\"date\", \"nb_occ\"])\n",
        "plt.plot(df_filled_mf[\"date\"], df_filled_mf[\"nb_occ\"])"
      ]
    },
    {
      "cell_type": "markdown",
      "id": "eZAuqmA2bVpK",
      "metadata": {
        "id": "eZAuqmA2bVpK"
      },
      "source": [
        "Nous allons maintenant utiliser l'algorithme KNNImputer et comparer les résultats."
      ]
    },
    {
      "cell_type": "code",
      "execution_count": 21,
      "id": "aRZkDiB3bJim",
      "metadata": {
        "id": "aRZkDiB3bJim"
      },
      "outputs": [],
      "source": [
        "imputer = KNNImputer(n_neighbors=8)\n",
        "nb_occ_date_knn = imputer.fit_transform(nb_occ_date)"
      ]
    },
    {
      "cell_type": "code",
      "execution_count": 22,
      "id": "UlwVd02eblbS",
      "metadata": {
        "id": "UlwVd02eblbS"
      },
      "outputs": [],
      "source": [
        "df_filled_knn = pd.DataFrame(nb_occ_date_knn, columns = [\"date\", \"nb_occ\"])\n",
        "df_knn = df_filled_knn.copy()\n",
        "# créer dataframe avec nb_occ fois chaque date\n",
        "for index, row in df_filled_knn.iterrows():\n",
        "  for i in range(1, int(row[\"nb_occ\"])): # on commence à 1 car on a déjà 1 fois chaque valeur dans le df\n",
        "    df_knn = df_knn.append({'date':row[\"date\"], 'nb_occ':row[\"nb_occ\"]}, ignore_index = True)\n",
        "#plt.plot(df_filled_knn[\"date\"], df_filled_knn[\"nb_occ\"])\n",
        "df_knn['nb_occ'] = df_knn['nb_occ'].astype(int)"
      ]
    },
    {
      "cell_type": "code",
      "execution_count": null,
      "id": "YhnssAkguV-s",
      "metadata": {
        "colab": {
          "base_uri": "https://localhost:8080/",
          "height": 525
        },
        "id": "YhnssAkguV-s",
        "outputId": "d93ef60d-d633-4a5d-8224-ed840e000e1a"
      },
      "outputs": [
        {
          "output_type": "execute_result",
          "data": {
            "text/plain": [
              "(array([58., 58., 60., 56., 56., 59., 57., 54., 51., 51., 48., 42., 39.,\n",
              "        35., 35., 34., 34., 33., 34., 29., 33., 33., 32., 32., 32., 32.,\n",
              "        31., 31., 31., 31., 31., 30., 30., 30., 28., 33., 30., 30., 33.,\n",
              "        29., 27., 30., 30., 30., 30.]),\n",
              " array([ 0.        ,  0.97777778,  1.95555556,  2.93333333,  3.91111111,\n",
              "         4.88888889,  5.86666667,  6.84444444,  7.82222222,  8.8       ,\n",
              "         9.77777778, 10.75555556, 11.73333333, 12.71111111, 13.68888889,\n",
              "        14.66666667, 15.64444444, 16.62222222, 17.6       , 18.57777778,\n",
              "        19.55555556, 20.53333333, 21.51111111, 22.48888889, 23.46666667,\n",
              "        24.44444444, 25.42222222, 26.4       , 27.37777778, 28.35555556,\n",
              "        29.33333333, 30.31111111, 31.28888889, 32.26666667, 33.24444444,\n",
              "        34.22222222, 35.2       , 36.17777778, 37.15555556, 38.13333333,\n",
              "        39.11111111, 40.08888889, 41.06666667, 42.04444444, 43.02222222,\n",
              "        44.        ]),\n",
              " <a list of 45 Patch objects>)"
            ]
          },
          "metadata": {},
          "execution_count": 72
        },
        {
          "output_type": "display_data",
          "data": {
            "text/plain": [
              "<Figure size 432x288 with 1 Axes>"
            ],
            "image/png": "[encoded data removed]"
          },
          "metadata": {
            "needs_background": "light"
          }
        }
      ],
      "source": [
        "plt.hist(df_knn[\"date\"], bins= 45) # attention au nombre de bins"
      ]
    },
    {
      "cell_type": "markdown",
      "id": "zmjXE_Z2clxA",
      "metadata": {
        "id": "zmjXE_Z2clxA"
      },
      "source": [
        "Les résultats semblent s'approcher bien plus d'une distribution réaliste des valeurs, on va maintenant pouvoir approximer cette distribution de valeurs."
      ]
    },
    {
      "cell_type": "code",
      "execution_count": 23,
      "id": "mCHOnsBkddii",
      "metadata": {
        "colab": {
          "base_uri": "https://localhost:8080/",
          "height": 265
        },
        "id": "mCHOnsBkddii",
        "outputId": "c6675049-7a67-438b-e92d-d846aa8abfb6"
      },
      "outputs": [
        {
          "output_type": "display_data",
          "data": {
            "text/plain": [
              "<Figure size 432x288 with 1 Axes>"
            ],
            "image/png": "[encoded data removed]"
          },
          "metadata": {
            "needs_background": "light"
          }
        }
      ],
      "source": [
        "X = df_filled_knn[\"date\"].values.reshape(-1, 1)\n",
        "y = df_filled_knn[\"nb_occ\"].values.reshape(-1, 1)\n",
        "models = []\n",
        "for count, degree in enumerate([5]): # degré à chosir\n",
        "    model = make_pipeline(PolynomialFeatures(degree), Ridge(alpha=0.001))\n",
        "    model.fit(X, y)\n",
        "    models.append(model)\n",
        "    y_pred = model.predict(X)\n",
        "    plt.plot(X, y_pred, linewidth=2, label='degree %d' % degree)\n",
        "plt.legend(loc='upper right')\n",
        "plt.scatter(X, y, s=20, marker='o', label='training points', c = \"black\")\n",
        "plt.hist(df_req[\"date\"], bins= 41) # attention au nombre de bins\n",
        "plt.show()"
      ]
    },
    {
      "cell_type": "markdown",
      "source": [
        "TO DO : Essayer de trouver sur internet un graphe de l'évolution des prix des chambres d'hôtel en fonction de la date de réservation et comparer à ce qu'on a obtenu ici."
      ],
      "metadata": {
        "id": "PoBc7IwxBGfI"
      },
      "id": "PoBc7IwxBGfI"
    },
    {
      "cell_type": "markdown",
      "source": [
        "# Etude du language"
      ],
      "metadata": {
        "id": "5lb7PsMianby"
      },
      "id": "5lb7PsMianby"
    },
    {
      "cell_type": "markdown",
      "source": [
        "Tout d'abordd récupérons le dataframe avec une ligne par requête et non par hôtel retourné."
      ],
      "metadata": {
        "id": "bwvl8ngRbLJ_"
      },
      "id": "bwvl8ngRbLJ_"
    },
    {
      "cell_type": "code",
      "source": [
        "df_lang = df.drop_duplicates(subset=['order_requests'])\n",
        "df_lang[\"language\"].value_counts()"
      ],
      "metadata": {
        "colab": {
          "base_uri": "https://localhost:8080/"
        },
        "id": "IEhSERWzaqAQ",
        "outputId": "45806081-194e-4667-dab2-c318eedc9e47"
      },
      "id": "IEhSERWzaqAQ",
      "execution_count": null,
      "outputs": [
        {
          "output_type": "execute_result",
          "data": {
            "text/plain": [
              "hungarian        120\n",
              "finnish           59\n",
              "austrian          58\n",
              "slovakian         56\n",
              "romanian          53\n",
              "swedish           52\n",
              "bulgarian         52\n",
              "estonian          49\n",
              "danish            46\n",
              "maltese           25\n",
              "irish             23\n",
              "slovene           22\n",
              "spanish           21\n",
              "greek             20\n",
              "belgian           20\n",
              "french            18\n",
              "dutch             16\n",
              "latvian           16\n",
              "polish            15\n",
              "italian           15\n",
              "lithuanian        14\n",
              "czech             14\n",
              "cypriot           13\n",
              "luxembourgish     13\n",
              "croatian          12\n",
              "german            12\n",
              "portuguese        10\n",
              "Name: language, dtype: int64"
            ]
          },
          "metadata": {},
          "execution_count": 14
        }
      ]
    },
    {
      "cell_type": "markdown",
      "source": [
        "La distribution des langues par requête semble être répartie en 3 classes. Il serait intéressant d'oberser les cardinalités des tuples (city, language) pour voir si il y a des choses à remarquer de ce côté là."
      ],
      "metadata": {
        "id": "FQlxV6aRcmok"
      },
      "id": "FQlxV6aRcmok"
    },
    {
      "cell_type": "code",
      "source": [
        "dico_tuple = {}\n",
        "for index, row in df_lang.iterrows():\n",
        "  crt_tuple = (row[\"city\"], row[\"language\"])\n",
        "  if crt_tuple in dico_tuple.keys():\n",
        "    dico_tuple[crt_tuple] +=1\n",
        "  else:\n",
        "    dico_tuple[crt_tuple] = 1\n",
        "list_tuple= sorted(dico_tuple.items(), key=operator.itemgetter(1)) \n",
        "sort_dict_tuple = dict(list_tuple)\n",
        "print(sort_dict_tuple)"
      ],
      "metadata": {
        "colab": {
          "base_uri": "https://localhost:8080/"
        },
        "id": "P7X4jaPdc93r",
        "outputId": "7b808fb1-2dbd-4bbe-b12f-6dad414120a1"
      },
      "id": "P7X4jaPdc93r",
      "execution_count": null,
      "outputs": [
        {
          "output_type": "stream",
          "name": "stdout",
          "text": [
            "{('paris', 'greek'): 1, ('paris', 'polish'): 1, ('amsterdam', 'belgian'): 1, ('madrid', 'lithuanian'): 1, ('vilnius', 'lithuanian'): 1, ('amsterdam', 'polish'): 1, ('amsterdam', 'italian'): 1, ('valletta', 'italian'): 1, ('paris', 'german'): 1, ('vilnius', 'french'): 1, ('vilnius', 'greek'): 1, ('sofia', 'greek'): 1, ('sofia', 'maltese'): 1, ('rome', 'czech'): 1, ('valletta', 'croatian'): 1, ('paris', 'czech'): 1, ('madrid', 'latvian'): 1, ('rome', 'portuguese'): 1, ('vilnius', 'belgian'): 1, ('amsterdam', 'luxembourgish'): 1, ('vilnius', 'german'): 1, ('sofia', 'german'): 1, ('rome', 'french'): 1, ('vilnius', 'slovene'): 1, ('amsterdam', 'german'): 1, ('vienna', 'portuguese'): 1, ('vienna', 'french'): 1, ('vienna', 'spanish'): 1, ('valletta', 'dutch'): 1, ('sofia', 'luxembourgish'): 1, ('vilnius', 'dutch'): 1, ('copenhagen', 'portuguese'): 1, ('vienna', 'maltese'): 1, ('valletta', 'lithuanian'): 1, ('vilnius', 'italian'): 1, ('vilnius', 'portuguese'): 1, ('rome', 'lithuanian'): 1, ('amsterdam', 'croatian'): 1, ('amsterdam', 'french'): 1, ('paris', 'croatian'): 1, ('amsterdam', 'latvian'): 1, ('madrid', 'belgian'): 2, ('madrid', 'dutch'): 2, ('valletta', 'french'): 2, ('rome', 'polish'): 2, ('paris', 'french'): 2, ('amsterdam', 'lithuanian'): 2, ('vienna', 'dutch'): 2, ('vienna', 'belgian'): 2, ('paris', 'romanian'): 2, ('vienna', 'polish'): 2, ('paris', 'cypriot'): 2, ('copenhagen', 'italian'): 2, ('sofia', 'italian'): 2, ('amsterdam', 'bulgarian'): 2, ('vilnius', 'czech'): 2, ('paris', 'maltese'): 2, ('amsterdam', 'czech'): 2, ('copenhagen', 'lithuanian'): 2, ('vilnius', 'luxembourgish'): 2, ('valletta', 'cypriot'): 2, ('amsterdam', 'portuguese'): 2, ('vienna', 'cypriot'): 2, ('rome', 'belgian'): 2, ('vienna', 'latvian'): 2, ('copenhagen', 'irish'): 2, ('madrid', 'italian'): 2, ('valletta', 'portuguese'): 2, ('sofia', 'polish'): 2, ('sofia', 'portuguese'): 2, ('sofia', 'bulgarian'): 2, ('valletta', 'czech'): 2, ('vilnius', 'croatian'): 2, ('valletta', 'slovene'): 2, ('amsterdam', 'dutch'): 2, ('copenhagen', 'cypriot'): 2, ('amsterdam', 'swedish'): 2, ('rome', 'irish'): 2, ('rome', 'spanish'): 2, ('madrid', 'maltese'): 2, ('paris', 'irish'): 2, ('vienna', 'german'): 2, ('rome', 'cypriot'): 2, ('copenhagen', 'slovene'): 2, ('copenhagen', 'czech'): 2, ('sofia', 'belgian'): 2, ('vienna', 'greek'): 2, ('vilnius', 'irish'): 2, ('sofia', 'french'): 2, ('paris', 'spanish'): 2, ('sofia', 'irish'): 2, ('rome', 'italian'): 2, ('vienna', 'lithuanian'): 2, ('amsterdam', 'slovakian'): 3, ('copenhagen', 'greek'): 3, ('madrid', 'croatian'): 3, ('madrid', 'german'): 3, ('vienna', 'austrian'): 3, ('madrid', 'spanish'): 3, ('madrid', 'cypriot'): 3, ('copenhagen', 'polish'): 3, ('madrid', 'french'): 3, ('amsterdam', 'maltese'): 3, ('vilnius', 'spanish'): 3, ('madrid', 'greek'): 3, ('copenhagen', 'spanish'): 3, ('sofia', 'slovene'): 3, ('madrid', 'slovene'): 3, ('rome', 'austrian'): 3, ('copenhagen', 'luxembourgish'): 3, ('vienna', 'slovene'): 3, ('paris', 'danish'): 3, ('valletta', 'german'): 3, ('sofia', 'spanish'): 3, ('madrid', 'irish'): 3, ('valletta', 'estonian'): 3, ('valletta', 'swedish'): 4, ('copenhagen', 'danish'): 4, ('sofia', 'dutch'): 4, ('vienna', 'croatian'): 4, ('paris', 'lithuanian'): 4, ('sofia', 'danish'): 4, ('paris', 'latvian'): 4, ('amsterdam', 'greek'): 4, ('valletta', 'spanish'): 4, ('paris', 'italian'): 4, ('vilnius', 'latvian'): 4, ('amsterdam', 'slovene'): 4, ('paris', 'dutch'): 4, ('vilnius', 'slovakian'): 4, ('vilnius', 'maltese'): 4, ('madrid', 'romanian'): 4, ('copenhagen', 'bulgarian'): 4, ('vilnius', 'estonian'): 4, ('valletta', 'danish'): 4, ('vienna', 'czech'): 4, ('vienna', 'bulgarian'): 4, ('rome', 'slovene'): 4, ('sofia', 'latvian'): 4, ('vienna', 'irish'): 4, ('vilnius', 'polish'): 4, ('valletta', 'belgian'): 5, ('paris', 'austrian'): 5, ('copenhagen', 'french'): 5, ('paris', 'belgian'): 5, ('rome', 'bulgarian'): 5, ('paris', 'bulgarian'): 5, ('vienna', 'romanian'): 5, ('rome', 'maltese'): 5, ('madrid', 'estonian'): 5, ('rome', 'finnish'): 5, ('valletta', 'slovakian'): 5, ('amsterdam', 'danish'): 5, ('vienna', 'swedish'): 5, ('amsterdam', 'finnish'): 5, ('copenhagen', 'estonian'): 5, ('rome', 'romanian'): 5, ('rome', 'greek'): 5, ('madrid', 'slovakian'): 5, ('copenhagen', 'finnish'): 5, ('madrid', 'swedish'): 5, ('sofia', 'finnish'): 5, ('vilnius', 'romanian'): 6, ('madrid', 'luxembourgish'): 6, ('rome', 'danish'): 6, ('vilnius', 'swedish'): 6, ('valletta', 'romanian'): 6, ('vilnius', 'danish'): 6, ('madrid', 'danish'): 6, ('rome', 'estonian'): 6, ('amsterdam', 'irish'): 6, ('copenhagen', 'romanian'): 6, ('sofia', 'swedish'): 6, ('vienna', 'estonian'): 6, ('madrid', 'finnish'): 6, ('amsterdam', 'estonian'): 6, ('paris', 'estonian'): 6, ('vilnius', 'austrian'): 6, ('paris', 'swedish'): 7, ('valletta', 'maltese'): 7, ('paris', 'slovakian'): 7, ('copenhagen', 'austrian'): 7, ('sofia', 'slovakian'): 7, ('valletta', 'austrian'): 7, ('vienna', 'finnish'): 7, ('rome', 'slovakian'): 7, ('sofia', 'austrian'): 8, ('sofia', 'estonian'): 8, ('madrid', 'bulgarian'): 8, ('vilnius', 'finnish'): 8, ('vienna', 'danish'): 8, ('rome', 'swedish'): 8, ('valletta', 'finnish'): 9, ('copenhagen', 'swedish'): 9, ('madrid', 'austrian'): 9, ('sofia', 'romanian'): 9, ('paris', 'finnish'): 9, ('copenhagen', 'slovakian'): 9, ('vienna', 'slovakian'): 9, ('valletta', 'bulgarian'): 9, ('amsterdam', 'austrian'): 10, ('copenhagen', 'hungarian'): 10, ('madrid', 'hungarian'): 10, ('amsterdam', 'romanian'): 10, ('vilnius', 'hungarian'): 11, ('vienna', 'hungarian'): 11, ('valletta', 'hungarian'): 12, ('vilnius', 'bulgarian'): 13, ('rome', 'hungarian'): 13, ('sofia', 'hungarian'): 16, ('amsterdam', 'hungarian'): 18, ('paris', 'hungarian'): 19}\n"
          ]
        }
      ]
    },
    {
      "cell_type": "markdown",
      "source": [
        "Pas grand chose d'intéressant ici, observons maintenant la distribution des langues par ville pour voir si c'est similaire ou très différent."
      ],
      "metadata": {
        "id": "uSt7mW_qemcJ"
      },
      "id": "uSt7mW_qemcJ"
    },
    {
      "cell_type": "code",
      "source": [
        "def distrib_lang_per_city(df, city):\n",
        "  df_per_request = df.drop_duplicates(subset=['order_requests'])\n",
        "  df_city = df_per_request[df_per_request[\"city\"] == city]\n",
        "  plt.figure(figsize=(20,12))\n",
        "  plt.hist(df_city[\"language\"], bins = df_city[\"language\"].nunique())\n",
        "  return"
      ],
      "metadata": {
        "id": "TzIuvkDpewdu"
      },
      "id": "TzIuvkDpewdu",
      "execution_count": null,
      "outputs": []
    },
    {
      "cell_type": "code",
      "source": [
        "distrib_lang_per_city(df, \"vilnius\")"
      ],
      "metadata": {
        "colab": {
          "base_uri": "https://localhost:8080/",
          "height": 700
        },
        "id": "vT9UhqXefaD3",
        "outputId": "3dd837a7-ebbb-490f-a9f6-6c6bda97327d"
      },
      "id": "vT9UhqXefaD3",
      "execution_count": null,
      "outputs": [
        {
          "output_type": "display_data",
          "data": {
            "text/plain": [
              "<Figure size 1440x864 with 1 Axes>"
            ],
            "image/png": "[encoded data removed]"
          },
          "metadata": {
            "needs_background": "light"
          }
        }
      ]
    },
    {
      "cell_type": "markdown",
      "source": [
        "Caractérisons maintenant les 3 groupes de langue du test set (par ordre décroissant de fréquence). <br>\n",
        "G1 = [\"hungarian\"] <br> mean_G1 = 120 req <br>\n",
        "G2 = [\"finnish\", \"austrian\", \"slovakian\", \"romanian\", \"swedish\", \"bulgarian\", \"estonian\", \"danish\"] <br> mean_G2 = 53.125 <br>\n",
        "G3 = [\"maltese\", \"irish\", \"slovene\", \"spanish\", \"greek\", \"belgian\", \"french\", \"dutch\", \"latvian\", \"polish\", \"italian\", \"lithuanian\", \"czech\", \"cypriot\", \"luxembourgish\", \"croatian\", \"german\", \"portuguese\"] <br> mean_G3 = 16.61 <br>\n",
        "**Ces groupes seront peut-être utilisables plus tard donc autant les garder en mémoire.**"
      ],
      "metadata": {
        "id": "GOHRJbffidjS"
      },
      "id": "GOHRJbffidjS"
    },
    {
      "cell_type": "markdown",
      "source": [
        "# Etude du support (pc/phone)"
      ],
      "metadata": {
        "id": "y5d6CXp5E0zY"
      },
      "id": "y5d6CXp5E0zY"
    },
    {
      "cell_type": "markdown",
      "source": [
        "Nous allons séparer le dataframe en 2 en fonction du support et étudier les différences de distribution des autres variables en fonction de celle-ci."
      ],
      "metadata": {
        "id": "WfEyBRrrFrb_"
      },
      "id": "WfEyBRrrFrb_"
    },
    {
      "cell_type": "code",
      "source": [
        "df_cp = df_req[df_req[\"mobile\"] == 0] # computer\n",
        "df_ph = df_req[df_req[\"mobile\"] == 1] # phone\n",
        "print(len(df_cp))\n",
        "print(len(df_ph))\n",
        "print(df_cp[\"date\"].mean(), \"date mean cp\")\n",
        "print(df_ph[\"date\"].mean(), \"date mean ph\")\n",
        "print(df_cp[\"stock\"].mean(), \"stock mean cp\")\n",
        "print(df_ph[\"stock\"].mean(), \"stock mean ph\")"
      ],
      "metadata": {
        "colab": {
          "base_uri": "https://localhost:8080/"
        },
        "id": "aZpy7u3eE4xb",
        "outputId": "aa2a5c8f-8f78-4d1e-d935-6e41be8a1240"
      },
      "id": "aZpy7u3eE4xb",
      "execution_count": 7,
      "outputs": [
        {
          "output_type": "stream",
          "name": "stdout",
          "text": [
            "453\n",
            "391\n",
            "16.973509933774835 date mean cp\n",
            "13.838874680306905 date mean ph\n",
            "31.69757174392936 stock mean cp\n",
            "23.84910485933504 stock mean ph\n"
          ]
        }
      ]
    },
    {
      "cell_type": "markdown",
      "source": [
        "Il pourrait être très intéressant de mener une **Analyse Factorielle ici (à voir laquelle) sur RStudio** afin de pouvoir identifier des liens entres les variables (qui sont quantitatives et qualitatives) du jeu de données. <br>\n",
        "Par exemple on peut voir ici, qu'en moyenne, dans le jeu de données de test les recherches par téléphone sont faites à des dates plus proches de la date de réservation (ce qui paraît assez intuitif) que les recherches faites sur ordinateur."
      ],
      "metadata": {
        "id": "LxLKW2r2IyNG"
      },
      "id": "LxLKW2r2IyNG"
    },
    {
      "cell_type": "code",
      "source": [
        "fig, (ax1, ax2) = plt.subplots(1, 2)\n",
        "fig.suptitle('Distribution des dates en fonction du support')\n",
        "ax1.hist(df_cp[\"date\"], bins= 41) # computer\n",
        "ax2.hist(df_ph[\"date\"], bins= 41) # phone"
      ],
      "metadata": {
        "id": "aMXoOYsTWkna",
        "outputId": "943f2f1f-de23-4979-975f-f560f1df40fc",
        "colab": {
          "base_uri": "https://localhost:8080/",
          "height": 537
        }
      },
      "id": "aMXoOYsTWkna",
      "execution_count": 8,
      "outputs": [
        {
          "output_type": "execute_result",
          "data": {
            "text/plain": [
              "(array([31., 31., 32., 27., 29., 27., 30.,  0.,  0.,  0.,  0.,  0.,  0.,\n",
              "         0.,  0., 11., 10., 17., 19., 16., 17., 19.,  0.,  0.,  0.,  0.,\n",
              "         0.,  0.,  0.,  0.,  0.,  0.,  0.,  0.,  4., 13.,  8., 10., 13.,\n",
              "        18.,  9.]),\n",
              " array([ 0.        ,  0.97560976,  1.95121951,  2.92682927,  3.90243902,\n",
              "         4.87804878,  5.85365854,  6.82926829,  7.80487805,  8.7804878 ,\n",
              "         9.75609756, 10.73170732, 11.70731707, 12.68292683, 13.65853659,\n",
              "        14.63414634, 15.6097561 , 16.58536585, 17.56097561, 18.53658537,\n",
              "        19.51219512, 20.48780488, 21.46341463, 22.43902439, 23.41463415,\n",
              "        24.3902439 , 25.36585366, 26.34146341, 27.31707317, 28.29268293,\n",
              "        29.26829268, 30.24390244, 31.2195122 , 32.19512195, 33.17073171,\n",
              "        34.14634146, 35.12195122, 36.09756098, 37.07317073, 38.04878049,\n",
              "        39.02439024, 40.        ]),\n",
              " <a list of 41 Patch objects>)"
            ]
          },
          "metadata": {},
          "execution_count": 8
        },
        {
          "output_type": "display_data",
          "data": {
            "text/plain": [
              "<Figure size 432x288 with 2 Axes>"
            ],
            "image/png": "[encoded data removed]"
          },
          "metadata": {
            "needs_background": "light"
          }
        }
      ]
    },
    {
      "cell_type": "markdown",
      "source": [
        "Comme avant pour la distribution des dates, on va imputer les valeurs manquantes pour pouvoir estimer la distribution des dates pour chaque groupe (computer/phone)."
      ],
      "metadata": {
        "id": "7Hnhrs4XYvvd"
      },
      "id": "7Hnhrs4XYvvd"
    },
    {
      "cell_type": "code",
      "source": [
        "# computer\n",
        "nb_occ_date = df_cp[\"date\"].value_counts().rename_axis('date').reset_index(name='nb_occ').sort_values(by = [\"date\"])\n",
        "for d in range(0,45):\n",
        "  if d not in nb_occ_date[\"date\"].values:\n",
        "    nb_occ_date = nb_occ_date.append({'date':d, 'nb_occ':np.nan}, ignore_index=True)\n",
        "nb_occ_date = nb_occ_date.sort_values(by = [\"date\"])\n",
        "imputer = KNNImputer(n_neighbors=8)\n",
        "nb_occ_date_knn = imputer.fit_transform(nb_occ_date)\n",
        "df_filled_knn = pd.DataFrame(nb_occ_date_knn, columns = [\"date\", \"nb_occ\"])\n",
        "df_knn = df_filled_knn.copy()\n",
        "# créer dataframe avec nb_occ fois chaque date\n",
        "for index, row in df_filled_knn.iterrows():\n",
        "  for i in range(1, int(row[\"nb_occ\"])): # on commence à 1 car on a déjà 1 fois chaque valeur dans le df\n",
        "    df_knn = df_knn.append({'date':row[\"date\"], 'nb_occ':row[\"nb_occ\"]}, ignore_index = True)\n",
        "df_knn['nb_occ'] = df_knn['nb_occ'].astype(int)\n",
        "X = df_filled_knn[\"date\"].values.reshape(-1, 1)\n",
        "y = df_filled_knn[\"nb_occ\"].values.reshape(-1, 1)\n",
        "models = []\n",
        "for count, degree in enumerate([3]): # degré à chosir\n",
        "    model = make_pipeline(PolynomialFeatures(degree), Ridge(alpha=0.001))\n",
        "    model.fit(X, y)\n",
        "    models.append(model)\n",
        "    y_pred_cp = model.predict(X)\n",
        "    plt.plot(X, y_pred_cp, linewidth=2, label='degree %d' % degree)\n",
        "plt.legend(loc='upper right')\n",
        "plt.scatter(X, y, s=20, marker='o', label='training points', c = \"black\")\n",
        "plt.hist(df_cp[\"date\"], bins= 41) # attention au nombre de bins\n",
        "plt.show()"
      ],
      "metadata": {
        "id": "jND49LTbeNfI",
        "outputId": "64e34f64-770f-4504-fedf-adb79b6f919d",
        "colab": {
          "base_uri": "https://localhost:8080/",
          "height": 265
        }
      },
      "id": "jND49LTbeNfI",
      "execution_count": 9,
      "outputs": [
        {
          "output_type": "display_data",
          "data": {
            "text/plain": [
              "<Figure size 432x288 with 1 Axes>"
            ],
            "image/png": "[encoded data removed]"
          },
          "metadata": {
            "needs_background": "light"
          }
        }
      ]
    },
    {
      "cell_type": "code",
      "source": [
        "# phone\n",
        "nb_occ_date = df_ph[\"date\"].value_counts().rename_axis('date').reset_index(name='nb_occ').sort_values(by = [\"date\"])\n",
        "for d in range(0,45):\n",
        "  if d not in nb_occ_date[\"date\"].values:\n",
        "    nb_occ_date = nb_occ_date.append({'date':d, 'nb_occ':np.nan}, ignore_index=True)\n",
        "nb_occ_date = nb_occ_date.sort_values(by = [\"date\"])\n",
        "imputer = KNNImputer(n_neighbors=8)\n",
        "nb_occ_date_knn = imputer.fit_transform(nb_occ_date)\n",
        "df_filled_knn = pd.DataFrame(nb_occ_date_knn, columns = [\"date\", \"nb_occ\"])\n",
        "df_knn = df_filled_knn.copy()\n",
        "# créer dataframe avec nb_occ fois chaque date\n",
        "for index, row in df_filled_knn.iterrows():\n",
        "  for i in range(1, int(row[\"nb_occ\"])): # on commence à 1 car on a déjà 1 fois chaque valeur dans le df\n",
        "    df_knn = df_knn.append({'date':row[\"date\"], 'nb_occ':row[\"nb_occ\"]}, ignore_index = True)\n",
        "df_knn['nb_occ'] = df_knn['nb_occ'].astype(int)\n",
        "X = df_filled_knn[\"date\"].values.reshape(-1, 1)\n",
        "y = df_filled_knn[\"nb_occ\"].values.reshape(-1, 1)\n",
        "models = []\n",
        "for count, degree in enumerate([3]): # degré à chosir\n",
        "    model = make_pipeline(PolynomialFeatures(degree), Ridge(alpha=0.001))\n",
        "    model.fit(X, y)\n",
        "    models.append(model)\n",
        "    y_pred_ph = model.predict(X)\n",
        "    plt.plot(X, y_pred_ph, linewidth=2, label='degree %d' % degree)\n",
        "plt.legend(loc='upper right')\n",
        "plt.scatter(X, y, s=20, marker='o', label='training points', c = \"black\")\n",
        "plt.hist(df_ph[\"date\"], bins= 41) # attention au nombre de bins\n",
        "plt.show()"
      ],
      "metadata": {
        "id": "ovnqgiTHfWJS",
        "outputId": "5a16449b-9c97-427d-b3ca-0d051d55778f",
        "colab": {
          "base_uri": "https://localhost:8080/",
          "height": 265
        }
      },
      "id": "ovnqgiTHfWJS",
      "execution_count": 10,
      "outputs": [
        {
          "output_type": "display_data",
          "data": {
            "text/plain": [
              "<Figure size 432x288 with 1 Axes>"
            ],
            "image/png": "[encoded data removed]"
          },
          "metadata": {
            "needs_background": "light"
          }
        }
      ]
    },
    {
      "cell_type": "markdown",
      "source": [
        "On voit clairement que les distributions des dates sont différentes selon la modalité de la variable support. Afin d'établir au mieux notre stratégie de requêtage, nous allons maintenant vérifier que la distribution de cette variable soit elle-même uniforme."
      ],
      "metadata": {
        "id": "j_PyUfNIgTOF"
      },
      "id": "j_PyUfNIgTOF"
    },
    {
      "cell_type": "code",
      "source": [
        "support_counts = list(df_req[\"mobile\"].value_counts())\n",
        "chisquare(support_counts)"
      ],
      "metadata": {
        "id": "wDM3eE5Fgj8F",
        "outputId": "a5c82524-51d2-478c-c47b-e63f826cb0f6",
        "colab": {
          "base_uri": "https://localhost:8080/"
        }
      },
      "id": "wDM3eE5Fgj8F",
      "execution_count": 13,
      "outputs": [
        {
          "output_type": "execute_result",
          "data": {
            "text/plain": [
              "Power_divergenceResult(statistic=4.5545023696682465, pvalue=0.03283230348154647)"
            ]
          },
          "metadata": {},
          "execution_count": 13
        }
      ]
    },
    {
      "cell_type": "markdown",
      "source": [
        "La pvaleur est < à 0.05, la distribution des valeurs ne semble pas uniforme pour la variable support. Nous allons donc considérer la distribution empirique comme si c'était la théorique. (pas sûr qu'on doive faire ça ptdr)"
      ],
      "metadata": {
        "id": "QFdllOdSh1dp"
      },
      "id": "QFdllOdSh1dp"
    },
    {
      "cell_type": "code",
      "source": [
        "computer_part = support_counts[0]/sum(support_counts)\n",
        "print(\"Part des ordinateurs : \", computer_part)\n",
        "mobile_part = support_counts[1]/sum(support_counts)\n",
        "print(\"Part des téléphones : \", mobile_part)"
      ],
      "metadata": {
        "id": "wxxjwi4Mia2p",
        "outputId": "0b61750e-072b-429c-aedd-5b1981b958cc",
        "colab": {
          "base_uri": "https://localhost:8080/"
        }
      },
      "id": "wxxjwi4Mia2p",
      "execution_count": 14,
      "outputs": [
        {
          "output_type": "stream",
          "name": "stdout",
          "text": [
            "Part des ordinateurs :  0.5367298578199052\n",
            "Part des téléphones :  0.46327014218009477\n"
          ]
        }
      ]
    },
    {
      "cell_type": "markdown",
      "source": [
        "Pour approximer et avoir un code plus lisible (et une démarche plus compréhensible), nous allons approximer ces valeurs par 7/13 et 6/13. Vérifions maintenant que la distribution se fait bien selon ces fréquences."
      ],
      "metadata": {
        "id": "-WprMSnCjMOf"
      },
      "id": "-WprMSnCjMOf"
    },
    {
      "cell_type": "code",
      "source": [
        "support_counts = list(df_req[\"mobile\"].value_counts())\n",
        "chisquare(support_counts, f_exp = [7/13*len(df_req), 6/13*len(df_req)])"
      ],
      "metadata": {
        "id": "y3qxWXxdjLn5",
        "outputId": "3c71bbf4-1d8f-495f-a9db-8b5c6494e161",
        "colab": {
          "base_uri": "https://localhost:8080/"
        }
      },
      "id": "y3qxWXxdjLn5",
      "execution_count": 15,
      "outputs": [
        {
          "output_type": "execute_result",
          "data": {
            "text/plain": [
              "Power_divergenceResult(statistic=0.010183931392462075, pvalue=0.9196175652422924)"
            ]
          },
          "metadata": {},
          "execution_count": 15
        }
      ]
    },
    {
      "cell_type": "markdown",
      "source": [
        "Le choix de ces valeurs semble être le bon, maintenant nous savons qu'au final il faudra obtenir 7/13 de mobile = computer et 6/13 de mobile = phone. Sauf que la distribution de ces modalités diffère selon la date, il nous reste donc à inférer cette distribution."
      ],
      "metadata": {
        "id": "1R0F-snHl1SS"
      },
      "id": "1R0F-snHl1SS"
    },
    {
      "cell_type": "code",
      "source": [
        "cp_prop_list = [] # proba que mobile = 0 à une date donnée, A CONSERVER\n",
        "for i in range(0, len(y_pred_cp)):\n",
        "  cp_prop_list.append(y_pred_cp[i][0]/(y_pred_cp[i][0]+y_pred_ph[i][0])) # j'ai rajoute les \"[0]\" car c'est des listes d'array à la base (format très bizarre)"
      ],
      "metadata": {
        "id": "KCCXswVKmJrF"
      },
      "id": "KCCXswVKmJrF",
      "execution_count": 17,
      "outputs": []
    },
    {
      "cell_type": "code",
      "source": [
        "# transformation du format des listes de prédiciton, le format était chiant\n",
        "pred = []\n",
        "for x in y_pred: # faut exécuter la partie date avant\n",
        "  pred.append(x[0])\n",
        "pred_cp = []\n",
        "for x in y_pred_cp:\n",
        "  pred_cp.append(x[0])\n",
        "pred_ph = []\n",
        "for x in y_pred_ph:\n",
        "  pred_ph.append(x[0])"
      ],
      "metadata": {
        "id": "E1fUBKmBo3pE"
      },
      "id": "E1fUBKmBo3pE",
      "execution_count": 24,
      "outputs": []
    },
    {
      "cell_type": "code",
      "source": [
        "cp_prop = 0\n",
        "for rank, prop in enumerate(cp_prop_list):\n",
        "  cp_prop += (pred[rank]/sum(pred)) * prop\n",
        "cp_prop"
      ],
      "metadata": {
        "id": "YWRtWSpWtbGI",
        "outputId": "094371bd-4405-431c-9bd8-9bf980cd1530",
        "colab": {
          "base_uri": "https://localhost:8080/"
        }
      },
      "id": "YWRtWSpWtbGI",
      "execution_count": 25,
      "outputs": [
        {
          "output_type": "execute_result",
          "data": {
            "text/plain": [
              "0.5487293835465759"
            ]
          },
          "metadata": {},
          "execution_count": 25
        }
      ]
    },
    {
      "cell_type": "markdown",
      "source": [
        "On voit que la proportion de computers a augmenté. En fait ceci est logique car toutes les dates ne se trouvaient pas dans le jeu de donénes de test et lorsque l'on a imputé les nouvelles valeurs on a forcément au moins légèrement altéré la distribution des modalités."
      ],
      "metadata": {
        "id": "BnFVOYjxwi9Z"
      },
      "id": "BnFVOYjxwi9Z"
    },
    {
      "cell_type": "markdown",
      "source": [
        "Au final, on peut calculer la part de requête à effectuer pour chaque date afin de suivre la distribution ci-dessus."
      ],
      "metadata": {
        "id": "4Zr23YF0xpEc"
      },
      "id": "4Zr23YF0xpEc"
    },
    {
      "cell_type": "code",
      "source": [
        "coeffs_date = [] # proba que mobile = 0 à une date donnée, A CONSERVER\n",
        "for i in range(0, len(pred)):\n",
        "  coeffs_date.append(pred[i]/sum(pred))\n",
        "coeffs_date"
      ],
      "metadata": {
        "id": "AZXT1IbpyuLM",
        "outputId": "be55c3db-318a-47b3-ec63-c329e9e3e8e0",
        "colab": {
          "base_uri": "https://localhost:8080/"
        }
      },
      "id": "AZXT1IbpyuLM",
      "execution_count": 31,
      "outputs": [
        {
          "output_type": "execute_result",
          "data": {
            "text/plain": [
              "[0.03334651431326377,\n",
              " 0.03449209367880525,\n",
              " 0.034968926862940494,\n",
              " 0.03489983306477761,\n",
              " 0.03439534793684481,\n",
              " 0.033554283787054835,\n",
              " 0.03246428978066955,\n",
              " 0.031202412142264352,\n",
              " 0.02983565435769277,\n",
              " 0.028421537376050913,\n",
              " 0.02700865981164197,\n",
              " 0.025637258145940763,\n",
              " 0.024339766929558183,\n",
              " 0.023141378984205752,\n",
              " 0.022060605604660107,\n",
              " 0.02110983676072749,\n",
              " 0.02029590129920828,\n",
              " 0.019620627145861463,\n",
              " 0.019081401507369193,\n",
              " 0.018671731073301213,\n",
              " 0.018381802218079387,\n",
              " 0.01819904120294244,\n",
              " 0.018108674377909847,\n",
              " 0.01809428838374703,\n",
              " 0.01813839035392958,\n",
              " 0.018222968116607594,\n",
              " 0.018330050396570482,\n",
              " 0.01844226701721105,\n",
              " 0.018543409102490745,\n",
              " 0.018618989278903254,\n",
              " 0.018656801877439646,\n",
              " 0.01864748313555261,\n",
              " 0.018585071399121116,\n",
              " 0.01846756732441488,\n",
              " 0.018297494080058506,\n",
              " 0.01808245754899687,\n",
              " 0.017835706530458125,\n",
              " 0.017576692941920147,\n",
              " 0.017331632021073594,\n",
              " 0.017134062527786948,\n",
              " 0.017025406946070184,\n",
              " 0.01705553168604149,\n",
              " 0.017283307285888918,\n",
              " 0.017777168613837102,\n",
              " 0.018615675070109985]"
            ]
          },
          "metadata": {},
          "execution_count": 31
        }
      ]
    },
    {
      "cell_type": "markdown",
      "source": [
        "On va maintenant sauvegarder ces coefficients sous la forme d'un csv avec les jours correspondants. Nous pourrons l'utiliser plus tard pour mettre en place la stratégie de requêtage."
      ],
      "metadata": {
        "id": "zeMM9qbpcFzw"
      },
      "id": "zeMM9qbpcFzw"
    },
    {
      "cell_type": "code",
      "source": [
        "coeffs_date = pd.DataFrame(data = list(zip(list(range(0, 45)), coeffs_date)), columns = [\"date\", \"coeff\"])\n",
        "coeffs_date # ça crée une sorte de double index peut-être qu'on pourrait s'en passer mais osef"
      ],
      "metadata": {
        "colab": {
          "base_uri": "https://localhost:8080/",
          "height": 1000
        },
        "id": "WLKr2vzzgwS5",
        "outputId": "b45d5026-c678-424b-ca7b-916defb2d81e"
      },
      "id": "WLKr2vzzgwS5",
      "execution_count": 32,
      "outputs": [
        {
          "output_type": "execute_result",
          "data": {
            "text/plain": [
              "    date     coeff\n",
              "0      0  0.033347\n",
              "1      1  0.034492\n",
              "2      2  0.034969\n",
              "3      3  0.034900\n",
              "4      4  0.034395\n",
              "5      5  0.033554\n",
              "6      6  0.032464\n",
              "7      7  0.031202\n",
              "8      8  0.029836\n",
              "9      9  0.028422\n",
              "10    10  0.027009\n",
              "11    11  0.025637\n",
              "12    12  0.024340\n",
              "13    13  0.023141\n",
              "14    14  0.022061\n",
              "15    15  0.021110\n",
              "16    16  0.020296\n",
              "17    17  0.019621\n",
              "18    18  0.019081\n",
              "19    19  0.018672\n",
              "20    20  0.018382\n",
              "21    21  0.018199\n",
              "22    22  0.018109\n",
              "23    23  0.018094\n",
              "24    24  0.018138\n",
              "25    25  0.018223\n",
              "26    26  0.018330\n",
              "27    27  0.018442\n",
              "28    28  0.018543\n",
              "29    29  0.018619\n",
              "30    30  0.018657\n",
              "31    31  0.018647\n",
              "32    32  0.018585\n",
              "33    33  0.018468\n",
              "34    34  0.018297\n",
              "35    35  0.018082\n",
              "36    36  0.017836\n",
              "37    37  0.017577\n",
              "38    38  0.017332\n",
              "39    39  0.017134\n",
              "40    40  0.017025\n",
              "41    41  0.017056\n",
              "42    42  0.017283\n",
              "43    43  0.017777\n",
              "44    44  0.018616"
            ],
            "text/html": [
              "\n",
              "  <div id=\"df-7c7241b5-2d59-45a1-9abe-c3d007155c5b\">\n",
              "    <div class=\"colab-df-container\">\n",
              "      <div>\n",
              "<style scoped>\n",
              "    .dataframe tbody tr th:only-of-type {\n",
              "        vertical-align: middle;\n",
              "    }\n",
              "\n",
              "    .dataframe tbody tr th {\n",
              "        vertical-align: top;\n",
              "    }\n",
              "\n",
              "    .dataframe thead th {\n",
              "        text-align: right;\n",
              "    }\n",
              "</style>\n",
              "<table border=\"1\" class=\"dataframe\">\n",
              "  <thead>\n",
              "    <tr style=\"text-align: right;\">\n",
              "      <th></th>\n",
              "      <th>date</th>\n",
              "      <th>coeff</th>\n",
              "    </tr>\n",
              "  </thead>\n",
              "  <tbody>\n",
              "    <tr>\n",
              "      <th>0</th>\n",
              "      <td>0</td>\n",
              "      <td>0.033347</td>\n",
              "    </tr>\n",
              "    <tr>\n",
              "      <th>1</th>\n",
              "      <td>1</td>\n",
              "      <td>0.034492</td>\n",
              "    </tr>\n",
              "    <tr>\n",
              "      <th>2</th>\n",
              "      <td>2</td>\n",
              "      <td>0.034969</td>\n",
              "    </tr>\n",
              "    <tr>\n",
              "      <th>3</th>\n",
              "      <td>3</td>\n",
              "      <td>0.034900</td>\n",
              "    </tr>\n",
              "    <tr>\n",
              "      <th>4</th>\n",
              "      <td>4</td>\n",
              "      <td>0.034395</td>\n",
              "    </tr>\n",
              "    <tr>\n",
              "      <th>5</th>\n",
              "      <td>5</td>\n",
              "      <td>0.033554</td>\n",
              "    </tr>\n",
              "    <tr>\n",
              "      <th>6</th>\n",
              "      <td>6</td>\n",
              "      <td>0.032464</td>\n",
              "    </tr>\n",
              "    <tr>\n",
              "      <th>7</th>\n",
              "      <td>7</td>\n",
              "      <td>0.031202</td>\n",
              "    </tr>\n",
              "    <tr>\n",
              "      <th>8</th>\n",
              "      <td>8</td>\n",
              "      <td>0.029836</td>\n",
              "    </tr>\n",
              "    <tr>\n",
              "      <th>9</th>\n",
              "      <td>9</td>\n",
              "      <td>0.028422</td>\n",
              "    </tr>\n",
              "    <tr>\n",
              "      <th>10</th>\n",
              "      <td>10</td>\n",
              "      <td>0.027009</td>\n",
              "    </tr>\n",
              "    <tr>\n",
              "      <th>11</th>\n",
              "      <td>11</td>\n",
              "      <td>0.025637</td>\n",
              "    </tr>\n",
              "    <tr>\n",
              "      <th>12</th>\n",
              "      <td>12</td>\n",
              "      <td>0.024340</td>\n",
              "    </tr>\n",
              "    <tr>\n",
              "      <th>13</th>\n",
              "      <td>13</td>\n",
              "      <td>0.023141</td>\n",
              "    </tr>\n",
              "    <tr>\n",
              "      <th>14</th>\n",
              "      <td>14</td>\n",
              "      <td>0.022061</td>\n",
              "    </tr>\n",
              "    <tr>\n",
              "      <th>15</th>\n",
              "      <td>15</td>\n",
              "      <td>0.021110</td>\n",
              "    </tr>\n",
              "    <tr>\n",
              "      <th>16</th>\n",
              "      <td>16</td>\n",
              "      <td>0.020296</td>\n",
              "    </tr>\n",
              "    <tr>\n",
              "      <th>17</th>\n",
              "      <td>17</td>\n",
              "      <td>0.019621</td>\n",
              "    </tr>\n",
              "    <tr>\n",
              "      <th>18</th>\n",
              "      <td>18</td>\n",
              "      <td>0.019081</td>\n",
              "    </tr>\n",
              "    <tr>\n",
              "      <th>19</th>\n",
              "      <td>19</td>\n",
              "      <td>0.018672</td>\n",
              "    </tr>\n",
              "    <tr>\n",
              "      <th>20</th>\n",
              "      <td>20</td>\n",
              "      <td>0.018382</td>\n",
              "    </tr>\n",
              "    <tr>\n",
              "      <th>21</th>\n",
              "      <td>21</td>\n",
              "      <td>0.018199</td>\n",
              "    </tr>\n",
              "    <tr>\n",
              "      <th>22</th>\n",
              "      <td>22</td>\n",
              "      <td>0.018109</td>\n",
              "    </tr>\n",
              "    <tr>\n",
              "      <th>23</th>\n",
              "      <td>23</td>\n",
              "      <td>0.018094</td>\n",
              "    </tr>\n",
              "    <tr>\n",
              "      <th>24</th>\n",
              "      <td>24</td>\n",
              "      <td>0.018138</td>\n",
              "    </tr>\n",
              "    <tr>\n",
              "      <th>25</th>\n",
              "      <td>25</td>\n",
              "      <td>0.018223</td>\n",
              "    </tr>\n",
              "    <tr>\n",
              "      <th>26</th>\n",
              "      <td>26</td>\n",
              "      <td>0.018330</td>\n",
              "    </tr>\n",
              "    <tr>\n",
              "      <th>27</th>\n",
              "      <td>27</td>\n",
              "      <td>0.018442</td>\n",
              "    </tr>\n",
              "    <tr>\n",
              "      <th>28</th>\n",
              "      <td>28</td>\n",
              "      <td>0.018543</td>\n",
              "    </tr>\n",
              "    <tr>\n",
              "      <th>29</th>\n",
              "      <td>29</td>\n",
              "      <td>0.018619</td>\n",
              "    </tr>\n",
              "    <tr>\n",
              "      <th>30</th>\n",
              "      <td>30</td>\n",
              "      <td>0.018657</td>\n",
              "    </tr>\n",
              "    <tr>\n",
              "      <th>31</th>\n",
              "      <td>31</td>\n",
              "      <td>0.018647</td>\n",
              "    </tr>\n",
              "    <tr>\n",
              "      <th>32</th>\n",
              "      <td>32</td>\n",
              "      <td>0.018585</td>\n",
              "    </tr>\n",
              "    <tr>\n",
              "      <th>33</th>\n",
              "      <td>33</td>\n",
              "      <td>0.018468</td>\n",
              "    </tr>\n",
              "    <tr>\n",
              "      <th>34</th>\n",
              "      <td>34</td>\n",
              "      <td>0.018297</td>\n",
              "    </tr>\n",
              "    <tr>\n",
              "      <th>35</th>\n",
              "      <td>35</td>\n",
              "      <td>0.018082</td>\n",
              "    </tr>\n",
              "    <tr>\n",
              "      <th>36</th>\n",
              "      <td>36</td>\n",
              "      <td>0.017836</td>\n",
              "    </tr>\n",
              "    <tr>\n",
              "      <th>37</th>\n",
              "      <td>37</td>\n",
              "      <td>0.017577</td>\n",
              "    </tr>\n",
              "    <tr>\n",
              "      <th>38</th>\n",
              "      <td>38</td>\n",
              "      <td>0.017332</td>\n",
              "    </tr>\n",
              "    <tr>\n",
              "      <th>39</th>\n",
              "      <td>39</td>\n",
              "      <td>0.017134</td>\n",
              "    </tr>\n",
              "    <tr>\n",
              "      <th>40</th>\n",
              "      <td>40</td>\n",
              "      <td>0.017025</td>\n",
              "    </tr>\n",
              "    <tr>\n",
              "      <th>41</th>\n",
              "      <td>41</td>\n",
              "      <td>0.017056</td>\n",
              "    </tr>\n",
              "    <tr>\n",
              "      <th>42</th>\n",
              "      <td>42</td>\n",
              "      <td>0.017283</td>\n",
              "    </tr>\n",
              "    <tr>\n",
              "      <th>43</th>\n",
              "      <td>43</td>\n",
              "      <td>0.017777</td>\n",
              "    </tr>\n",
              "    <tr>\n",
              "      <th>44</th>\n",
              "      <td>44</td>\n",
              "      <td>0.018616</td>\n",
              "    </tr>\n",
              "  </tbody>\n",
              "</table>\n",
              "</div>\n",
              "      <button class=\"colab-df-convert\" onclick=\"convertToInteractive('df-7c7241b5-2d59-45a1-9abe-c3d007155c5b')\"\n",
              "              title=\"Convert this dataframe to an interactive table.\"\n",
              "              style=\"display:none;\">\n",
              "        \n",
              "  <svg xmlns=\"http://www.w3.org/2000/svg\" height=\"24px\"viewBox=\"0 0 24 24\"\n",
              "       width=\"24px\">\n",
              "    <path d=\"M0 0h24v24H0V0z\" fill=\"none\"/>\n",
              "    <path d=\"M18.56 5.44l.94 2.06.94-2.06 2.06-.94-2.06-.94-.94-2.06-.94 2.06-2.06.94zm-11 1L8.5 8.5l.94-2.06 2.06-.94-2.06-.94L8.5 2.5l-.94 2.06-2.06.94zm10 10l.94 2.06.94-2.06 2.06-.94-2.06-.94-.94-2.06-.94 2.06-2.06.94z\"/><path d=\"M17.41 7.96l-1.37-1.37c-.4-.4-.92-.59-1.43-.59-.52 0-1.04.2-1.43.59L10.3 9.45l-7.72 7.72c-.78.78-.78 2.05 0 2.83L4 21.41c.39.39.9.59 1.41.59.51 0 1.02-.2 1.41-.59l7.78-7.78 2.81-2.81c.8-.78.8-2.07 0-2.86zM5.41 20L4 18.59l7.72-7.72 1.47 1.35L5.41 20z\"/>\n",
              "  </svg>\n",
              "      </button>\n",
              "      \n",
              "  <style>\n",
              "    .colab-df-container {\n",
              "      display:flex;\n",
              "      flex-wrap:wrap;\n",
              "      gap: 12px;\n",
              "    }\n",
              "\n",
              "    .colab-df-convert {\n",
              "      background-color: #E8F0FE;\n",
              "      border: none;\n",
              "      border-radius: 50%;\n",
              "      cursor: pointer;\n",
              "      display: none;\n",
              "      fill: #1967D2;\n",
              "      height: 32px;\n",
              "      padding: 0 0 0 0;\n",
              "      width: 32px;\n",
              "    }\n",
              "\n",
              "    .colab-df-convert:hover {\n",
              "      background-color: #E2EBFA;\n",
              "      box-shadow: 0px 1px 2px rgba(60, 64, 67, 0.3), 0px 1px 3px 1px rgba(60, 64, 67, 0.15);\n",
              "      fill: #174EA6;\n",
              "    }\n",
              "\n",
              "    [theme=dark] .colab-df-convert {\n",
              "      background-color: #3B4455;\n",
              "      fill: #D2E3FC;\n",
              "    }\n",
              "\n",
              "    [theme=dark] .colab-df-convert:hover {\n",
              "      background-color: #434B5C;\n",
              "      box-shadow: 0px 1px 3px 1px rgba(0, 0, 0, 0.15);\n",
              "      filter: drop-shadow(0px 1px 2px rgba(0, 0, 0, 0.3));\n",
              "      fill: #FFFFFF;\n",
              "    }\n",
              "  </style>\n",
              "\n",
              "      <script>\n",
              "        const buttonEl =\n",
              "          document.querySelector('#df-7c7241b5-2d59-45a1-9abe-c3d007155c5b button.colab-df-convert');\n",
              "        buttonEl.style.display =\n",
              "          google.colab.kernel.accessAllowed ? 'block' : 'none';\n",
              "\n",
              "        async function convertToInteractive(key) {\n",
              "          const element = document.querySelector('#df-7c7241b5-2d59-45a1-9abe-c3d007155c5b');\n",
              "          const dataTable =\n",
              "            await google.colab.kernel.invokeFunction('convertToInteractive',\n",
              "                                                     [key], {});\n",
              "          if (!dataTable) return;\n",
              "\n",
              "          const docLinkHtml = 'Like what you see? Visit the ' +\n",
              "            '<a target=\"_blank\" href=https://colab.research.google.com/notebooks/data_table.ipynb>data table notebook</a>'\n",
              "            + ' to learn more about interactive tables.';\n",
              "          element.innerHTML = '';\n",
              "          dataTable['output_type'] = 'display_data';\n",
              "          await google.colab.output.renderOutput(dataTable, element);\n",
              "          const docLink = document.createElement('div');\n",
              "          docLink.innerHTML = docLinkHtml;\n",
              "          element.appendChild(docLink);\n",
              "        }\n",
              "      </script>\n",
              "    </div>\n",
              "  </div>\n",
              "  "
            ]
          },
          "metadata": {},
          "execution_count": 32
        }
      ]
    },
    {
      "cell_type": "code",
      "source": [
        "coeffs_date.to_csv(\"coeffs_date.csv\")"
      ],
      "metadata": {
        "id": "IY3JmPs6nMtR"
      },
      "id": "IY3JmPs6nMtR",
      "execution_count": 33,
      "outputs": []
    },
    {
      "cell_type": "markdown",
      "source": [
        "On va faire la même chose pour sauvegarder la probabilité que mobile = 0 par date."
      ],
      "metadata": {
        "id": "XSwBivk-oEa7"
      },
      "id": "XSwBivk-oEa7"
    },
    {
      "cell_type": "code",
      "source": [
        "cp_prop_list = pd.DataFrame(data = list(zip(list(range(0, 45)), cp_prop_list)), columns = [\"date\", \"computer\"])\n",
        "cp_prop_list.to_csv(\"coeffs_computer.csv\")"
      ],
      "metadata": {
        "id": "TBBzeD68n-N-"
      },
      "id": "TBBzeD68n-N-",
      "execution_count": 35,
      "outputs": []
    },
    {
      "cell_type": "markdown",
      "source": [
        "# Etude de l'utilisation des avatars"
      ],
      "metadata": {
        "id": "LWxj3TzMKt6H"
      },
      "id": "LWxj3TzMKt6H"
    },
    {
      "cell_type": "markdown",
      "source": [
        "Tout d'abord, on remarque dans la partie prévisualisation qu'il y a **quasiment autant d'avatars que des requêtes**. Ceci pourra être utilisé lorsque nous allons requêter le jeu de données d'entraînement. <br>\n",
        "Observons les avatars étant utilisés plusieurs fois."
      ],
      "metadata": {
        "id": "wLlXUdFvKwYa"
      },
      "id": "wLlXUdFvKwYa"
    },
    {
      "cell_type": "code",
      "source": [
        "df_req_per_avatar = pd.DataFrame(df_req[\"avatar_id\"].value_counts()) # on compte les req par id d'avatar\n",
        "df_multiple_req_per_avatar = df_req_per_avatar[df_req_per_avatar[\"avatar_id\"]>1] # on garde les id tq nb req > 1\n",
        "multiple_req_index_list = df_multiple_req_per_avatar.index # on récupère les index de ces lignes\n",
        "df_avatar = df[df[\"avatar_id\"].isin(multiple_req_index_list)]\n",
        "df_avatar.to_csv(\"df_multique_req_avatar.csv\")"
      ],
      "metadata": {
        "id": "7z6AN51fLCA9"
      },
      "id": "7z6AN51fLCA9",
      "execution_count": 50,
      "outputs": []
    },
    {
      "cell_type": "markdown",
      "source": [
        "Ce serait bien d'analyser ce dataframe (voire de scraper les données associées). On pourrait comparer par exemple l'évolution du prix d'un chambre d'hôtel avec une date mouvante pour le même avatar vs pour 2 avatars différents et faire un test pour voir si la différence est égale. Si on part sur cette méthode pour tout le dataframe, qui correspond à environ 100 requêtes, ça va nous coûter 200 requêtes en tout (car on doit faire avatar diff vs same avatar) et pourrait beaucoup nous aider à comprendre l'influence de ceux-ci. Potentiellement il pourrait être utile de créer des variables comme \"a_un_historique\" ou autre (cf forum) en rapport avec les avatars."
      ],
      "metadata": {
        "id": "AGdYh7w_q7e3"
      },
      "id": "AGdYh7w_q7e3"
    },
    {
      "cell_type": "code",
      "source": [
        "df_avatar"
      ],
      "metadata": {
        "colab": {
          "base_uri": "https://localhost:8080/",
          "height": 424
        },
        "id": "yLkWc6WV1NXM",
        "outputId": "26e980d4-699f-4af2-edf0-53fdf23c15d3"
      },
      "id": "yLkWc6WV1NXM",
      "execution_count": 51,
      "outputs": [
        {
          "output_type": "execute_result",
          "data": {
            "text/plain": [
              "      index  order_requests     city  date  language  mobile  avatar_id  \\\n",
              "0         0               1  vilnius    21  romanian       0          1   \n",
              "1         1               1  vilnius    21  romanian       0          1   \n",
              "2         2               1  vilnius    21  romanian       0          1   \n",
              "3         3               1  vilnius    21  romanian       0          1   \n",
              "4         4               1  vilnius    21  romanian       0          1   \n",
              "...     ...             ...      ...   ...       ...     ...        ...   \n",
              "6639   6639             843     rome     5     irish       0        794   \n",
              "6640   6640             844   vienna     1     irish       1        794   \n",
              "6641   6641             844   vienna     1     irish       1        794   \n",
              "6642   6642             844   vienna     1     irish       1        794   \n",
              "6643   6643             844   vienna     1     irish       1        794   \n",
              "\n",
              "      hotel_id  stock  \n",
              "0          161     46  \n",
              "1          187     32  \n",
              "2          279     12  \n",
              "3          395     10  \n",
              "4          488     42  \n",
              "...        ...    ...  \n",
              "6639       987      1  \n",
              "6640        26      1  \n",
              "6641       263      0  \n",
              "6642       456      0  \n",
              "6643       699      0  \n",
              "\n",
              "[808 rows x 9 columns]"
            ],
            "text/html": [
              "\n",
              "  <div id=\"df-ed9065cc-a350-4c9e-8b0e-3e0b39de089c\">\n",
              "    <div class=\"colab-df-container\">\n",
              "      <div>\n",
              "<style scoped>\n",
              "    .dataframe tbody tr th:only-of-type {\n",
              "        vertical-align: middle;\n",
              "    }\n",
              "\n",
              "    .dataframe tbody tr th {\n",
              "        vertical-align: top;\n",
              "    }\n",
              "\n",
              "    .dataframe thead th {\n",
              "        text-align: right;\n",
              "    }\n",
              "</style>\n",
              "<table border=\"1\" class=\"dataframe\">\n",
              "  <thead>\n",
              "    <tr style=\"text-align: right;\">\n",
              "      <th></th>\n",
              "      <th>index</th>\n",
              "      <th>order_requests</th>\n",
              "      <th>city</th>\n",
              "      <th>date</th>\n",
              "      <th>language</th>\n",
              "      <th>mobile</th>\n",
              "      <th>avatar_id</th>\n",
              "      <th>hotel_id</th>\n",
              "      <th>stock</th>\n",
              "    </tr>\n",
              "  </thead>\n",
              "  <tbody>\n",
              "    <tr>\n",
              "      <th>0</th>\n",
              "      <td>0</td>\n",
              "      <td>1</td>\n",
              "      <td>vilnius</td>\n",
              "      <td>21</td>\n",
              "      <td>romanian</td>\n",
              "      <td>0</td>\n",
              "      <td>1</td>\n",
              "      <td>161</td>\n",
              "      <td>46</td>\n",
              "    </tr>\n",
              "    <tr>\n",
              "      <th>1</th>\n",
              "      <td>1</td>\n",
              "      <td>1</td>\n",
              "      <td>vilnius</td>\n",
              "      <td>21</td>\n",
              "      <td>romanian</td>\n",
              "      <td>0</td>\n",
              "      <td>1</td>\n",
              "      <td>187</td>\n",
              "      <td>32</td>\n",
              "    </tr>\n",
              "    <tr>\n",
              "      <th>2</th>\n",
              "      <td>2</td>\n",
              "      <td>1</td>\n",
              "      <td>vilnius</td>\n",
              "      <td>21</td>\n",
              "      <td>romanian</td>\n",
              "      <td>0</td>\n",
              "      <td>1</td>\n",
              "      <td>279</td>\n",
              "      <td>12</td>\n",
              "    </tr>\n",
              "    <tr>\n",
              "      <th>3</th>\n",
              "      <td>3</td>\n",
              "      <td>1</td>\n",
              "      <td>vilnius</td>\n",
              "      <td>21</td>\n",
              "      <td>romanian</td>\n",
              "      <td>0</td>\n",
              "      <td>1</td>\n",
              "      <td>395</td>\n",
              "      <td>10</td>\n",
              "    </tr>\n",
              "    <tr>\n",
              "      <th>4</th>\n",
              "      <td>4</td>\n",
              "      <td>1</td>\n",
              "      <td>vilnius</td>\n",
              "      <td>21</td>\n",
              "      <td>romanian</td>\n",
              "      <td>0</td>\n",
              "      <td>1</td>\n",
              "      <td>488</td>\n",
              "      <td>42</td>\n",
              "    </tr>\n",
              "    <tr>\n",
              "      <th>...</th>\n",
              "      <td>...</td>\n",
              "      <td>...</td>\n",
              "      <td>...</td>\n",
              "      <td>...</td>\n",
              "      <td>...</td>\n",
              "      <td>...</td>\n",
              "      <td>...</td>\n",
              "      <td>...</td>\n",
              "      <td>...</td>\n",
              "    </tr>\n",
              "    <tr>\n",
              "      <th>6639</th>\n",
              "      <td>6639</td>\n",
              "      <td>843</td>\n",
              "      <td>rome</td>\n",
              "      <td>5</td>\n",
              "      <td>irish</td>\n",
              "      <td>0</td>\n",
              "      <td>794</td>\n",
              "      <td>987</td>\n",
              "      <td>1</td>\n",
              "    </tr>\n",
              "    <tr>\n",
              "      <th>6640</th>\n",
              "      <td>6640</td>\n",
              "      <td>844</td>\n",
              "      <td>vienna</td>\n",
              "      <td>1</td>\n",
              "      <td>irish</td>\n",
              "      <td>1</td>\n",
              "      <td>794</td>\n",
              "      <td>26</td>\n",
              "      <td>1</td>\n",
              "    </tr>\n",
              "    <tr>\n",
              "      <th>6641</th>\n",
              "      <td>6641</td>\n",
              "      <td>844</td>\n",
              "      <td>vienna</td>\n",
              "      <td>1</td>\n",
              "      <td>irish</td>\n",
              "      <td>1</td>\n",
              "      <td>794</td>\n",
              "      <td>263</td>\n",
              "      <td>0</td>\n",
              "    </tr>\n",
              "    <tr>\n",
              "      <th>6642</th>\n",
              "      <td>6642</td>\n",
              "      <td>844</td>\n",
              "      <td>vienna</td>\n",
              "      <td>1</td>\n",
              "      <td>irish</td>\n",
              "      <td>1</td>\n",
              "      <td>794</td>\n",
              "      <td>456</td>\n",
              "      <td>0</td>\n",
              "    </tr>\n",
              "    <tr>\n",
              "      <th>6643</th>\n",
              "      <td>6643</td>\n",
              "      <td>844</td>\n",
              "      <td>vienna</td>\n",
              "      <td>1</td>\n",
              "      <td>irish</td>\n",
              "      <td>1</td>\n",
              "      <td>794</td>\n",
              "      <td>699</td>\n",
              "      <td>0</td>\n",
              "    </tr>\n",
              "  </tbody>\n",
              "</table>\n",
              "<p>808 rows × 9 columns</p>\n",
              "</div>\n",
              "      <button class=\"colab-df-convert\" onclick=\"convertToInteractive('df-ed9065cc-a350-4c9e-8b0e-3e0b39de089c')\"\n",
              "              title=\"Convert this dataframe to an interactive table.\"\n",
              "              style=\"display:none;\">\n",
              "        \n",
              "  <svg xmlns=\"http://www.w3.org/2000/svg\" height=\"24px\"viewBox=\"0 0 24 24\"\n",
              "       width=\"24px\">\n",
              "    <path d=\"M0 0h24v24H0V0z\" fill=\"none\"/>\n",
              "    <path d=\"M18.56 5.44l.94 2.06.94-2.06 2.06-.94-2.06-.94-.94-2.06-.94 2.06-2.06.94zm-11 1L8.5 8.5l.94-2.06 2.06-.94-2.06-.94L8.5 2.5l-.94 2.06-2.06.94zm10 10l.94 2.06.94-2.06 2.06-.94-2.06-.94-.94-2.06-.94 2.06-2.06.94z\"/><path d=\"M17.41 7.96l-1.37-1.37c-.4-.4-.92-.59-1.43-.59-.52 0-1.04.2-1.43.59L10.3 9.45l-7.72 7.72c-.78.78-.78 2.05 0 2.83L4 21.41c.39.39.9.59 1.41.59.51 0 1.02-.2 1.41-.59l7.78-7.78 2.81-2.81c.8-.78.8-2.07 0-2.86zM5.41 20L4 18.59l7.72-7.72 1.47 1.35L5.41 20z\"/>\n",
              "  </svg>\n",
              "      </button>\n",
              "      \n",
              "  <style>\n",
              "    .colab-df-container {\n",
              "      display:flex;\n",
              "      flex-wrap:wrap;\n",
              "      gap: 12px;\n",
              "    }\n",
              "\n",
              "    .colab-df-convert {\n",
              "      background-color: #E8F0FE;\n",
              "      border: none;\n",
              "      border-radius: 50%;\n",
              "      cursor: pointer;\n",
              "      display: none;\n",
              "      fill: #1967D2;\n",
              "      height: 32px;\n",
              "      padding: 0 0 0 0;\n",
              "      width: 32px;\n",
              "    }\n",
              "\n",
              "    .colab-df-convert:hover {\n",
              "      background-color: #E2EBFA;\n",
              "      box-shadow: 0px 1px 2px rgba(60, 64, 67, 0.3), 0px 1px 3px 1px rgba(60, 64, 67, 0.15);\n",
              "      fill: #174EA6;\n",
              "    }\n",
              "\n",
              "    [theme=dark] .colab-df-convert {\n",
              "      background-color: #3B4455;\n",
              "      fill: #D2E3FC;\n",
              "    }\n",
              "\n",
              "    [theme=dark] .colab-df-convert:hover {\n",
              "      background-color: #434B5C;\n",
              "      box-shadow: 0px 1px 3px 1px rgba(0, 0, 0, 0.15);\n",
              "      filter: drop-shadow(0px 1px 2px rgba(0, 0, 0, 0.3));\n",
              "      fill: #FFFFFF;\n",
              "    }\n",
              "  </style>\n",
              "\n",
              "      <script>\n",
              "        const buttonEl =\n",
              "          document.querySelector('#df-ed9065cc-a350-4c9e-8b0e-3e0b39de089c button.colab-df-convert');\n",
              "        buttonEl.style.display =\n",
              "          google.colab.kernel.accessAllowed ? 'block' : 'none';\n",
              "\n",
              "        async function convertToInteractive(key) {\n",
              "          const element = document.querySelector('#df-ed9065cc-a350-4c9e-8b0e-3e0b39de089c');\n",
              "          const dataTable =\n",
              "            await google.colab.kernel.invokeFunction('convertToInteractive',\n",
              "                                                     [key], {});\n",
              "          if (!dataTable) return;\n",
              "\n",
              "          const docLinkHtml = 'Like what you see? Visit the ' +\n",
              "            '<a target=\"_blank\" href=https://colab.research.google.com/notebooks/data_table.ipynb>data table notebook</a>'\n",
              "            + ' to learn more about interactive tables.';\n",
              "          element.innerHTML = '';\n",
              "          dataTable['output_type'] = 'display_data';\n",
              "          await google.colab.output.renderOutput(dataTable, element);\n",
              "          const docLink = document.createElement('div');\n",
              "          docLink.innerHTML = docLinkHtml;\n",
              "          element.appendChild(docLink);\n",
              "        }\n",
              "      </script>\n",
              "    </div>\n",
              "  </div>\n",
              "  "
            ]
          },
          "metadata": {},
          "execution_count": 51
        }
      ]
    },
    {
      "cell_type": "markdown",
      "source": [
        "Dans l'hypothèse on on devra rajouter des requêtes multi avatar plus tard, je vais étudier la distribution du nombre de requêtes par avatar dans le test set."
      ],
      "metadata": {
        "id": "BDMgb1kx2f-O"
      },
      "id": "BDMgb1kx2f-O"
    },
    {
      "cell_type": "code",
      "source": [
        "df_req_per_avatar.value_counts()"
      ],
      "metadata": {
        "id": "iGi272k72q49",
        "outputId": "4497111b-29fb-4a89-c9c0-de1a34170fbb",
        "colab": {
          "base_uri": "https://localhost:8080/"
        }
      },
      "id": "iGi272k72q49",
      "execution_count": 53,
      "outputs": [
        {
          "output_type": "execute_result",
          "data": {
            "text/plain": [
              "avatar_id\n",
              "1            749\n",
              "2             17\n",
              "3             15\n",
              "4              4\n",
              "dtype: int64"
            ]
          },
          "metadata": {},
          "execution_count": 53
        }
      ]
    },
    {
      "cell_type": "markdown",
      "source": [
        "# Stratégie de requêtage"
      ],
      "metadata": {
        "id": "s5ZmLYeytqAJ"
      },
      "id": "s5ZmLYeytqAJ"
    },
    {
      "cell_type": "markdown",
      "source": [
        "Bon du coup après toutes ces analyses on peut arriver à une première version de stratégie de requêtage, que je vais expliquer attribut par attribut :\n",
        "\n",
        "*   city : répartition uniforme, validée par test de chi2\n",
        "*   date : répartition suivant la distribution estimée par le modèle KNN, voir fichier coeffs_date.csv\n",
        "*   language : répartition uniforme parce-que je ne sais pas vraiment quoi proposer d'autre (la répartition dans le test set est wtf)\n",
        "*   mobile : répartition dépendant de la date, inférée de la même manière que celle-ci, voir fichier coeffs_computer.csv\n",
        "*   avatar : étude pas encore assez poussée dessus, pour l'instant je propose un avatar unique à chaque requête\n",
        "\n"
      ],
      "metadata": {
        "id": "wHiQgiUJttQN"
      },
      "id": "wHiQgiUJttQN"
    }
  ],
  "metadata": {
    "colab": {
      "collapsed_sections": [
        "7301940f",
        "962021ea",
        "084299fd",
        "04abfe63",
        "1a7bdf57",
        "5lb7PsMianby",
        "y5d6CXp5E0zY",
        "LWxj3TzMKt6H"
      ],
      "provenance": [],
      "include_colab_link": true
    },
    "kernelspec": {
      "display_name": "Python 3 (ipykernel)",
      "language": "python",
      "name": "python3"
    },
    "language_info": {
      "codemirror_mode": {
        "name": "ipython",
        "version": 3
      },
      "file_extension": ".py",
      "mimetype": "text/x-python",
      "name": "python",
      "nbconvert_exporter": "python",
      "pygments_lexer": "ipython3",
      "version": "3.9.12"
    }
  },
  "nbformat": 4,
  "nbformat_minor": 5
}