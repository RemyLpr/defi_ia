{
 "cells": [
  {
   "cell_type": "markdown",
   "id": "7301940f",
   "metadata": {},
   "source": [
    "# Import des librairies"
   ]
  },
  {
   "cell_type": "code",
   "execution_count": 1,
   "id": "289277e1",
   "metadata": {},
   "outputs": [],
   "source": [
    "import pandas as pd"
   ]
  },
  {
   "cell_type": "markdown",
   "id": "962021ea",
   "metadata": {},
   "source": [
    "# Chargement des données"
   ]
  },
  {
   "cell_type": "code",
   "execution_count": 16,
   "id": "1e5aa03e",
   "metadata": {},
   "outputs": [],
   "source": [
    "df = pd.read_csv(\"C:/Users/remyl/Downloads/test_set.csv\")"
   ]
  },
  {
   "cell_type": "markdown",
   "id": "084299fd",
   "metadata": {},
   "source": [
    "# Prévisualisation"
   ]
  },
  {
   "cell_type": "code",
   "execution_count": 3,
   "id": "27fc30db",
   "metadata": {},
   "outputs": [
    {
     "data": {
      "text/html": [
       "<div>\n",
       "<style scoped>\n",
       "    .dataframe tbody tr th:only-of-type {\n",
       "        vertical-align: middle;\n",
       "    }\n",
       "\n",
       "    .dataframe tbody tr th {\n",
       "        vertical-align: top;\n",
       "    }\n",
       "\n",
       "    .dataframe thead th {\n",
       "        text-align: right;\n",
       "    }\n",
       "</style>\n",
       "<table border=\"1\" class=\"dataframe\">\n",
       "  <thead>\n",
       "    <tr style=\"text-align: right;\">\n",
       "      <th></th>\n",
       "      <th>index</th>\n",
       "      <th>order_requests</th>\n",
       "      <th>city</th>\n",
       "      <th>date</th>\n",
       "      <th>language</th>\n",
       "      <th>mobile</th>\n",
       "      <th>avatar_id</th>\n",
       "      <th>hotel_id</th>\n",
       "      <th>stock</th>\n",
       "    </tr>\n",
       "  </thead>\n",
       "  <tbody>\n",
       "    <tr>\n",
       "      <th>0</th>\n",
       "      <td>0</td>\n",
       "      <td>1</td>\n",
       "      <td>vilnius</td>\n",
       "      <td>21</td>\n",
       "      <td>romanian</td>\n",
       "      <td>0</td>\n",
       "      <td>1</td>\n",
       "      <td>161</td>\n",
       "      <td>46</td>\n",
       "    </tr>\n",
       "    <tr>\n",
       "      <th>1</th>\n",
       "      <td>1</td>\n",
       "      <td>1</td>\n",
       "      <td>vilnius</td>\n",
       "      <td>21</td>\n",
       "      <td>romanian</td>\n",
       "      <td>0</td>\n",
       "      <td>1</td>\n",
       "      <td>187</td>\n",
       "      <td>32</td>\n",
       "    </tr>\n",
       "    <tr>\n",
       "      <th>2</th>\n",
       "      <td>2</td>\n",
       "      <td>1</td>\n",
       "      <td>vilnius</td>\n",
       "      <td>21</td>\n",
       "      <td>romanian</td>\n",
       "      <td>0</td>\n",
       "      <td>1</td>\n",
       "      <td>279</td>\n",
       "      <td>12</td>\n",
       "    </tr>\n",
       "    <tr>\n",
       "      <th>3</th>\n",
       "      <td>3</td>\n",
       "      <td>1</td>\n",
       "      <td>vilnius</td>\n",
       "      <td>21</td>\n",
       "      <td>romanian</td>\n",
       "      <td>0</td>\n",
       "      <td>1</td>\n",
       "      <td>395</td>\n",
       "      <td>10</td>\n",
       "    </tr>\n",
       "    <tr>\n",
       "      <th>4</th>\n",
       "      <td>4</td>\n",
       "      <td>1</td>\n",
       "      <td>vilnius</td>\n",
       "      <td>21</td>\n",
       "      <td>romanian</td>\n",
       "      <td>0</td>\n",
       "      <td>1</td>\n",
       "      <td>488</td>\n",
       "      <td>42</td>\n",
       "    </tr>\n",
       "    <tr>\n",
       "      <th>...</th>\n",
       "      <td>...</td>\n",
       "      <td>...</td>\n",
       "      <td>...</td>\n",
       "      <td>...</td>\n",
       "      <td>...</td>\n",
       "      <td>...</td>\n",
       "      <td>...</td>\n",
       "      <td>...</td>\n",
       "      <td>...</td>\n",
       "    </tr>\n",
       "    <tr>\n",
       "      <th>6639</th>\n",
       "      <td>6639</td>\n",
       "      <td>843</td>\n",
       "      <td>rome</td>\n",
       "      <td>5</td>\n",
       "      <td>irish</td>\n",
       "      <td>0</td>\n",
       "      <td>794</td>\n",
       "      <td>987</td>\n",
       "      <td>1</td>\n",
       "    </tr>\n",
       "    <tr>\n",
       "      <th>6640</th>\n",
       "      <td>6640</td>\n",
       "      <td>844</td>\n",
       "      <td>vienna</td>\n",
       "      <td>1</td>\n",
       "      <td>irish</td>\n",
       "      <td>1</td>\n",
       "      <td>794</td>\n",
       "      <td>26</td>\n",
       "      <td>1</td>\n",
       "    </tr>\n",
       "    <tr>\n",
       "      <th>6641</th>\n",
       "      <td>6641</td>\n",
       "      <td>844</td>\n",
       "      <td>vienna</td>\n",
       "      <td>1</td>\n",
       "      <td>irish</td>\n",
       "      <td>1</td>\n",
       "      <td>794</td>\n",
       "      <td>263</td>\n",
       "      <td>0</td>\n",
       "    </tr>\n",
       "    <tr>\n",
       "      <th>6642</th>\n",
       "      <td>6642</td>\n",
       "      <td>844</td>\n",
       "      <td>vienna</td>\n",
       "      <td>1</td>\n",
       "      <td>irish</td>\n",
       "      <td>1</td>\n",
       "      <td>794</td>\n",
       "      <td>456</td>\n",
       "      <td>0</td>\n",
       "    </tr>\n",
       "    <tr>\n",
       "      <th>6643</th>\n",
       "      <td>6643</td>\n",
       "      <td>844</td>\n",
       "      <td>vienna</td>\n",
       "      <td>1</td>\n",
       "      <td>irish</td>\n",
       "      <td>1</td>\n",
       "      <td>794</td>\n",
       "      <td>699</td>\n",
       "      <td>0</td>\n",
       "    </tr>\n",
       "  </tbody>\n",
       "</table>\n",
       "<p>6644 rows × 9 columns</p>\n",
       "</div>"
      ],
      "text/plain": [
       "      index  order_requests     city  date  language  mobile  avatar_id  \\\n",
       "0         0               1  vilnius    21  romanian       0          1   \n",
       "1         1               1  vilnius    21  romanian       0          1   \n",
       "2         2               1  vilnius    21  romanian       0          1   \n",
       "3         3               1  vilnius    21  romanian       0          1   \n",
       "4         4               1  vilnius    21  romanian       0          1   \n",
       "...     ...             ...      ...   ...       ...     ...        ...   \n",
       "6639   6639             843     rome     5     irish       0        794   \n",
       "6640   6640             844   vienna     1     irish       1        794   \n",
       "6641   6641             844   vienna     1     irish       1        794   \n",
       "6642   6642             844   vienna     1     irish       1        794   \n",
       "6643   6643             844   vienna     1     irish       1        794   \n",
       "\n",
       "      hotel_id  stock  \n",
       "0          161     46  \n",
       "1          187     32  \n",
       "2          279     12  \n",
       "3          395     10  \n",
       "4          488     42  \n",
       "...        ...    ...  \n",
       "6639       987      1  \n",
       "6640        26      1  \n",
       "6641       263      0  \n",
       "6642       456      0  \n",
       "6643       699      0  \n",
       "\n",
       "[6644 rows x 9 columns]"
      ]
     },
     "execution_count": 3,
     "metadata": {},
     "output_type": "execute_result"
    }
   ],
   "source": [
    "df"
   ]
  },
  {
   "cell_type": "markdown",
   "id": "04abfe63",
   "metadata": {},
   "source": [
    "# Etude des villes"
   ]
  },
  {
   "cell_type": "markdown",
   "id": "095d267e",
   "metadata": {},
   "source": [
    "Premièrement nous allons afficher la répartition des villes dans le dataset de test afin de vérifier si elles sont toutes présentes et de manière équitable."
   ]
  },
  {
   "cell_type": "code",
   "execution_count": 4,
   "id": "eb62b8d2",
   "metadata": {},
   "outputs": [
    {
     "data": {
      "text/plain": [
       "amsterdam     1134\n",
       "paris         1125\n",
       "madrid        1094\n",
       "copenhagen     723\n",
       "rome           721\n",
       "vilnius        609\n",
       "vienna         568\n",
       "sofia          374\n",
       "valletta       296\n",
       "Name: city, dtype: int64"
      ]
     },
     "execution_count": 4,
     "metadata": {},
     "output_type": "execute_result"
    }
   ],
   "source": [
    "df[\"city\"].value_counts()"
   ]
  },
  {
   "cell_type": "markdown",
   "id": "fb1f3a60",
   "metadata": {},
   "source": [
    "Les villes sont effectivement toutes bien présentes mais de manière très déséquilibrée. Ce déséquilibre pourrait être retrouvé dans l'ensemble des données, ou pas. Pour avoir une idée de la réponse je vais utiliser des métadonnées associées aux villes qui pourraient expliquer le nombre d'hotêls que l'API renvoie pour celles-ci."
   ]
  },
  {
   "cell_type": "markdown",
   "id": "b5522265",
   "metadata": {},
   "source": [
    "Dans un premier temps je vais vérifier si la répartition vue ci-dessus correspond à la taille des villes étudiées (en terme de nombre d'habitants).\n",
    "Les données sont tirées du site : https://www.populationdata.net/palmares/villes/europe/"
   ]
  },
  {
   "cell_type": "code",
   "execution_count": 7,
   "id": "9e2aa721",
   "metadata": {},
   "outputs": [],
   "source": [
    "population_data = {\"amsterdam\" : 2480394, \"paris\" : 13114718, \"madrid\" : 6475872, \"copenhagen\" : 2931445, \"rome\" : 4340474, \"vilnius\" : 673921, \"vienna\" : 2717459, \"sofia\" : 1681592, \"valletta\" : 408750}"
   ]
  },
  {
   "cell_type": "markdown",
   "id": "56a2acb1",
   "metadata": {},
   "source": [
    "Ensuite je suis allé extraire le nombre de recherches Google des termes \"hotel\" plus nom de la ville. J'ai stocké le nombre de résultats de la requête dans une liste (ordre = same que renvoyé par df[\"city\"])."
   ]
  },
  {
   "cell_type": "code",
   "execution_count": 15,
   "id": "7ad4e8c1",
   "metadata": {},
   "outputs": [],
   "source": [
    "nb_url = [258, 705, 328, 69.5, 545, 11.8, 191, 225, 7.47] # unité = 10**6\n",
    "# chiffres obtenus sur google.com langue = anglais US"
   ]
  },
  {
   "cell_type": "markdown",
   "id": "ef7abc1f",
   "metadata": {},
   "source": [
    "J'ai également été sur le site https://www.booking.com/ et récupéré le nombre d'hôtel renvoyé pour une requête dans chaque ville (pas de dates et résa pour 2 adultes)."
   ]
  },
  {
   "cell_type": "code",
   "execution_count": 21,
   "id": "48cedf6c",
   "metadata": {},
   "outputs": [],
   "source": [
    "data_booking = [1061, 4980, 3344, 475, 9029, 651, 2287, 971, 235]"
   ]
  },
  {
   "cell_type": "markdown",
   "id": "7e228081",
   "metadata": {},
   "source": [
    "Des données sur les pays peuvent également être retenues comme le PIB par habitant (à voir si c'est également utilisable pour la feature language)."
   ]
  },
  {
   "cell_type": "code",
   "execution_count": 25,
   "id": "daa32dee",
   "metadata": {},
   "outputs": [],
   "source": [
    "PIB = [48424, 38210, 26239, 58586, 31512, 18072, 45091, 8294, 27738]"
   ]
  },
  {
   "cell_type": "code",
   "execution_count": 26,
   "id": "9514dbff",
   "metadata": {},
   "outputs": [],
   "source": [
    "l = list(df[\"city\"].value_counts())\n",
    "df_city = pd.DataFrame(population_data.items(), columns=['city', 'nb_hab'])\n",
    "df_city[\"nb_url\"] = nb_url\n",
    "df_city[\"booking\"] = data_booking\n",
    "df_city[\"PIB\"] = PIB\n",
    "df_city[\"nb_val\"] = l"
   ]
  },
  {
   "cell_type": "code",
   "execution_count": 27,
   "id": "20fd67cc",
   "metadata": {},
   "outputs": [
    {
     "data": {
      "text/html": [
       "<div>\n",
       "<style scoped>\n",
       "    .dataframe tbody tr th:only-of-type {\n",
       "        vertical-align: middle;\n",
       "    }\n",
       "\n",
       "    .dataframe tbody tr th {\n",
       "        vertical-align: top;\n",
       "    }\n",
       "\n",
       "    .dataframe thead th {\n",
       "        text-align: right;\n",
       "    }\n",
       "</style>\n",
       "<table border=\"1\" class=\"dataframe\">\n",
       "  <thead>\n",
       "    <tr style=\"text-align: right;\">\n",
       "      <th></th>\n",
       "      <th>city</th>\n",
       "      <th>nb_hab</th>\n",
       "      <th>nb_url</th>\n",
       "      <th>booking</th>\n",
       "      <th>PIB</th>\n",
       "      <th>nb_val</th>\n",
       "    </tr>\n",
       "  </thead>\n",
       "  <tbody>\n",
       "    <tr>\n",
       "      <th>0</th>\n",
       "      <td>amsterdam</td>\n",
       "      <td>2480394</td>\n",
       "      <td>258.00</td>\n",
       "      <td>1061</td>\n",
       "      <td>48424</td>\n",
       "      <td>1134</td>\n",
       "    </tr>\n",
       "    <tr>\n",
       "      <th>1</th>\n",
       "      <td>paris</td>\n",
       "      <td>13114718</td>\n",
       "      <td>705.00</td>\n",
       "      <td>4980</td>\n",
       "      <td>38210</td>\n",
       "      <td>1125</td>\n",
       "    </tr>\n",
       "    <tr>\n",
       "      <th>2</th>\n",
       "      <td>madrid</td>\n",
       "      <td>6475872</td>\n",
       "      <td>328.00</td>\n",
       "      <td>3344</td>\n",
       "      <td>26239</td>\n",
       "      <td>1094</td>\n",
       "    </tr>\n",
       "    <tr>\n",
       "      <th>3</th>\n",
       "      <td>copenhagen</td>\n",
       "      <td>2931445</td>\n",
       "      <td>69.50</td>\n",
       "      <td>475</td>\n",
       "      <td>58586</td>\n",
       "      <td>723</td>\n",
       "    </tr>\n",
       "    <tr>\n",
       "      <th>4</th>\n",
       "      <td>rome</td>\n",
       "      <td>4340474</td>\n",
       "      <td>545.00</td>\n",
       "      <td>9029</td>\n",
       "      <td>31512</td>\n",
       "      <td>721</td>\n",
       "    </tr>\n",
       "    <tr>\n",
       "      <th>5</th>\n",
       "      <td>vilnius</td>\n",
       "      <td>673921</td>\n",
       "      <td>11.80</td>\n",
       "      <td>651</td>\n",
       "      <td>18072</td>\n",
       "      <td>609</td>\n",
       "    </tr>\n",
       "    <tr>\n",
       "      <th>6</th>\n",
       "      <td>vienna</td>\n",
       "      <td>2717459</td>\n",
       "      <td>191.00</td>\n",
       "      <td>2287</td>\n",
       "      <td>45091</td>\n",
       "      <td>568</td>\n",
       "    </tr>\n",
       "    <tr>\n",
       "      <th>7</th>\n",
       "      <td>sofia</td>\n",
       "      <td>1681592</td>\n",
       "      <td>225.00</td>\n",
       "      <td>971</td>\n",
       "      <td>8294</td>\n",
       "      <td>374</td>\n",
       "    </tr>\n",
       "    <tr>\n",
       "      <th>8</th>\n",
       "      <td>valletta</td>\n",
       "      <td>408750</td>\n",
       "      <td>7.47</td>\n",
       "      <td>235</td>\n",
       "      <td>27738</td>\n",
       "      <td>296</td>\n",
       "    </tr>\n",
       "  </tbody>\n",
       "</table>\n",
       "</div>"
      ],
      "text/plain": [
       "         city    nb_hab  nb_url  booking    PIB  nb_val\n",
       "0   amsterdam   2480394  258.00     1061  48424    1134\n",
       "1       paris  13114718  705.00     4980  38210    1125\n",
       "2      madrid   6475872  328.00     3344  26239    1094\n",
       "3  copenhagen   2931445   69.50      475  58586     723\n",
       "4        rome   4340474  545.00     9029  31512     721\n",
       "5     vilnius    673921   11.80      651  18072     609\n",
       "6      vienna   2717459  191.00     2287  45091     568\n",
       "7       sofia   1681592  225.00      971   8294     374\n",
       "8    valletta    408750    7.47      235  27738     296"
      ]
     },
     "execution_count": 27,
     "metadata": {},
     "output_type": "execute_result"
    }
   ],
   "source": [
    "df_city"
   ]
  }
 ],
 "metadata": {
  "kernelspec": {
   "display_name": "Python 3 (ipykernel)",
   "language": "python",
   "name": "python3"
  },
  "language_info": {
   "codemirror_mode": {
    "name": "ipython",
    "version": 3
   },
   "file_extension": ".py",
   "mimetype": "text/x-python",
   "name": "python",
   "nbconvert_exporter": "python",
   "pygments_lexer": "ipython3",
   "version": "3.9.12"
  }
 },
 "nbformat": 4,
 "nbformat_minor": 5
}
