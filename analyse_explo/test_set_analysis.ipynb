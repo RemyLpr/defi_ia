{
  "cells": [
    {
      "cell_type": "markdown",
      "id": "7301940f",
      "metadata": {
        "id": "7301940f"
      },
      "source": [
        "# Import des librairies"
      ]
    },
    {
      "cell_type": "code",
      "execution_count": 1,
      "id": "289277e1",
      "metadata": {
        "id": "289277e1"
      },
      "outputs": [],
      "source": [
        "import pandas as pd\n",
        "import matplotlib.pyplot as plt\n",
        "import seaborn as sns\n",
        "import numpy as np\n",
        "from fitter import Fitter, get_common_distributions, get_distributions\n",
        "import sklearn.neighbors._base\n",
        "import sys\n",
        "sys.modules['sklearn.neighbors.base'] = sklearn.neighbors._base\n",
        "from missingpy import KNNImputer"
      ]
    },
    {
      "cell_type": "markdown",
      "id": "962021ea",
      "metadata": {
        "id": "962021ea"
      },
      "source": [
        "# Chargement des données"
      ]
    },
    {
      "cell_type": "code",
      "execution_count": 5,
      "id": "1e5aa03e",
      "metadata": {
        "id": "1e5aa03e"
      },
      "outputs": [],
      "source": [
        "df = pd.read_csv(\"test_set.csv\")"
      ]
    },
    {
      "cell_type": "markdown",
      "id": "084299fd",
      "metadata": {
        "id": "084299fd"
      },
      "source": [
        "# Prévisualisation"
      ]
    },
    {
      "cell_type": "code",
      "execution_count": null,
      "id": "27fc30db",
      "metadata": {
        "id": "27fc30db",
        "outputId": "5366be66-942c-4e91-d62c-7ec881a05b5e"
      },
      "outputs": [
        {
          "data": {
            "text/html": [
              "<div>\n",
              "<style scoped>\n",
              "    .dataframe tbody tr th:only-of-type {\n",
              "        vertical-align: middle;\n",
              "    }\n",
              "\n",
              "    .dataframe tbody tr th {\n",
              "        vertical-align: top;\n",
              "    }\n",
              "\n",
              "    .dataframe thead th {\n",
              "        text-align: right;\n",
              "    }\n",
              "</style>\n",
              "<table border=\"1\" class=\"dataframe\">\n",
              "  <thead>\n",
              "    <tr style=\"text-align: right;\">\n",
              "      <th></th>\n",
              "      <th>index</th>\n",
              "      <th>order_requests</th>\n",
              "      <th>city</th>\n",
              "      <th>date</th>\n",
              "      <th>language</th>\n",
              "      <th>mobile</th>\n",
              "      <th>avatar_id</th>\n",
              "      <th>hotel_id</th>\n",
              "      <th>stock</th>\n",
              "    </tr>\n",
              "  </thead>\n",
              "  <tbody>\n",
              "    <tr>\n",
              "      <th>0</th>\n",
              "      <td>0</td>\n",
              "      <td>1</td>\n",
              "      <td>vilnius</td>\n",
              "      <td>21</td>\n",
              "      <td>romanian</td>\n",
              "      <td>0</td>\n",
              "      <td>1</td>\n",
              "      <td>161</td>\n",
              "      <td>46</td>\n",
              "    </tr>\n",
              "    <tr>\n",
              "      <th>1</th>\n",
              "      <td>1</td>\n",
              "      <td>1</td>\n",
              "      <td>vilnius</td>\n",
              "      <td>21</td>\n",
              "      <td>romanian</td>\n",
              "      <td>0</td>\n",
              "      <td>1</td>\n",
              "      <td>187</td>\n",
              "      <td>32</td>\n",
              "    </tr>\n",
              "    <tr>\n",
              "      <th>2</th>\n",
              "      <td>2</td>\n",
              "      <td>1</td>\n",
              "      <td>vilnius</td>\n",
              "      <td>21</td>\n",
              "      <td>romanian</td>\n",
              "      <td>0</td>\n",
              "      <td>1</td>\n",
              "      <td>279</td>\n",
              "      <td>12</td>\n",
              "    </tr>\n",
              "    <tr>\n",
              "      <th>3</th>\n",
              "      <td>3</td>\n",
              "      <td>1</td>\n",
              "      <td>vilnius</td>\n",
              "      <td>21</td>\n",
              "      <td>romanian</td>\n",
              "      <td>0</td>\n",
              "      <td>1</td>\n",
              "      <td>395</td>\n",
              "      <td>10</td>\n",
              "    </tr>\n",
              "    <tr>\n",
              "      <th>4</th>\n",
              "      <td>4</td>\n",
              "      <td>1</td>\n",
              "      <td>vilnius</td>\n",
              "      <td>21</td>\n",
              "      <td>romanian</td>\n",
              "      <td>0</td>\n",
              "      <td>1</td>\n",
              "      <td>488</td>\n",
              "      <td>42</td>\n",
              "    </tr>\n",
              "    <tr>\n",
              "      <th>...</th>\n",
              "      <td>...</td>\n",
              "      <td>...</td>\n",
              "      <td>...</td>\n",
              "      <td>...</td>\n",
              "      <td>...</td>\n",
              "      <td>...</td>\n",
              "      <td>...</td>\n",
              "      <td>...</td>\n",
              "      <td>...</td>\n",
              "    </tr>\n",
              "    <tr>\n",
              "      <th>6639</th>\n",
              "      <td>6639</td>\n",
              "      <td>843</td>\n",
              "      <td>rome</td>\n",
              "      <td>5</td>\n",
              "      <td>irish</td>\n",
              "      <td>0</td>\n",
              "      <td>794</td>\n",
              "      <td>987</td>\n",
              "      <td>1</td>\n",
              "    </tr>\n",
              "    <tr>\n",
              "      <th>6640</th>\n",
              "      <td>6640</td>\n",
              "      <td>844</td>\n",
              "      <td>vienna</td>\n",
              "      <td>1</td>\n",
              "      <td>irish</td>\n",
              "      <td>1</td>\n",
              "      <td>794</td>\n",
              "      <td>26</td>\n",
              "      <td>1</td>\n",
              "    </tr>\n",
              "    <tr>\n",
              "      <th>6641</th>\n",
              "      <td>6641</td>\n",
              "      <td>844</td>\n",
              "      <td>vienna</td>\n",
              "      <td>1</td>\n",
              "      <td>irish</td>\n",
              "      <td>1</td>\n",
              "      <td>794</td>\n",
              "      <td>263</td>\n",
              "      <td>0</td>\n",
              "    </tr>\n",
              "    <tr>\n",
              "      <th>6642</th>\n",
              "      <td>6642</td>\n",
              "      <td>844</td>\n",
              "      <td>vienna</td>\n",
              "      <td>1</td>\n",
              "      <td>irish</td>\n",
              "      <td>1</td>\n",
              "      <td>794</td>\n",
              "      <td>456</td>\n",
              "      <td>0</td>\n",
              "    </tr>\n",
              "    <tr>\n",
              "      <th>6643</th>\n",
              "      <td>6643</td>\n",
              "      <td>844</td>\n",
              "      <td>vienna</td>\n",
              "      <td>1</td>\n",
              "      <td>irish</td>\n",
              "      <td>1</td>\n",
              "      <td>794</td>\n",
              "      <td>699</td>\n",
              "      <td>0</td>\n",
              "    </tr>\n",
              "  </tbody>\n",
              "</table>\n",
              "<p>6644 rows × 9 columns</p>\n",
              "</div>"
            ],
            "text/plain": [
              "      index  order_requests     city  date  language  mobile  avatar_id  \\\n",
              "0         0               1  vilnius    21  romanian       0          1   \n",
              "1         1               1  vilnius    21  romanian       0          1   \n",
              "2         2               1  vilnius    21  romanian       0          1   \n",
              "3         3               1  vilnius    21  romanian       0          1   \n",
              "4         4               1  vilnius    21  romanian       0          1   \n",
              "...     ...             ...      ...   ...       ...     ...        ...   \n",
              "6639   6639             843     rome     5     irish       0        794   \n",
              "6640   6640             844   vienna     1     irish       1        794   \n",
              "6641   6641             844   vienna     1     irish       1        794   \n",
              "6642   6642             844   vienna     1     irish       1        794   \n",
              "6643   6643             844   vienna     1     irish       1        794   \n",
              "\n",
              "      hotel_id  stock  \n",
              "0          161     46  \n",
              "1          187     32  \n",
              "2          279     12  \n",
              "3          395     10  \n",
              "4          488     42  \n",
              "...        ...    ...  \n",
              "6639       987      1  \n",
              "6640        26      1  \n",
              "6641       263      0  \n",
              "6642       456      0  \n",
              "6643       699      0  \n",
              "\n",
              "[6644 rows x 9 columns]"
            ]
          },
          "execution_count": 3,
          "metadata": {},
          "output_type": "execute_result"
        }
      ],
      "source": [
        "df"
      ]
    },
    {
      "cell_type": "markdown",
      "id": "04abfe63",
      "metadata": {
        "id": "04abfe63"
      },
      "source": [
        "# Etude des villes"
      ]
    },
    {
      "cell_type": "markdown",
      "id": "095d267e",
      "metadata": {
        "id": "095d267e"
      },
      "source": [
        "Premièrement nous allons afficher la répartition des villes dans le dataset de test afin de vérifier si elles sont toutes présentes et de manière équitable."
      ]
    },
    {
      "cell_type": "code",
      "execution_count": null,
      "id": "eb62b8d2",
      "metadata": {
        "id": "eb62b8d2",
        "outputId": "5f19636b-f31f-4ed0-b8bc-6face9c69497"
      },
      "outputs": [
        {
          "data": {
            "text/plain": [
              "amsterdam     1134\n",
              "paris         1125\n",
              "madrid        1094\n",
              "copenhagen     723\n",
              "rome           721\n",
              "vilnius        609\n",
              "vienna         568\n",
              "sofia          374\n",
              "valletta       296\n",
              "Name: city, dtype: int64"
            ]
          },
          "execution_count": 4,
          "metadata": {},
          "output_type": "execute_result"
        }
      ],
      "source": [
        "df[\"city\"].value_counts()"
      ]
    },
    {
      "cell_type": "markdown",
      "id": "fb1f3a60",
      "metadata": {
        "id": "fb1f3a60"
      },
      "source": [
        "Les villes sont effectivement toutes bien présentes mais de manière très déséquilibrée. Ce déséquilibre pourrait être retrouvé dans l'ensemble des données, ou pas. Pour avoir une idée de la réponse je vais utiliser des métadonnées associées aux villes qui pourraient expliquer le nombre d'hotêls que l'API renvoie pour celles-ci."
      ]
    },
    {
      "cell_type": "markdown",
      "id": "b5522265",
      "metadata": {
        "id": "b5522265"
      },
      "source": [
        "Dans un premier temps je vais vérifier si la répartition vue ci-dessus correspond à la taille des villes étudiées (en terme de nombre d'habitants).\n",
        "Les données sont tirées du site : https://www.populationdata.net/palmares/villes/europe/"
      ]
    },
    {
      "cell_type": "code",
      "execution_count": null,
      "id": "9e2aa721",
      "metadata": {
        "id": "9e2aa721"
      },
      "outputs": [],
      "source": [
        "population_data = {\"amsterdam\" : 2480394, \"paris\" : 13114718, \"madrid\" : 6475872, \"copenhagen\" : 2931445, \"rome\" : 4340474, \"vilnius\" : 673921, \"vienna\" : 2717459, \"sofia\" : 1681592, \"valletta\" : 408750}"
      ]
    },
    {
      "cell_type": "markdown",
      "id": "56a2acb1",
      "metadata": {
        "id": "56a2acb1"
      },
      "source": [
        "Ensuite je suis allé extraire le nombre de recherches Google des termes \"hotel\" plus nom de la ville. J'ai stocké le nombre de résultats de la requête dans une liste (ordre = same que renvoyé par df[\"city\"])."
      ]
    },
    {
      "cell_type": "code",
      "execution_count": null,
      "id": "7ad4e8c1",
      "metadata": {
        "id": "7ad4e8c1"
      },
      "outputs": [],
      "source": [
        "nb_url = [258, 705, 328, 69.5, 545, 11.8, 191, 225, 7.47] # unité = 10**6\n",
        "# chiffres obtenus sur google.com langue = anglais US"
      ]
    },
    {
      "cell_type": "markdown",
      "id": "ef7abc1f",
      "metadata": {
        "id": "ef7abc1f"
      },
      "source": [
        "J'ai également été sur le site https://www.booking.com/ et récupéré le nombre d'hôtel renvoyé pour une requête dans chaque ville (pas de dates et résa pour 2 adultes)."
      ]
    },
    {
      "cell_type": "code",
      "execution_count": null,
      "id": "48cedf6c",
      "metadata": {
        "id": "48cedf6c"
      },
      "outputs": [],
      "source": [
        "data_booking = [1061, 4980, 3344, 475, 9029, 651, 2287, 971, 235]"
      ]
    },
    {
      "cell_type": "markdown",
      "id": "7e228081",
      "metadata": {
        "id": "7e228081"
      },
      "source": [
        "Des données sur les pays peuvent également être retenues comme le PIB par habitant (à voir si c'est également utilisable pour la feature language)."
      ]
    },
    {
      "cell_type": "code",
      "execution_count": null,
      "id": "daa32dee",
      "metadata": {
        "id": "daa32dee"
      },
      "outputs": [],
      "source": [
        "PIB = [48424, 38210, 26239, 58586, 31512, 18072, 45091, 8294, 27738]"
      ]
    },
    {
      "cell_type": "code",
      "execution_count": null,
      "id": "9514dbff",
      "metadata": {
        "id": "9514dbff"
      },
      "outputs": [],
      "source": [
        "l = list(df[\"city\"].value_counts())\n",
        "df_city = pd.DataFrame(population_data.items(), columns=['city', 'nb_hab'])\n",
        "df_city[\"nb_url\"] = nb_url\n",
        "df_city[\"booking\"] = data_booking\n",
        "df_city[\"PIB\"] = PIB\n",
        "df_city[\"nb_val\"] = l"
      ]
    },
    {
      "cell_type": "code",
      "execution_count": null,
      "id": "20fd67cc",
      "metadata": {
        "id": "20fd67cc",
        "outputId": "a4eefb9f-d4c6-4bc8-f317-3567a9f27d9c"
      },
      "outputs": [
        {
          "data": {
            "text/html": [
              "<div>\n",
              "<style scoped>\n",
              "    .dataframe tbody tr th:only-of-type {\n",
              "        vertical-align: middle;\n",
              "    }\n",
              "\n",
              "    .dataframe tbody tr th {\n",
              "        vertical-align: top;\n",
              "    }\n",
              "\n",
              "    .dataframe thead th {\n",
              "        text-align: right;\n",
              "    }\n",
              "</style>\n",
              "<table border=\"1\" class=\"dataframe\">\n",
              "  <thead>\n",
              "    <tr style=\"text-align: right;\">\n",
              "      <th></th>\n",
              "      <th>city</th>\n",
              "      <th>nb_hab</th>\n",
              "      <th>nb_url</th>\n",
              "      <th>booking</th>\n",
              "      <th>PIB</th>\n",
              "      <th>nb_val</th>\n",
              "    </tr>\n",
              "  </thead>\n",
              "  <tbody>\n",
              "    <tr>\n",
              "      <th>0</th>\n",
              "      <td>amsterdam</td>\n",
              "      <td>2480394</td>\n",
              "      <td>258.00</td>\n",
              "      <td>1061</td>\n",
              "      <td>48424</td>\n",
              "      <td>1134</td>\n",
              "    </tr>\n",
              "    <tr>\n",
              "      <th>1</th>\n",
              "      <td>paris</td>\n",
              "      <td>13114718</td>\n",
              "      <td>705.00</td>\n",
              "      <td>4980</td>\n",
              "      <td>38210</td>\n",
              "      <td>1125</td>\n",
              "    </tr>\n",
              "    <tr>\n",
              "      <th>2</th>\n",
              "      <td>madrid</td>\n",
              "      <td>6475872</td>\n",
              "      <td>328.00</td>\n",
              "      <td>3344</td>\n",
              "      <td>26239</td>\n",
              "      <td>1094</td>\n",
              "    </tr>\n",
              "    <tr>\n",
              "      <th>3</th>\n",
              "      <td>copenhagen</td>\n",
              "      <td>2931445</td>\n",
              "      <td>69.50</td>\n",
              "      <td>475</td>\n",
              "      <td>58586</td>\n",
              "      <td>723</td>\n",
              "    </tr>\n",
              "    <tr>\n",
              "      <th>4</th>\n",
              "      <td>rome</td>\n",
              "      <td>4340474</td>\n",
              "      <td>545.00</td>\n",
              "      <td>9029</td>\n",
              "      <td>31512</td>\n",
              "      <td>721</td>\n",
              "    </tr>\n",
              "    <tr>\n",
              "      <th>5</th>\n",
              "      <td>vilnius</td>\n",
              "      <td>673921</td>\n",
              "      <td>11.80</td>\n",
              "      <td>651</td>\n",
              "      <td>18072</td>\n",
              "      <td>609</td>\n",
              "    </tr>\n",
              "    <tr>\n",
              "      <th>6</th>\n",
              "      <td>vienna</td>\n",
              "      <td>2717459</td>\n",
              "      <td>191.00</td>\n",
              "      <td>2287</td>\n",
              "      <td>45091</td>\n",
              "      <td>568</td>\n",
              "    </tr>\n",
              "    <tr>\n",
              "      <th>7</th>\n",
              "      <td>sofia</td>\n",
              "      <td>1681592</td>\n",
              "      <td>225.00</td>\n",
              "      <td>971</td>\n",
              "      <td>8294</td>\n",
              "      <td>374</td>\n",
              "    </tr>\n",
              "    <tr>\n",
              "      <th>8</th>\n",
              "      <td>valletta</td>\n",
              "      <td>408750</td>\n",
              "      <td>7.47</td>\n",
              "      <td>235</td>\n",
              "      <td>27738</td>\n",
              "      <td>296</td>\n",
              "    </tr>\n",
              "  </tbody>\n",
              "</table>\n",
              "</div>"
            ],
            "text/plain": [
              "         city    nb_hab  nb_url  booking    PIB  nb_val\n",
              "0   amsterdam   2480394  258.00     1061  48424    1134\n",
              "1       paris  13114718  705.00     4980  38210    1125\n",
              "2      madrid   6475872  328.00     3344  26239    1094\n",
              "3  copenhagen   2931445   69.50      475  58586     723\n",
              "4        rome   4340474  545.00     9029  31512     721\n",
              "5     vilnius    673921   11.80      651  18072     609\n",
              "6      vienna   2717459  191.00     2287  45091     568\n",
              "7       sofia   1681592  225.00      971   8294     374\n",
              "8    valletta    408750    7.47      235  27738     296"
            ]
          },
          "execution_count": 27,
          "metadata": {},
          "output_type": "execute_result"
        }
      ],
      "source": [
        "df_city"
      ]
    },
    {
      "cell_type": "markdown",
      "id": "316b6419",
      "metadata": {
        "id": "316b6419"
      },
      "source": [
        "Toutes ces features pourront également être conservées pour aider à l'entraînement de notre modèle plus tard dans le projet."
      ]
    },
    {
      "cell_type": "markdown",
      "id": "1a7bdf57",
      "metadata": {
        "id": "1a7bdf57"
      },
      "source": [
        "# Etude de la date"
      ]
    },
    {
      "cell_type": "markdown",
      "id": "4232f021",
      "metadata": {
        "id": "4232f021"
      },
      "source": [
        "Ici nous allons étudier la distribution des dates dans le jeu de données de test, afin de voir si il y a un pic de réservation et quand se trouve-t-il."
      ]
    },
    {
      "cell_type": "code",
      "execution_count": 6,
      "id": "0aa26bd1",
      "metadata": {
        "colab": {
          "base_uri": "https://localhost:8080/",
          "height": 509
        },
        "id": "0aa26bd1",
        "outputId": "14a60705-325c-4128-9534-03145351fd7d"
      },
      "outputs": [
        {
          "output_type": "execute_result",
          "data": {
            "text/plain": [
              "(array([464., 467., 484., 449., 443., 458., 450.,   0.,   0.,   0.,   0.,\n",
              "          0.,   0.,   0.,   0., 267., 281., 264., 279., 235., 252., 268.,\n",
              "          0.,   0.,   0.,   0.,   0.,   0.,   0.,   0.,   0.,   0.,   0.,\n",
              "          0., 222., 264., 237., 241., 250., 189., 180.]),\n",
              " array([ 0.        ,  0.97560976,  1.95121951,  2.92682927,  3.90243902,\n",
              "         4.87804878,  5.85365854,  6.82926829,  7.80487805,  8.7804878 ,\n",
              "         9.75609756, 10.73170732, 11.70731707, 12.68292683, 13.65853659,\n",
              "        14.63414634, 15.6097561 , 16.58536585, 17.56097561, 18.53658537,\n",
              "        19.51219512, 20.48780488, 21.46341463, 22.43902439, 23.41463415,\n",
              "        24.3902439 , 25.36585366, 26.34146341, 27.31707317, 28.29268293,\n",
              "        29.26829268, 30.24390244, 31.2195122 , 32.19512195, 33.17073171,\n",
              "        34.14634146, 35.12195122, 36.09756098, 37.07317073, 38.04878049,\n",
              "        39.02439024, 40.        ]),\n",
              " <a list of 41 Patch objects>)"
            ]
          },
          "metadata": {},
          "execution_count": 6
        },
        {
          "output_type": "display_data",
          "data": {
            "text/plain": [
              "<Figure size 432x288 with 1 Axes>"
            ],
            "image/png": "[encoded data removed]"
          },
          "metadata": {
            "needs_background": "light"
          }
        }
      ],
      "source": [
        "plt.hist(df[\"date\"], bins= 41)"
      ]
    },
    {
      "cell_type": "markdown",
      "id": "af3f3ee5",
      "metadata": {
        "id": "af3f3ee5"
      },
      "source": [
        "En observant la distribution des valeurs il semble clair que celle-ci que des intervalles de dates ont été volontairement retirés du set de test. Nous allons donc tenter d'approximer la distribution de ces valeurs estimant le nombre de réservations à partir de la date dans le but de l'utiliser pour notre stratégie de reqûetage de l'API."
      ]
    },
    {
      "cell_type": "code",
      "execution_count": 7,
      "id": "43fdd535",
      "metadata": {
        "colab": {
          "base_uri": "https://localhost:8080/",
          "height": 472
        },
        "id": "43fdd535",
        "outputId": "2a08fdc5-422b-447d-af82-893680910c91"
      },
      "outputs": [
        {
          "output_type": "stream",
          "name": "stderr",
          "text": [
            "Fitting 5 distributions: 100%|██████████| 5/5 [00:02<00:00,  1.72it/s]\n"
          ]
        },
        {
          "output_type": "execute_result",
          "data": {
            "text/plain": [
              "         sumsquare_error          aic           bic  kl_div  ks_statistic  \\\n",
              "gamma           0.239915   858.239828 -67934.684545     inf      0.258940   \n",
              "burr            0.249705   864.627222 -67660.135711     inf      0.197549   \n",
              "beta            0.258416   828.970049 -67432.313491     inf      0.307845   \n",
              "lognorm         0.273260  1213.927192 -67070.037150     inf      0.425777   \n",
              "norm            0.281189   794.774907 -66888.797458     inf      0.231701   \n",
              "\n",
              "             ks_pvalue  \n",
              "gamma     0.000000e+00  \n",
              "burr     1.106177e-227  \n",
              "beta      0.000000e+00  \n",
              "lognorm   0.000000e+00  \n",
              "norm     4.208041e-314  "
            ],
            "text/html": [
              "\n",
              "  <div id=\"df-8ec2ef22-8f40-463e-8faa-891614f1a143\">\n",
              "    <div class=\"colab-df-container\">\n",
              "      <div>\n",
              "<style scoped>\n",
              "    .dataframe tbody tr th:only-of-type {\n",
              "        vertical-align: middle;\n",
              "    }\n",
              "\n",
              "    .dataframe tbody tr th {\n",
              "        vertical-align: top;\n",
              "    }\n",
              "\n",
              "    .dataframe thead th {\n",
              "        text-align: right;\n",
              "    }\n",
              "</style>\n",
              "<table border=\"1\" class=\"dataframe\">\n",
              "  <thead>\n",
              "    <tr style=\"text-align: right;\">\n",
              "      <th></th>\n",
              "      <th>sumsquare_error</th>\n",
              "      <th>aic</th>\n",
              "      <th>bic</th>\n",
              "      <th>kl_div</th>\n",
              "      <th>ks_statistic</th>\n",
              "      <th>ks_pvalue</th>\n",
              "    </tr>\n",
              "  </thead>\n",
              "  <tbody>\n",
              "    <tr>\n",
              "      <th>gamma</th>\n",
              "      <td>0.239915</td>\n",
              "      <td>858.239828</td>\n",
              "      <td>-67934.684545</td>\n",
              "      <td>inf</td>\n",
              "      <td>0.258940</td>\n",
              "      <td>0.000000e+00</td>\n",
              "    </tr>\n",
              "    <tr>\n",
              "      <th>burr</th>\n",
              "      <td>0.249705</td>\n",
              "      <td>864.627222</td>\n",
              "      <td>-67660.135711</td>\n",
              "      <td>inf</td>\n",
              "      <td>0.197549</td>\n",
              "      <td>1.106177e-227</td>\n",
              "    </tr>\n",
              "    <tr>\n",
              "      <th>beta</th>\n",
              "      <td>0.258416</td>\n",
              "      <td>828.970049</td>\n",
              "      <td>-67432.313491</td>\n",
              "      <td>inf</td>\n",
              "      <td>0.307845</td>\n",
              "      <td>0.000000e+00</td>\n",
              "    </tr>\n",
              "    <tr>\n",
              "      <th>lognorm</th>\n",
              "      <td>0.273260</td>\n",
              "      <td>1213.927192</td>\n",
              "      <td>-67070.037150</td>\n",
              "      <td>inf</td>\n",
              "      <td>0.425777</td>\n",
              "      <td>0.000000e+00</td>\n",
              "    </tr>\n",
              "    <tr>\n",
              "      <th>norm</th>\n",
              "      <td>0.281189</td>\n",
              "      <td>794.774907</td>\n",
              "      <td>-66888.797458</td>\n",
              "      <td>inf</td>\n",
              "      <td>0.231701</td>\n",
              "      <td>4.208041e-314</td>\n",
              "    </tr>\n",
              "  </tbody>\n",
              "</table>\n",
              "</div>\n",
              "      <button class=\"colab-df-convert\" onclick=\"convertToInteractive('df-8ec2ef22-8f40-463e-8faa-891614f1a143')\"\n",
              "              title=\"Convert this dataframe to an interactive table.\"\n",
              "              style=\"display:none;\">\n",
              "        \n",
              "  <svg xmlns=\"http://www.w3.org/2000/svg\" height=\"24px\"viewBox=\"0 0 24 24\"\n",
              "       width=\"24px\">\n",
              "    <path d=\"M0 0h24v24H0V0z\" fill=\"none\"/>\n",
              "    <path d=\"M18.56 5.44l.94 2.06.94-2.06 2.06-.94-2.06-.94-.94-2.06-.94 2.06-2.06.94zm-11 1L8.5 8.5l.94-2.06 2.06-.94-2.06-.94L8.5 2.5l-.94 2.06-2.06.94zm10 10l.94 2.06.94-2.06 2.06-.94-2.06-.94-.94-2.06-.94 2.06-2.06.94z\"/><path d=\"M17.41 7.96l-1.37-1.37c-.4-.4-.92-.59-1.43-.59-.52 0-1.04.2-1.43.59L10.3 9.45l-7.72 7.72c-.78.78-.78 2.05 0 2.83L4 21.41c.39.39.9.59 1.41.59.51 0 1.02-.2 1.41-.59l7.78-7.78 2.81-2.81c.8-.78.8-2.07 0-2.86zM5.41 20L4 18.59l7.72-7.72 1.47 1.35L5.41 20z\"/>\n",
              "  </svg>\n",
              "      </button>\n",
              "      \n",
              "  <style>\n",
              "    .colab-df-container {\n",
              "      display:flex;\n",
              "      flex-wrap:wrap;\n",
              "      gap: 12px;\n",
              "    }\n",
              "\n",
              "    .colab-df-convert {\n",
              "      background-color: #E8F0FE;\n",
              "      border: none;\n",
              "      border-radius: 50%;\n",
              "      cursor: pointer;\n",
              "      display: none;\n",
              "      fill: #1967D2;\n",
              "      height: 32px;\n",
              "      padding: 0 0 0 0;\n",
              "      width: 32px;\n",
              "    }\n",
              "\n",
              "    .colab-df-convert:hover {\n",
              "      background-color: #E2EBFA;\n",
              "      box-shadow: 0px 1px 2px rgba(60, 64, 67, 0.3), 0px 1px 3px 1px rgba(60, 64, 67, 0.15);\n",
              "      fill: #174EA6;\n",
              "    }\n",
              "\n",
              "    [theme=dark] .colab-df-convert {\n",
              "      background-color: #3B4455;\n",
              "      fill: #D2E3FC;\n",
              "    }\n",
              "\n",
              "    [theme=dark] .colab-df-convert:hover {\n",
              "      background-color: #434B5C;\n",
              "      box-shadow: 0px 1px 3px 1px rgba(0, 0, 0, 0.15);\n",
              "      filter: drop-shadow(0px 1px 2px rgba(0, 0, 0, 0.3));\n",
              "      fill: #FFFFFF;\n",
              "    }\n",
              "  </style>\n",
              "\n",
              "      <script>\n",
              "        const buttonEl =\n",
              "          document.querySelector('#df-8ec2ef22-8f40-463e-8faa-891614f1a143 button.colab-df-convert');\n",
              "        buttonEl.style.display =\n",
              "          google.colab.kernel.accessAllowed ? 'block' : 'none';\n",
              "\n",
              "        async function convertToInteractive(key) {\n",
              "          const element = document.querySelector('#df-8ec2ef22-8f40-463e-8faa-891614f1a143');\n",
              "          const dataTable =\n",
              "            await google.colab.kernel.invokeFunction('convertToInteractive',\n",
              "                                                     [key], {});\n",
              "          if (!dataTable) return;\n",
              "\n",
              "          const docLinkHtml = 'Like what you see? Visit the ' +\n",
              "            '<a target=\"_blank\" href=https://colab.research.google.com/notebooks/data_table.ipynb>data table notebook</a>'\n",
              "            + ' to learn more about interactive tables.';\n",
              "          element.innerHTML = '';\n",
              "          dataTable['output_type'] = 'display_data';\n",
              "          await google.colab.output.renderOutput(dataTable, element);\n",
              "          const docLink = document.createElement('div');\n",
              "          docLink.innerHTML = docLinkHtml;\n",
              "          element.appendChild(docLink);\n",
              "        }\n",
              "      </script>\n",
              "    </div>\n",
              "  </div>\n",
              "  "
            ]
          },
          "metadata": {},
          "execution_count": 7
        },
        {
          "output_type": "display_data",
          "data": {
            "text/plain": [
              "<Figure size 432x288 with 1 Axes>"
            ],
            "image/png": "[encoded data removed]"
          },
          "metadata": {
            "needs_background": "light"
          }
        }
      ],
      "source": [
        "dates = df[\"date\"].values\n",
        "f = Fitter(dates, distributions=['gamma', 'lognorm', \"beta\", \"burr\", \"norm\"])\n",
        "f.fit()\n",
        "f.summary()"
      ]
    },
    {
      "cell_type": "markdown",
      "id": "7197bc02",
      "metadata": {
        "id": "7197bc02"
      },
      "source": [
        "On peut voir ici que les valeurs manquantes nous empêchent de prédire correctement la distribution des données. On va donc tester différentes techniques de data imputation pour régler ce problème."
      ]
    },
    {
      "cell_type": "code",
      "execution_count": null,
      "id": "1e66dcf3",
      "metadata": {
        "id": "1e66dcf3",
        "outputId": "db6dd727-5c82-4e4f-d18d-30bd9598d128"
      },
      "outputs": [
        {
          "name": "stdout",
          "output_type": "stream",
          "text": [
            "Collecting missingpy\n",
            "  Downloading missingpy-0.2.0-py3-none-any.whl (49 kB)\n",
            "Installing collected packages: missingpy\n",
            "Successfully installed missingpy-0.2.0\n"
          ]
        }
      ],
      "source": []
    }
  ],
  "metadata": {
    "kernelspec": {
      "display_name": "Python 3 (ipykernel)",
      "language": "python",
      "name": "python3"
    },
    "language_info": {
      "codemirror_mode": {
        "name": "ipython",
        "version": 3
      },
      "file_extension": ".py",
      "mimetype": "text/x-python",
      "name": "python",
      "nbconvert_exporter": "python",
      "pygments_lexer": "ipython3",
      "version": "3.9.12"
    },
    "colab": {
      "provenance": [],
      "collapsed_sections": []
    }
  },
  "nbformat": 4,
  "nbformat_minor": 5
}