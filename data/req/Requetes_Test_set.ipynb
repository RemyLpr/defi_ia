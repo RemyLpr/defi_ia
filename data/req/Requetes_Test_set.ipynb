{
  "nbformat": 4,
  "nbformat_minor": 0,
  "metadata": {
    "colab": {
      "provenance": [],
      "authorship_tag": "ABX9TyNkCKoYHvehxCvR3Ac+JQpZ",
      "include_colab_link": true
    },
    "kernelspec": {
      "name": "python3",
      "display_name": "Python 3"
    },
    "language_info": {
      "name": "python"
    }
  },
  "cells": [
    {
      "cell_type": "markdown",
      "metadata": {
        "id": "view-in-github",
        "colab_type": "text"
      },
      "source": [
        "<a href=\"https://colab.research.google.com/github/RemyLpr/defi_ia/blob/main/data/req/Requetes_Test_set.ipynb\" target=\"_parent\"><img src=\"https://colab.research.google.com/assets/colab-badge.svg\" alt=\"Open In Colab\"/></a>"
      ]
    },
    {
      "cell_type": "markdown",
      "source": [
        "# Requêtage sur le test set"
      ],
      "metadata": {
        "id": "pUxYAO_66PVU"
      }
    },
    {
      "cell_type": "code",
      "execution_count": 18,
      "metadata": {
        "id": "cAOoUb__6FMN"
      },
      "outputs": [],
      "source": [
        "import pandas as pd\n",
        "import numpy as np\n",
        "import random\n",
        "import string\n",
        "import urllib.parse\n",
        "import requests"
      ]
    },
    {
      "cell_type": "markdown",
      "source": [
        "## Chargement test set"
      ],
      "metadata": {
        "id": "uhasJvXF6VIV"
      }
    },
    {
      "cell_type": "code",
      "source": [
        "df_test = pd.read_csv('test_set.csv')\n",
        "df_test = df_test.drop(['index', 'avatar_id', 'hotel_id', 'stock'], axis=1)\n",
        "\n",
        "# df avec 1 ligne par paramètres de requêtes\n",
        "df_req = df_test.drop_duplicates(subset=['order_requests'], ignore_index=True)\n",
        "df_req"
      ],
      "metadata": {
        "colab": {
          "base_uri": "https://localhost:8080/",
          "height": 424
        },
        "id": "T2sWG5Zt6fwR",
        "outputId": "a3fd4cae-f191-4eb1-fbc3-b74dde59a6ef"
      },
      "execution_count": 2,
      "outputs": [
        {
          "output_type": "execute_result",
          "data": {
            "text/plain": [
              "     order_requests       city  date  language  mobile\n",
              "0                 1    vilnius    21  romanian       0\n",
              "1                 2    vilnius    18  romanian       0\n",
              "2                 3      paris    39   swedish       1\n",
              "3                 4      paris    36   swedish       1\n",
              "4                 5      paris    15   swedish       0\n",
              "..              ...        ...   ...       ...     ...\n",
              "839             840  amsterdam     2   slovene       1\n",
              "840             841     vienna    35     irish       1\n",
              "841             842     vienna     6     irish       1\n",
              "842             843       rome     5     irish       0\n",
              "843             844     vienna     1     irish       1\n",
              "\n",
              "[844 rows x 5 columns]"
            ],
            "text/html": [
              "\n",
              "  <div id=\"df-fee883e1-53d3-4a2b-a5d0-063e686dfce9\">\n",
              "    <div class=\"colab-df-container\">\n",
              "      <div>\n",
              "<style scoped>\n",
              "    .dataframe tbody tr th:only-of-type {\n",
              "        vertical-align: middle;\n",
              "    }\n",
              "\n",
              "    .dataframe tbody tr th {\n",
              "        vertical-align: top;\n",
              "    }\n",
              "\n",
              "    .dataframe thead th {\n",
              "        text-align: right;\n",
              "    }\n",
              "</style>\n",
              "<table border=\"1\" class=\"dataframe\">\n",
              "  <thead>\n",
              "    <tr style=\"text-align: right;\">\n",
              "      <th></th>\n",
              "      <th>order_requests</th>\n",
              "      <th>city</th>\n",
              "      <th>date</th>\n",
              "      <th>language</th>\n",
              "      <th>mobile</th>\n",
              "    </tr>\n",
              "  </thead>\n",
              "  <tbody>\n",
              "    <tr>\n",
              "      <th>0</th>\n",
              "      <td>1</td>\n",
              "      <td>vilnius</td>\n",
              "      <td>21</td>\n",
              "      <td>romanian</td>\n",
              "      <td>0</td>\n",
              "    </tr>\n",
              "    <tr>\n",
              "      <th>1</th>\n",
              "      <td>2</td>\n",
              "      <td>vilnius</td>\n",
              "      <td>18</td>\n",
              "      <td>romanian</td>\n",
              "      <td>0</td>\n",
              "    </tr>\n",
              "    <tr>\n",
              "      <th>2</th>\n",
              "      <td>3</td>\n",
              "      <td>paris</td>\n",
              "      <td>39</td>\n",
              "      <td>swedish</td>\n",
              "      <td>1</td>\n",
              "    </tr>\n",
              "    <tr>\n",
              "      <th>3</th>\n",
              "      <td>4</td>\n",
              "      <td>paris</td>\n",
              "      <td>36</td>\n",
              "      <td>swedish</td>\n",
              "      <td>1</td>\n",
              "    </tr>\n",
              "    <tr>\n",
              "      <th>4</th>\n",
              "      <td>5</td>\n",
              "      <td>paris</td>\n",
              "      <td>15</td>\n",
              "      <td>swedish</td>\n",
              "      <td>0</td>\n",
              "    </tr>\n",
              "    <tr>\n",
              "      <th>...</th>\n",
              "      <td>...</td>\n",
              "      <td>...</td>\n",
              "      <td>...</td>\n",
              "      <td>...</td>\n",
              "      <td>...</td>\n",
              "    </tr>\n",
              "    <tr>\n",
              "      <th>839</th>\n",
              "      <td>840</td>\n",
              "      <td>amsterdam</td>\n",
              "      <td>2</td>\n",
              "      <td>slovene</td>\n",
              "      <td>1</td>\n",
              "    </tr>\n",
              "    <tr>\n",
              "      <th>840</th>\n",
              "      <td>841</td>\n",
              "      <td>vienna</td>\n",
              "      <td>35</td>\n",
              "      <td>irish</td>\n",
              "      <td>1</td>\n",
              "    </tr>\n",
              "    <tr>\n",
              "      <th>841</th>\n",
              "      <td>842</td>\n",
              "      <td>vienna</td>\n",
              "      <td>6</td>\n",
              "      <td>irish</td>\n",
              "      <td>1</td>\n",
              "    </tr>\n",
              "    <tr>\n",
              "      <th>842</th>\n",
              "      <td>843</td>\n",
              "      <td>rome</td>\n",
              "      <td>5</td>\n",
              "      <td>irish</td>\n",
              "      <td>0</td>\n",
              "    </tr>\n",
              "    <tr>\n",
              "      <th>843</th>\n",
              "      <td>844</td>\n",
              "      <td>vienna</td>\n",
              "      <td>1</td>\n",
              "      <td>irish</td>\n",
              "      <td>1</td>\n",
              "    </tr>\n",
              "  </tbody>\n",
              "</table>\n",
              "<p>844 rows × 5 columns</p>\n",
              "</div>\n",
              "      <button class=\"colab-df-convert\" onclick=\"convertToInteractive('df-fee883e1-53d3-4a2b-a5d0-063e686dfce9')\"\n",
              "              title=\"Convert this dataframe to an interactive table.\"\n",
              "              style=\"display:none;\">\n",
              "        \n",
              "  <svg xmlns=\"http://www.w3.org/2000/svg\" height=\"24px\"viewBox=\"0 0 24 24\"\n",
              "       width=\"24px\">\n",
              "    <path d=\"M0 0h24v24H0V0z\" fill=\"none\"/>\n",
              "    <path d=\"M18.56 5.44l.94 2.06.94-2.06 2.06-.94-2.06-.94-.94-2.06-.94 2.06-2.06.94zm-11 1L8.5 8.5l.94-2.06 2.06-.94-2.06-.94L8.5 2.5l-.94 2.06-2.06.94zm10 10l.94 2.06.94-2.06 2.06-.94-2.06-.94-.94-2.06-.94 2.06-2.06.94z\"/><path d=\"M17.41 7.96l-1.37-1.37c-.4-.4-.92-.59-1.43-.59-.52 0-1.04.2-1.43.59L10.3 9.45l-7.72 7.72c-.78.78-.78 2.05 0 2.83L4 21.41c.39.39.9.59 1.41.59.51 0 1.02-.2 1.41-.59l7.78-7.78 2.81-2.81c.8-.78.8-2.07 0-2.86zM5.41 20L4 18.59l7.72-7.72 1.47 1.35L5.41 20z\"/>\n",
              "  </svg>\n",
              "      </button>\n",
              "      \n",
              "  <style>\n",
              "    .colab-df-container {\n",
              "      display:flex;\n",
              "      flex-wrap:wrap;\n",
              "      gap: 12px;\n",
              "    }\n",
              "\n",
              "    .colab-df-convert {\n",
              "      background-color: #E8F0FE;\n",
              "      border: none;\n",
              "      border-radius: 50%;\n",
              "      cursor: pointer;\n",
              "      display: none;\n",
              "      fill: #1967D2;\n",
              "      height: 32px;\n",
              "      padding: 0 0 0 0;\n",
              "      width: 32px;\n",
              "    }\n",
              "\n",
              "    .colab-df-convert:hover {\n",
              "      background-color: #E2EBFA;\n",
              "      box-shadow: 0px 1px 2px rgba(60, 64, 67, 0.3), 0px 1px 3px 1px rgba(60, 64, 67, 0.15);\n",
              "      fill: #174EA6;\n",
              "    }\n",
              "\n",
              "    [theme=dark] .colab-df-convert {\n",
              "      background-color: #3B4455;\n",
              "      fill: #D2E3FC;\n",
              "    }\n",
              "\n",
              "    [theme=dark] .colab-df-convert:hover {\n",
              "      background-color: #434B5C;\n",
              "      box-shadow: 0px 1px 3px 1px rgba(0, 0, 0, 0.15);\n",
              "      filter: drop-shadow(0px 1px 2px rgba(0, 0, 0, 0.3));\n",
              "      fill: #FFFFFF;\n",
              "    }\n",
              "  </style>\n",
              "\n",
              "      <script>\n",
              "        const buttonEl =\n",
              "          document.querySelector('#df-fee883e1-53d3-4a2b-a5d0-063e686dfce9 button.colab-df-convert');\n",
              "        buttonEl.style.display =\n",
              "          google.colab.kernel.accessAllowed ? 'block' : 'none';\n",
              "\n",
              "        async function convertToInteractive(key) {\n",
              "          const element = document.querySelector('#df-fee883e1-53d3-4a2b-a5d0-063e686dfce9');\n",
              "          const dataTable =\n",
              "            await google.colab.kernel.invokeFunction('convertToInteractive',\n",
              "                                                     [key], {});\n",
              "          if (!dataTable) return;\n",
              "\n",
              "          const docLinkHtml = 'Like what you see? Visit the ' +\n",
              "            '<a target=\"_blank\" href=https://colab.research.google.com/notebooks/data_table.ipynb>data table notebook</a>'\n",
              "            + ' to learn more about interactive tables.';\n",
              "          element.innerHTML = '';\n",
              "          dataTable['output_type'] = 'display_data';\n",
              "          await google.colab.output.renderOutput(dataTable, element);\n",
              "          const docLink = document.createElement('div');\n",
              "          docLink.innerHTML = docLinkHtml;\n",
              "          element.appendChild(docLink);\n",
              "        }\n",
              "      </script>\n",
              "    </div>\n",
              "  </div>\n",
              "  "
            ]
          },
          "metadata": {},
          "execution_count": 2
        }
      ]
    },
    {
      "cell_type": "code",
      "source": [
        "df_req[df_req['order_requests']==53]"
      ],
      "metadata": {
        "colab": {
          "base_uri": "https://localhost:8080/",
          "height": 81
        },
        "id": "yR2OoI5mCrY7",
        "outputId": "d561b141-1638-48a6-ee78-4991b55fa47e"
      },
      "execution_count": 3,
      "outputs": [
        {
          "output_type": "execute_result",
          "data": {
            "text/plain": [
              "    order_requests    city  date language  mobile\n",
              "52              53  madrid     0   german       1"
            ],
            "text/html": [
              "\n",
              "  <div id=\"df-753572d8-b857-4e0c-b558-65432c90a06b\">\n",
              "    <div class=\"colab-df-container\">\n",
              "      <div>\n",
              "<style scoped>\n",
              "    .dataframe tbody tr th:only-of-type {\n",
              "        vertical-align: middle;\n",
              "    }\n",
              "\n",
              "    .dataframe tbody tr th {\n",
              "        vertical-align: top;\n",
              "    }\n",
              "\n",
              "    .dataframe thead th {\n",
              "        text-align: right;\n",
              "    }\n",
              "</style>\n",
              "<table border=\"1\" class=\"dataframe\">\n",
              "  <thead>\n",
              "    <tr style=\"text-align: right;\">\n",
              "      <th></th>\n",
              "      <th>order_requests</th>\n",
              "      <th>city</th>\n",
              "      <th>date</th>\n",
              "      <th>language</th>\n",
              "      <th>mobile</th>\n",
              "    </tr>\n",
              "  </thead>\n",
              "  <tbody>\n",
              "    <tr>\n",
              "      <th>52</th>\n",
              "      <td>53</td>\n",
              "      <td>madrid</td>\n",
              "      <td>0</td>\n",
              "      <td>german</td>\n",
              "      <td>1</td>\n",
              "    </tr>\n",
              "  </tbody>\n",
              "</table>\n",
              "</div>\n",
              "      <button class=\"colab-df-convert\" onclick=\"convertToInteractive('df-753572d8-b857-4e0c-b558-65432c90a06b')\"\n",
              "              title=\"Convert this dataframe to an interactive table.\"\n",
              "              style=\"display:none;\">\n",
              "        \n",
              "  <svg xmlns=\"http://www.w3.org/2000/svg\" height=\"24px\"viewBox=\"0 0 24 24\"\n",
              "       width=\"24px\">\n",
              "    <path d=\"M0 0h24v24H0V0z\" fill=\"none\"/>\n",
              "    <path d=\"M18.56 5.44l.94 2.06.94-2.06 2.06-.94-2.06-.94-.94-2.06-.94 2.06-2.06.94zm-11 1L8.5 8.5l.94-2.06 2.06-.94-2.06-.94L8.5 2.5l-.94 2.06-2.06.94zm10 10l.94 2.06.94-2.06 2.06-.94-2.06-.94-.94-2.06-.94 2.06-2.06.94z\"/><path d=\"M17.41 7.96l-1.37-1.37c-.4-.4-.92-.59-1.43-.59-.52 0-1.04.2-1.43.59L10.3 9.45l-7.72 7.72c-.78.78-.78 2.05 0 2.83L4 21.41c.39.39.9.59 1.41.59.51 0 1.02-.2 1.41-.59l7.78-7.78 2.81-2.81c.8-.78.8-2.07 0-2.86zM5.41 20L4 18.59l7.72-7.72 1.47 1.35L5.41 20z\"/>\n",
              "  </svg>\n",
              "      </button>\n",
              "      \n",
              "  <style>\n",
              "    .colab-df-container {\n",
              "      display:flex;\n",
              "      flex-wrap:wrap;\n",
              "      gap: 12px;\n",
              "    }\n",
              "\n",
              "    .colab-df-convert {\n",
              "      background-color: #E8F0FE;\n",
              "      border: none;\n",
              "      border-radius: 50%;\n",
              "      cursor: pointer;\n",
              "      display: none;\n",
              "      fill: #1967D2;\n",
              "      height: 32px;\n",
              "      padding: 0 0 0 0;\n",
              "      width: 32px;\n",
              "    }\n",
              "\n",
              "    .colab-df-convert:hover {\n",
              "      background-color: #E2EBFA;\n",
              "      box-shadow: 0px 1px 2px rgba(60, 64, 67, 0.3), 0px 1px 3px 1px rgba(60, 64, 67, 0.15);\n",
              "      fill: #174EA6;\n",
              "    }\n",
              "\n",
              "    [theme=dark] .colab-df-convert {\n",
              "      background-color: #3B4455;\n",
              "      fill: #D2E3FC;\n",
              "    }\n",
              "\n",
              "    [theme=dark] .colab-df-convert:hover {\n",
              "      background-color: #434B5C;\n",
              "      box-shadow: 0px 1px 3px 1px rgba(0, 0, 0, 0.15);\n",
              "      filter: drop-shadow(0px 1px 2px rgba(0, 0, 0, 0.3));\n",
              "      fill: #FFFFFF;\n",
              "    }\n",
              "  </style>\n",
              "\n",
              "      <script>\n",
              "        const buttonEl =\n",
              "          document.querySelector('#df-753572d8-b857-4e0c-b558-65432c90a06b button.colab-df-convert');\n",
              "        buttonEl.style.display =\n",
              "          google.colab.kernel.accessAllowed ? 'block' : 'none';\n",
              "\n",
              "        async function convertToInteractive(key) {\n",
              "          const element = document.querySelector('#df-753572d8-b857-4e0c-b558-65432c90a06b');\n",
              "          const dataTable =\n",
              "            await google.colab.kernel.invokeFunction('convertToInteractive',\n",
              "                                                     [key], {});\n",
              "          if (!dataTable) return;\n",
              "\n",
              "          const docLinkHtml = 'Like what you see? Visit the ' +\n",
              "            '<a target=\"_blank\" href=https://colab.research.google.com/notebooks/data_table.ipynb>data table notebook</a>'\n",
              "            + ' to learn more about interactive tables.';\n",
              "          element.innerHTML = '';\n",
              "          dataTable['output_type'] = 'display_data';\n",
              "          await google.colab.output.renderOutput(dataTable, element);\n",
              "          const docLink = document.createElement('div');\n",
              "          docLink.innerHTML = docLinkHtml;\n",
              "          element.appendChild(docLink);\n",
              "        }\n",
              "      </script>\n",
              "    </div>\n",
              "  </div>\n",
              "  "
            ]
          },
          "metadata": {},
          "execution_count": 3
        }
      ]
    },
    {
      "cell_type": "markdown",
      "source": [
        "## Moyen de requêter test set avec date -1 et date +1"
      ],
      "metadata": {
        "id": "UueyHIYn-rcl"
      }
    },
    {
      "cell_type": "markdown",
      "source": [
        "### Définition des paramètres de requêtes"
      ],
      "metadata": {
        "id": "mwTxrtx72ePO"
      }
    },
    {
      "cell_type": "markdown",
      "source": [
        "Faire une fonction qui parcourt le df req et prend les mêmes paramètres. Utiliser le numéro de ligne pour savoir quelle ligne utiliser dans les paramètres. (savoir où on en est). (pas utiliser la date)"
      ],
      "metadata": {
        "id": "9g_8tMrq_3xY"
      }
    },
    {
      "cell_type": "code",
      "source": [
        "def params_around_date(df_req, index_order_requests, date_b_a):\n",
        "  # on fait -1 à l'index car par exemple si l'on veut les paramètres de order_requests=1, on veut l'index 0\n",
        "  city = df_req.iloc[index_order_requests-1]['city']\n",
        "  if date_b_a == 'b': #date avant\n",
        "    date = df_req.iloc[index_order_requests-1]['date'] -1\n",
        "  else: #date après\n",
        "    date = df_req.iloc[index_order_requests-1]['date'] +1\n",
        "  language = df_req.iloc[index_order_requests-1]['language']\n",
        "  mobile = df_req.iloc[index_order_requests-1]['mobile']\n",
        "  avatar = ''.join(random.choices(string.ascii_uppercase + string.digits, k=6))\n",
        "  params = {\"city\": city, \"date\": date, \"language\": language, \"mobile\": mobile, \"avatar_name\": avatar}\n",
        "  \n",
        "  return params"
      ],
      "metadata": {
        "id": "eVeDXdvZvrH8"
      },
      "execution_count": 32,
      "outputs": []
    },
    {
      "cell_type": "markdown",
      "source": [
        "### Requêtage"
      ],
      "metadata": {
        "id": "buGe0YPu2nF-"
      }
    },
    {
      "cell_type": "code",
      "source": [
        "domain = \"51.91.251.0\"\n",
        "port = 3000\n",
        "host = f\"http://{domain}:{port}\"\n",
        "path = lambda x: urllib.parse.urljoin(host, x)\n",
        "user_id = 'e68dad03-0d1a-4038-8766-382b25fe4252'"
      ],
      "metadata": {
        "id": "xcaql31F47g2"
      },
      "execution_count": 10,
      "outputs": []
    },
    {
      "cell_type": "code",
      "source": [
        "r = requests.get(path(f\"remaining-requests/{user_id}\"))\n",
        "print(\"Nombre de requêtes restantes :\", r.json())"
      ],
      "metadata": {
        "colab": {
          "base_uri": "https://localhost:8080/"
        },
        "id": "GZZqacjW_ghg",
        "outputId": "4c37c12a-5792-4b05-ea5a-d1684c59174f"
      },
      "execution_count": 47,
      "outputs": [
        {
          "output_type": "stream",
          "name": "stdout",
          "text": [
            "Nombre de requêtes restantes : 223\n"
          ]
        }
      ]
    },
    {
      "cell_type": "code",
      "source": [
        "nb_req = int(input(\"Entrez le nombre de requêtes à exécuter \"))\n",
        "index_order_requests = 54\n",
        "old_df = pd.read_csv(\"train_set.csv\")\n",
        "df = old_df.copy()\n",
        "req_count = int(old_df[\"order_requests\"].tolist()[-1]) # on récupère la dernière colonne (order_requests) de la dernière ligne\n",
        "i = 1\n",
        "while (i < nb_req +1):\n",
        "  for d in ['b', 'a']:\n",
        "    params = params_around_date(df_req, index_order_requests=index_order_requests, date_b_a=d)\n",
        "    if params['date']==-1:\n",
        "      continue\n",
        "    elif params['date']==45:\n",
        "      continue\n",
        "    else:\n",
        "      requests.post(path(f'avatars/{user_id}/{params[\"avatar_name\"]}')) # on doit indiquer à l'API qu'on crée ce nouvel avatar\n",
        "      r = requests.get(path(f\"pricing/{user_id}\"), params = params)\n",
        "      result = r.json() # résultat de la requête au format json\n",
        "      query_res = pd.DataFrame(result['prices'])\n",
        "      params_df = pd.DataFrame([result['request']]*len(query_res))\n",
        "      new_df = pd.concat([query_res, params_df], axis=1)\n",
        "      new_df[\"avatar_name\"] = params[\"avatar_name\"] # ajout du nom de l'avatar\n",
        "      new_df[\"order_requests\"] = req_count + i # ajout de la colonne order_requests comme dans le test_set\n",
        "      # on ajoute les données extraites à notre dataset\n",
        "      df = pd.concat([df, new_df])\n",
        "      df.to_csv(\"train_set.csv\", index=False) # pour pas écrire la colonne Unnamed : 0\n",
        "      i += 1\n",
        "  index_order_requests += 1\n",
        "print(\"Requêtage terminé !\")\n",
        "print('prochain index order requests à mettre à la ligne 2 de cette cellule :', index_order_requests)"
      ],
      "metadata": {
        "colab": {
          "base_uri": "https://localhost:8080/"
        },
        "id": "P_IZ5aiS2quG",
        "outputId": "3e9ccf09-d2c9-4c76-b5d5-cf14364d58e5"
      },
      "execution_count": 46,
      "outputs": [
        {
          "output_type": "stream",
          "name": "stdout",
          "text": [
            "Entrez le nombre de requêtes à exécuter 100\n",
            "Requêtage terminé !\n",
            "prochain index order requests à mettre à la ligne 2 de cette cellule : 107\n"
          ]
        }
      ]
    }
  ]
}