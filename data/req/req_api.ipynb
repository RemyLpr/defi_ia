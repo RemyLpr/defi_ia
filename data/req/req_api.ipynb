{
  "cells": [
    {
      "cell_type": "markdown",
      "metadata": {
        "id": "view-in-github",
        "colab_type": "text"
      },
      "source": [
        "<a href=\"https://colab.research.google.com/github/RemyLpr/defi_ia/blob/main/data/req/req_api.ipynb\" target=\"_parent\"><img src=\"https://colab.research.google.com/assets/colab-badge.svg\" alt=\"Open In Colab\"/></a>"
      ]
    },
    {
      "cell_type": "markdown",
      "metadata": {
        "id": "7A639n2OSPYg"
      },
      "source": [
        "# Import des modules et des données"
      ]
    },
    {
      "cell_type": "code",
      "execution_count": 1,
      "metadata": {
        "id": "8tHIk4dESPYk"
      },
      "outputs": [],
      "source": [
        "import urllib.parse\n",
        "import requests\n",
        "import numpy as np\n",
        "import pandas as pd\n",
        "import random\n",
        "import string\n",
        "import csv\n",
        "from IPython.display import display\n",
        "import io\n",
        "from google.colab import files"
      ]
    },
    {
      "cell_type": "code",
      "source": [
        "df_test = pd.read_csv(\"test_set.csv\")\n",
        "coeffs_date = pd.read_csv(\"coeffs_date.csv\")\n",
        "coeffs_computer = pd.read_csv(\"coeffs_computer.csv\")"
      ],
      "metadata": {
        "id": "MKBHLBP7CNcJ"
      },
      "execution_count": 2,
      "outputs": []
    },
    {
      "cell_type": "markdown",
      "source": [
        "# Initialisation session API"
      ],
      "metadata": {
        "id": "3t8hRyuGLk29"
      }
    },
    {
      "cell_type": "code",
      "execution_count": 3,
      "metadata": {
        "id": "6UQ0SJLFSPYl"
      },
      "outputs": [],
      "source": [
        "domain = \"51.91.251.0\"\n",
        "port = 3000\n",
        "host = f\"http://{domain}:{port}\"\n",
        "path = lambda x: urllib.parse.urljoin(host, x)\n",
        "user_id = 'e68dad03-0d1a-4038-8766-382b25fe4252'"
      ]
    },
    {
      "cell_type": "markdown",
      "metadata": {
        "id": "GURt9H25SPYl"
      },
      "source": [
        "# Requêtes restantes"
      ]
    },
    {
      "cell_type": "code",
      "execution_count": 4,
      "metadata": {
        "colab": {
          "base_uri": "https://localhost:8080/"
        },
        "id": "GWGXHRpnSPYm",
        "outputId": "865d5e1b-668f-4a69-bd35-a68d4bd65ec0"
      },
      "outputs": [
        {
          "output_type": "stream",
          "name": "stdout",
          "text": [
            "Nombre de requêtes restantes : 649\n"
          ]
        }
      ],
      "source": [
        "r = requests.get(path(f\"remaining-requests/{user_id}\"))\n",
        "print(\"Nombre de requêtes restantes :\", r.json())"
      ]
    },
    {
      "cell_type": "markdown",
      "source": [
        "# Génération des paramètres"
      ],
      "metadata": {
        "id": "jEyWwRg_BEt4"
      }
    },
    {
      "cell_type": "code",
      "source": [
        "def params_generator(df_test, coeffs_date, coeffs_computer):\n",
        "  # Pour city, répartition uniforme\n",
        "  cities = df_test[\"city\"].unique().tolist() # array par défaut\n",
        "  city = random.choice(cities) # ville choisie\n",
        "  # Pour date, suivre répartition fichier coeffs_date\n",
        "  date = random.choices(coeffs_date[\"date\"], coeffs_date[\"coeff\"], k = 1)[0] # liste renvoyée, on prend premier terme car k = 1\n",
        "  # Pour language, répartition uniforme également (choix par défaut)\n",
        "  languages = df_test[\"language\"].unique().tolist()\n",
        "  language = random.choice(languages) # langue choisie\n",
        "  # Pour mobile, répartition suivant le fichier coeffs_computer\n",
        "  mobile_prob = coeffs_computer[\"computer\"].tolist()[int(date)] # on sélectionne la proba que mobile = 0 correspondant à la date sélectionnée\n",
        "  mobile_prob = [mobile_prob, 1 - mobile_prob]\n",
        "  mobile = random.choices([0, 1], mobile_prob, k = 1)[0]\n",
        "  # Pour l'instant on utilie un avatar par requête (temporaire)\n",
        "  avatar = ''.join(random.choices(string.ascii_uppercase + string.digits, k=6)) # génération d'un pseudo aléatoire\n",
        "  # Définition du dictionnaire des paramètres\n",
        "  params = {\"city\" : city, \"date\" : date, \"language\" : language, \"mobile\" : mobile, \"avatar_name\" : avatar}\n",
        "  return params"
      ],
      "metadata": {
        "id": "hcrEGtfIBQ9s"
      },
      "execution_count": 5,
      "outputs": []
    },
    {
      "cell_type": "code",
      "source": [
        "params = params_generator(df_test, coeffs_date, coeffs_computer)\n",
        "params"
      ],
      "metadata": {
        "colab": {
          "base_uri": "https://localhost:8080/"
        },
        "id": "JGEZlBz_QILY",
        "outputId": "80dfde16-0f9f-452e-cb26-078840a53775"
      },
      "execution_count": 11,
      "outputs": [
        {
          "output_type": "execute_result",
          "data": {
            "text/plain": [
              "{'city': 'vienna',\n",
              " 'date': 25,\n",
              " 'language': 'romanian',\n",
              " 'mobile': 0,\n",
              " 'avatar_name': '6HVKGQ'}"
            ]
          },
          "metadata": {},
          "execution_count": 11
        }
      ]
    },
    {
      "cell_type": "markdown",
      "source": [
        "# Requêtage de l'API"
      ],
      "metadata": {
        "id": "bqZExHYnLWCn"
      }
    },
    {
      "cell_type": "markdown",
      "source": [
        "**IMPORTANT** <br>\n",
        "Avant de requêter il est nécessaire de pull la dernière version du fichier train_set.csv depuis le git et ensuite l'importer manuellement dans Colab. Une fois les requêtes effectuées il faut sauvegarder le fichier à l'emplacement local du git et push. Mettre un commentaire suivant le format : <br> prénom + nb_req total + date + heure"
      ],
      "metadata": {
        "id": "IRfusV8Uh0KI"
      }
    },
    {
      "cell_type": "code",
      "source": [
        "nb_req = int(input(\"Entrez le nombre de requêtes à exécuter \"))\n",
        "old_df = pd.read_csv(\"train_set.csv\")\n",
        "df = old_df.copy()\n",
        "req_count = int(old_df[\"order_requests\"].tolist()[-1]) # on récupère la dernière colonne (order_requests) de la dernière ligne\n",
        "for i in range(1, nb_req + 1):\n",
        "  params = params_generator(df_test, coeffs_date, coeffs_computer)\n",
        "  requests.post(path(f'avatars/{user_id}/{params[\"avatar_name\"]}')) # on doit indiquer à l'API qu'on crée ce nouvel avatar\n",
        "  r = requests.get(path(f\"pricing/{user_id}\"), params = params)\n",
        "  result = r.json() # résultat de la requête au format json\n",
        "  query_res = pd.DataFrame(result['prices'])\n",
        "  params_df = pd.DataFrame([result['request']]*len(query_res))\n",
        "  new_df = pd.concat([query_res, params_df], axis=1)\n",
        "  new_df[\"avatar_name\"] = params[\"avatar_name\"] # ajout du nom de l'avatar\n",
        "  new_df[\"order_requests\"] = req_count + i # ajout de la colonne order_requests comme dans le test_set\n",
        "  # on ajoute les données extraites à notre dataset\n",
        "  df = pd.concat([df, new_df])\n",
        "df.to_csv(\"train_set.csv\", index=False) # pour pas écrire la colonne Unnamed : 0\n",
        "print(\"Requêtage terminé !\")"
      ],
      "metadata": {
        "colab": {
          "base_uri": "https://localhost:8080/"
        },
        "id": "6A4jKGojLbA5",
        "outputId": "b31b120b-791a-442d-c73b-6ccd567d4b90"
      },
      "execution_count": 12,
      "outputs": [
        {
          "output_type": "stream",
          "name": "stdout",
          "text": [
            "Entrez le nombre de requêtes à exécuter 500\n",
            "Requêtage terminé !\n"
          ]
        }
      ]
    }
  ],
  "metadata": {
    "kernelspec": {
      "display_name": "Python 3",
      "language": "python",
      "name": "python3"
    },
    "language_info": {
      "codemirror_mode": {
        "name": "ipython",
        "version": 3
      },
      "file_extension": ".py",
      "mimetype": "text/x-python",
      "name": "python",
      "nbconvert_exporter": "python",
      "pygments_lexer": "ipython3",
      "version": "3.8.3"
    },
    "colab": {
      "provenance": [],
      "include_colab_link": true
    }
  },
  "nbformat": 4,
  "nbformat_minor": 0
}