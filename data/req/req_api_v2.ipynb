{
  "cells": [
    {
      "cell_type": "markdown",
      "metadata": {
        "id": "view-in-github",
        "colab_type": "text"
      },
      "source": [
        "<a href=\"https://colab.research.google.com/github/RemyLpr/defi_ia/blob/main/data/req/req_api_v2.ipynb\" target=\"_parent\"><img src=\"https://colab.research.google.com/assets/colab-badge.svg\" alt=\"Open In Colab\"/></a>"
      ]
    },
    {
      "cell_type": "markdown",
      "metadata": {
        "id": "7A639n2OSPYg"
      },
      "source": [
        "# Import des modules et des données"
      ]
    },
    {
      "cell_type": "code",
      "execution_count": null,
      "metadata": {
        "id": "8tHIk4dESPYk"
      },
      "outputs": [],
      "source": [
        "import urllib.parse\n",
        "import requests\n",
        "import numpy as np\n",
        "import pandas as pd\n",
        "import random\n",
        "import string\n",
        "import csv\n",
        "from IPython.display import display\n",
        "import io\n",
        "from google.colab import files"
      ]
    },
    {
      "cell_type": "code",
      "source": [
        "df_test = pd.read_csv(\"test_set.csv\")"
      ],
      "metadata": {
        "id": "MKBHLBP7CNcJ"
      },
      "execution_count": null,
      "outputs": []
    },
    {
      "cell_type": "markdown",
      "source": [
        "# Initialisation session API"
      ],
      "metadata": {
        "id": "3t8hRyuGLk29"
      }
    },
    {
      "cell_type": "code",
      "execution_count": null,
      "metadata": {
        "id": "6UQ0SJLFSPYl"
      },
      "outputs": [],
      "source": [
        "domain = \"51.91.251.0\"\n",
        "port = 3000\n",
        "host = f\"http://{domain}:{port}\"\n",
        "path = lambda x: urllib.parse.urljoin(host, x)\n",
        "user_id = 'e68dad03-0d1a-4038-8766-382b25fe4252'"
      ]
    },
    {
      "cell_type": "markdown",
      "metadata": {
        "id": "GURt9H25SPYl"
      },
      "source": [
        "# Requêtes restantes"
      ]
    },
    {
      "cell_type": "code",
      "execution_count": null,
      "metadata": {
        "colab": {
          "base_uri": "https://localhost:8080/"
        },
        "id": "GWGXHRpnSPYm",
        "outputId": "209a0d7b-69a6-4525-bb9f-1b097ce0aab7"
      },
      "outputs": [
        {
          "output_type": "stream",
          "name": "stdout",
          "text": [
            "Nombre de requêtes restantes : 602\n"
          ]
        }
      ],
      "source": [
        "r = requests.get(path(f\"remaining-requests/{user_id}\"))\n",
        "print(\"Nombre de requêtes restantes :\", r.json())"
      ]
    },
    {
      "cell_type": "markdown",
      "source": [
        "# Requêtage de l'API"
      ],
      "metadata": {
        "id": "bqZExHYnLWCn"
      }
    },
    {
      "cell_type": "code",
      "source": [
        "df = pd.DataFrame()\n",
        "city = input()\n",
        "for day in range(0, 45):\n",
        "  avatar = ''.join(random.choices(string.ascii_uppercase + string.digits, k=6)) # génération d'un pseudo aléatoire\n",
        "  params = {'city': city, 'date': day, 'language': 'hungarian', 'mobile': 0, 'avatar_name': avatar}\n",
        "  requests.post(path(f'avatars/{user_id}/{params[\"avatar_name\"]}')) # on doit indiquer à l'API qu'on crée ce nouvel avatar\n",
        "  r = requests.get(path(f\"pricing/{user_id}\"), params = params)\n",
        "  result = r.json() # résultat de la requête au format json\n",
        "  query_res = pd.DataFrame(result['prices'])\n",
        "  params_df = pd.DataFrame([result['request']]*len(query_res))\n",
        "  new_df = pd.concat([query_res, params_df], axis=1)\n",
        "  new_df[\"avatar_name\"] = params[\"avatar_name\"] # ajout du nom de l'avatar\n",
        "  # on ajoute les données extraites à notre dataset\n",
        "  df = pd.concat([df, new_df])\n",
        "df.to_csv(str(city + \".csv\"), index=False) # pour pas écrire la colonne Unnamed : 0\n",
        "print(\"Requêtage terminé !\")"
      ],
      "metadata": {
        "colab": {
          "base_uri": "https://localhost:8080/"
        },
        "id": "6A4jKGojLbA5",
        "outputId": "95f8b0b5-90ae-4197-85c1-4fbafa41461e"
      },
      "execution_count": null,
      "outputs": [
        {
          "output_type": "stream",
          "name": "stdout",
          "text": [
            "vilnius\n",
            "Requêtage terminé !\n"
          ]
        }
      ]
    }
  ],
  "metadata": {
    "kernelspec": {
      "display_name": "Python 3",
      "language": "python",
      "name": "python3"
    },
    "language_info": {
      "codemirror_mode": {
        "name": "ipython",
        "version": 3
      },
      "file_extension": ".py",
      "mimetype": "text/x-python",
      "name": "python",
      "nbconvert_exporter": "python",
      "pygments_lexer": "ipython3",
      "version": "3.8.3"
    },
    "colab": {
      "provenance": [],
      "include_colab_link": true
    }
  },
  "nbformat": 4,
  "nbformat_minor": 0
}