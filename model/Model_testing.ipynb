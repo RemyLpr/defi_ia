{
  "cells": [
    {
      "cell_type": "markdown",
      "metadata": {
        "id": "view-in-github",
        "colab_type": "text"
      },
      "source": [
        "<a href=\"https://colab.research.google.com/github/RemyLpr/defi_ia/blob/main/model/Model_testing.ipynb\" target=\"_parent\"><img src=\"https://colab.research.google.com/assets/colab-badge.svg\" alt=\"Open In Colab\"/></a>"
      ]
    },
    {
      "cell_type": "markdown",
      "metadata": {
        "id": "2aGihSp-QzcS"
      },
      "source": [
        "# Import des modules et des données"
      ]
    },
    {
      "cell_type": "code",
      "execution_count": 1,
      "metadata": {
        "id": "bze02DSzQcr8"
      },
      "outputs": [],
      "source": [
        "import pandas as pd\n",
        "from sklearn.pipeline import make_pipeline\n",
        "import matplotlib.pyplot as plt\n",
        "from sklearn.preprocessing import StandardScaler, MinMaxScaler\n",
        "from sklearn.model_selection import train_test_split\n",
        "from sklearn.metrics import mean_squared_error\n",
        "from sklearn.feature_selection import SelectKBest, f_regression\n",
        "from sklearn.feature_selection import RFECV\n",
        "import warnings\n",
        "warnings.filterwarnings('ignore')"
      ]
    },
    {
      "cell_type": "code",
      "execution_count": 33,
      "metadata": {
        "id": "d4bYYXUYQ9HB"
      },
      "outputs": [],
      "source": [
        "df = pd.read_csv(\"train_set.csv\") # données d'entraînement\n",
        "df_eval = pd.read_csv(\"test_set.csv\") # données de test du site\n",
        "df_hotel = pd.read_csv(\"features_hotels.csv\") # données sur les hôtels\n",
        "df_clust = pd.read_csv(\"hotel_price_clust.csv\") # clusters sur les prix des hôtels à J44\n",
        "df_stock_j44_clust = pd.read_csv(\"stock_j44_clust.csv\") # clusters sur les stocks des hôtels à J44\n",
        "df_golden = pd.read_csv(\"golden_vente_local.csv\") # feature golden\n",
        "df_lang = pd.read_csv(\"coeff_lang.csv\") # coefficients pour chaque langue"
      ]
    },
    {
      "cell_type": "markdown",
      "metadata": {
        "id": "dKoSmWw4Q5X2"
      },
      "source": [
        "# Preview des données"
      ]
    },
    {
      "cell_type": "code",
      "execution_count": 5,
      "metadata": {
        "colab": {
          "base_uri": "https://localhost:8080/",
          "height": 424
        },
        "id": "UDfgXfCqUFMY",
        "outputId": "9c9ec6aa-36af-4740-fa1c-d6335bf4d82c"
      },
      "outputs": [
        {
          "output_type": "execute_result",
          "data": {
            "text/plain": [
              "        hotel_id  price  stock     city  date    language  mobile  avatar_id  \\\n",
              "0            768    286     13   madrid    11  portuguese       0     155051   \n",
              "1            126     96      8   madrid    11  portuguese       0     155051   \n",
              "2            378    124      0   madrid    11  portuguese       0     155051   \n",
              "3            351     91      4   madrid    11  portuguese       0     155051   \n",
              "4            747    172     15   madrid    11  portuguese       0     155051   \n",
              "...          ...    ...    ...      ...   ...         ...     ...        ...   \n",
              "166832       503    277      4  vilnius     5  lithuanian       0     267714   \n",
              "166833       240    224      4  vilnius     5  lithuanian       0     267714   \n",
              "166834       820    207      4  vilnius     5  lithuanian       0     267714   \n",
              "166835       288    113      0  vilnius     5  lithuanian       0     267714   \n",
              "166836       136    107      3  vilnius     5  lithuanian       0     267714   \n",
              "\n",
              "       avatar_name  order_requests  \n",
              "0           8HOAWS               1  \n",
              "1           8HOAWS               1  \n",
              "2           8HOAWS               1  \n",
              "3           8HOAWS               1  \n",
              "4           8HOAWS               1  \n",
              "...            ...             ...  \n",
              "166832      9HJM3R            1566  \n",
              "166833      9HJM3R            1566  \n",
              "166834      9HJM3R            1566  \n",
              "166835      9HJM3R            1566  \n",
              "166836      9HJM3R            1566  \n",
              "\n",
              "[166837 rows x 10 columns]"
            ],
            "text/html": [
              "\n",
              "  <div id=\"df-8ca4b8c2-ee83-463b-b07f-9e40570f9b0b\">\n",
              "    <div class=\"colab-df-container\">\n",
              "      <div>\n",
              "<style scoped>\n",
              "    .dataframe tbody tr th:only-of-type {\n",
              "        vertical-align: middle;\n",
              "    }\n",
              "\n",
              "    .dataframe tbody tr th {\n",
              "        vertical-align: top;\n",
              "    }\n",
              "\n",
              "    .dataframe thead th {\n",
              "        text-align: right;\n",
              "    }\n",
              "</style>\n",
              "<table border=\"1\" class=\"dataframe\">\n",
              "  <thead>\n",
              "    <tr style=\"text-align: right;\">\n",
              "      <th></th>\n",
              "      <th>hotel_id</th>\n",
              "      <th>price</th>\n",
              "      <th>stock</th>\n",
              "      <th>city</th>\n",
              "      <th>date</th>\n",
              "      <th>language</th>\n",
              "      <th>mobile</th>\n",
              "      <th>avatar_id</th>\n",
              "      <th>avatar_name</th>\n",
              "      <th>order_requests</th>\n",
              "    </tr>\n",
              "  </thead>\n",
              "  <tbody>\n",
              "    <tr>\n",
              "      <th>0</th>\n",
              "      <td>768</td>\n",
              "      <td>286</td>\n",
              "      <td>13</td>\n",
              "      <td>madrid</td>\n",
              "      <td>11</td>\n",
              "      <td>portuguese</td>\n",
              "      <td>0</td>\n",
              "      <td>155051</td>\n",
              "      <td>8HOAWS</td>\n",
              "      <td>1</td>\n",
              "    </tr>\n",
              "    <tr>\n",
              "      <th>1</th>\n",
              "      <td>126</td>\n",
              "      <td>96</td>\n",
              "      <td>8</td>\n",
              "      <td>madrid</td>\n",
              "      <td>11</td>\n",
              "      <td>portuguese</td>\n",
              "      <td>0</td>\n",
              "      <td>155051</td>\n",
              "      <td>8HOAWS</td>\n",
              "      <td>1</td>\n",
              "    </tr>\n",
              "    <tr>\n",
              "      <th>2</th>\n",
              "      <td>378</td>\n",
              "      <td>124</td>\n",
              "      <td>0</td>\n",
              "      <td>madrid</td>\n",
              "      <td>11</td>\n",
              "      <td>portuguese</td>\n",
              "      <td>0</td>\n",
              "      <td>155051</td>\n",
              "      <td>8HOAWS</td>\n",
              "      <td>1</td>\n",
              "    </tr>\n",
              "    <tr>\n",
              "      <th>3</th>\n",
              "      <td>351</td>\n",
              "      <td>91</td>\n",
              "      <td>4</td>\n",
              "      <td>madrid</td>\n",
              "      <td>11</td>\n",
              "      <td>portuguese</td>\n",
              "      <td>0</td>\n",
              "      <td>155051</td>\n",
              "      <td>8HOAWS</td>\n",
              "      <td>1</td>\n",
              "    </tr>\n",
              "    <tr>\n",
              "      <th>4</th>\n",
              "      <td>747</td>\n",
              "      <td>172</td>\n",
              "      <td>15</td>\n",
              "      <td>madrid</td>\n",
              "      <td>11</td>\n",
              "      <td>portuguese</td>\n",
              "      <td>0</td>\n",
              "      <td>155051</td>\n",
              "      <td>8HOAWS</td>\n",
              "      <td>1</td>\n",
              "    </tr>\n",
              "    <tr>\n",
              "      <th>...</th>\n",
              "      <td>...</td>\n",
              "      <td>...</td>\n",
              "      <td>...</td>\n",
              "      <td>...</td>\n",
              "      <td>...</td>\n",
              "      <td>...</td>\n",
              "      <td>...</td>\n",
              "      <td>...</td>\n",
              "      <td>...</td>\n",
              "      <td>...</td>\n",
              "    </tr>\n",
              "    <tr>\n",
              "      <th>166832</th>\n",
              "      <td>503</td>\n",
              "      <td>277</td>\n",
              "      <td>4</td>\n",
              "      <td>vilnius</td>\n",
              "      <td>5</td>\n",
              "      <td>lithuanian</td>\n",
              "      <td>0</td>\n",
              "      <td>267714</td>\n",
              "      <td>9HJM3R</td>\n",
              "      <td>1566</td>\n",
              "    </tr>\n",
              "    <tr>\n",
              "      <th>166833</th>\n",
              "      <td>240</td>\n",
              "      <td>224</td>\n",
              "      <td>4</td>\n",
              "      <td>vilnius</td>\n",
              "      <td>5</td>\n",
              "      <td>lithuanian</td>\n",
              "      <td>0</td>\n",
              "      <td>267714</td>\n",
              "      <td>9HJM3R</td>\n",
              "      <td>1566</td>\n",
              "    </tr>\n",
              "    <tr>\n",
              "      <th>166834</th>\n",
              "      <td>820</td>\n",
              "      <td>207</td>\n",
              "      <td>4</td>\n",
              "      <td>vilnius</td>\n",
              "      <td>5</td>\n",
              "      <td>lithuanian</td>\n",
              "      <td>0</td>\n",
              "      <td>267714</td>\n",
              "      <td>9HJM3R</td>\n",
              "      <td>1566</td>\n",
              "    </tr>\n",
              "    <tr>\n",
              "      <th>166835</th>\n",
              "      <td>288</td>\n",
              "      <td>113</td>\n",
              "      <td>0</td>\n",
              "      <td>vilnius</td>\n",
              "      <td>5</td>\n",
              "      <td>lithuanian</td>\n",
              "      <td>0</td>\n",
              "      <td>267714</td>\n",
              "      <td>9HJM3R</td>\n",
              "      <td>1566</td>\n",
              "    </tr>\n",
              "    <tr>\n",
              "      <th>166836</th>\n",
              "      <td>136</td>\n",
              "      <td>107</td>\n",
              "      <td>3</td>\n",
              "      <td>vilnius</td>\n",
              "      <td>5</td>\n",
              "      <td>lithuanian</td>\n",
              "      <td>0</td>\n",
              "      <td>267714</td>\n",
              "      <td>9HJM3R</td>\n",
              "      <td>1566</td>\n",
              "    </tr>\n",
              "  </tbody>\n",
              "</table>\n",
              "<p>166837 rows × 10 columns</p>\n",
              "</div>\n",
              "      <button class=\"colab-df-convert\" onclick=\"convertToInteractive('df-8ca4b8c2-ee83-463b-b07f-9e40570f9b0b')\"\n",
              "              title=\"Convert this dataframe to an interactive table.\"\n",
              "              style=\"display:none;\">\n",
              "        \n",
              "  <svg xmlns=\"http://www.w3.org/2000/svg\" height=\"24px\"viewBox=\"0 0 24 24\"\n",
              "       width=\"24px\">\n",
              "    <path d=\"M0 0h24v24H0V0z\" fill=\"none\"/>\n",
              "    <path d=\"M18.56 5.44l.94 2.06.94-2.06 2.06-.94-2.06-.94-.94-2.06-.94 2.06-2.06.94zm-11 1L8.5 8.5l.94-2.06 2.06-.94-2.06-.94L8.5 2.5l-.94 2.06-2.06.94zm10 10l.94 2.06.94-2.06 2.06-.94-2.06-.94-.94-2.06-.94 2.06-2.06.94z\"/><path d=\"M17.41 7.96l-1.37-1.37c-.4-.4-.92-.59-1.43-.59-.52 0-1.04.2-1.43.59L10.3 9.45l-7.72 7.72c-.78.78-.78 2.05 0 2.83L4 21.41c.39.39.9.59 1.41.59.51 0 1.02-.2 1.41-.59l7.78-7.78 2.81-2.81c.8-.78.8-2.07 0-2.86zM5.41 20L4 18.59l7.72-7.72 1.47 1.35L5.41 20z\"/>\n",
              "  </svg>\n",
              "      </button>\n",
              "      \n",
              "  <style>\n",
              "    .colab-df-container {\n",
              "      display:flex;\n",
              "      flex-wrap:wrap;\n",
              "      gap: 12px;\n",
              "    }\n",
              "\n",
              "    .colab-df-convert {\n",
              "      background-color: #E8F0FE;\n",
              "      border: none;\n",
              "      border-radius: 50%;\n",
              "      cursor: pointer;\n",
              "      display: none;\n",
              "      fill: #1967D2;\n",
              "      height: 32px;\n",
              "      padding: 0 0 0 0;\n",
              "      width: 32px;\n",
              "    }\n",
              "\n",
              "    .colab-df-convert:hover {\n",
              "      background-color: #E2EBFA;\n",
              "      box-shadow: 0px 1px 2px rgba(60, 64, 67, 0.3), 0px 1px 3px 1px rgba(60, 64, 67, 0.15);\n",
              "      fill: #174EA6;\n",
              "    }\n",
              "\n",
              "    [theme=dark] .colab-df-convert {\n",
              "      background-color: #3B4455;\n",
              "      fill: #D2E3FC;\n",
              "    }\n",
              "\n",
              "    [theme=dark] .colab-df-convert:hover {\n",
              "      background-color: #434B5C;\n",
              "      box-shadow: 0px 1px 3px 1px rgba(0, 0, 0, 0.15);\n",
              "      filter: drop-shadow(0px 1px 2px rgba(0, 0, 0, 0.3));\n",
              "      fill: #FFFFFF;\n",
              "    }\n",
              "  </style>\n",
              "\n",
              "      <script>\n",
              "        const buttonEl =\n",
              "          document.querySelector('#df-8ca4b8c2-ee83-463b-b07f-9e40570f9b0b button.colab-df-convert');\n",
              "        buttonEl.style.display =\n",
              "          google.colab.kernel.accessAllowed ? 'block' : 'none';\n",
              "\n",
              "        async function convertToInteractive(key) {\n",
              "          const element = document.querySelector('#df-8ca4b8c2-ee83-463b-b07f-9e40570f9b0b');\n",
              "          const dataTable =\n",
              "            await google.colab.kernel.invokeFunction('convertToInteractive',\n",
              "                                                     [key], {});\n",
              "          if (!dataTable) return;\n",
              "\n",
              "          const docLinkHtml = 'Like what you see? Visit the ' +\n",
              "            '<a target=\"_blank\" href=https://colab.research.google.com/notebooks/data_table.ipynb>data table notebook</a>'\n",
              "            + ' to learn more about interactive tables.';\n",
              "          element.innerHTML = '';\n",
              "          dataTable['output_type'] = 'display_data';\n",
              "          await google.colab.output.renderOutput(dataTable, element);\n",
              "          const docLink = document.createElement('div');\n",
              "          docLink.innerHTML = docLinkHtml;\n",
              "          element.appendChild(docLink);\n",
              "        }\n",
              "      </script>\n",
              "    </div>\n",
              "  </div>\n",
              "  "
            ]
          },
          "metadata": {},
          "execution_count": 5
        }
      ],
      "source": [
        "df"
      ]
    },
    {
      "cell_type": "code",
      "execution_count": 6,
      "metadata": {
        "colab": {
          "base_uri": "https://localhost:8080/",
          "height": 424
        },
        "id": "8Y97nqK9UG0E",
        "outputId": "c6a0ca2c-efd8-469b-f2ba-9677997241fe"
      },
      "outputs": [
        {
          "output_type": "execute_result",
          "data": {
            "text/plain": [
              "      index  order_requests     city  date  language  mobile  avatar_id  \\\n",
              "0         0               1  vilnius    21  romanian       0          1   \n",
              "1         1               1  vilnius    21  romanian       0          1   \n",
              "2         2               1  vilnius    21  romanian       0          1   \n",
              "3         3               1  vilnius    21  romanian       0          1   \n",
              "4         4               1  vilnius    21  romanian       0          1   \n",
              "...     ...             ...      ...   ...       ...     ...        ...   \n",
              "6639   6639             843     rome     5     irish       0        794   \n",
              "6640   6640             844   vienna     1     irish       1        794   \n",
              "6641   6641             844   vienna     1     irish       1        794   \n",
              "6642   6642             844   vienna     1     irish       1        794   \n",
              "6643   6643             844   vienna     1     irish       1        794   \n",
              "\n",
              "      hotel_id  stock  \n",
              "0          161     46  \n",
              "1          187     32  \n",
              "2          279     12  \n",
              "3          395     10  \n",
              "4          488     42  \n",
              "...        ...    ...  \n",
              "6639       987      1  \n",
              "6640        26      1  \n",
              "6641       263      0  \n",
              "6642       456      0  \n",
              "6643       699      0  \n",
              "\n",
              "[6644 rows x 9 columns]"
            ],
            "text/html": [
              "\n",
              "  <div id=\"df-36825794-11b1-45b7-88cf-773bc9e4e9a5\">\n",
              "    <div class=\"colab-df-container\">\n",
              "      <div>\n",
              "<style scoped>\n",
              "    .dataframe tbody tr th:only-of-type {\n",
              "        vertical-align: middle;\n",
              "    }\n",
              "\n",
              "    .dataframe tbody tr th {\n",
              "        vertical-align: top;\n",
              "    }\n",
              "\n",
              "    .dataframe thead th {\n",
              "        text-align: right;\n",
              "    }\n",
              "</style>\n",
              "<table border=\"1\" class=\"dataframe\">\n",
              "  <thead>\n",
              "    <tr style=\"text-align: right;\">\n",
              "      <th></th>\n",
              "      <th>index</th>\n",
              "      <th>order_requests</th>\n",
              "      <th>city</th>\n",
              "      <th>date</th>\n",
              "      <th>language</th>\n",
              "      <th>mobile</th>\n",
              "      <th>avatar_id</th>\n",
              "      <th>hotel_id</th>\n",
              "      <th>stock</th>\n",
              "    </tr>\n",
              "  </thead>\n",
              "  <tbody>\n",
              "    <tr>\n",
              "      <th>0</th>\n",
              "      <td>0</td>\n",
              "      <td>1</td>\n",
              "      <td>vilnius</td>\n",
              "      <td>21</td>\n",
              "      <td>romanian</td>\n",
              "      <td>0</td>\n",
              "      <td>1</td>\n",
              "      <td>161</td>\n",
              "      <td>46</td>\n",
              "    </tr>\n",
              "    <tr>\n",
              "      <th>1</th>\n",
              "      <td>1</td>\n",
              "      <td>1</td>\n",
              "      <td>vilnius</td>\n",
              "      <td>21</td>\n",
              "      <td>romanian</td>\n",
              "      <td>0</td>\n",
              "      <td>1</td>\n",
              "      <td>187</td>\n",
              "      <td>32</td>\n",
              "    </tr>\n",
              "    <tr>\n",
              "      <th>2</th>\n",
              "      <td>2</td>\n",
              "      <td>1</td>\n",
              "      <td>vilnius</td>\n",
              "      <td>21</td>\n",
              "      <td>romanian</td>\n",
              "      <td>0</td>\n",
              "      <td>1</td>\n",
              "      <td>279</td>\n",
              "      <td>12</td>\n",
              "    </tr>\n",
              "    <tr>\n",
              "      <th>3</th>\n",
              "      <td>3</td>\n",
              "      <td>1</td>\n",
              "      <td>vilnius</td>\n",
              "      <td>21</td>\n",
              "      <td>romanian</td>\n",
              "      <td>0</td>\n",
              "      <td>1</td>\n",
              "      <td>395</td>\n",
              "      <td>10</td>\n",
              "    </tr>\n",
              "    <tr>\n",
              "      <th>4</th>\n",
              "      <td>4</td>\n",
              "      <td>1</td>\n",
              "      <td>vilnius</td>\n",
              "      <td>21</td>\n",
              "      <td>romanian</td>\n",
              "      <td>0</td>\n",
              "      <td>1</td>\n",
              "      <td>488</td>\n",
              "      <td>42</td>\n",
              "    </tr>\n",
              "    <tr>\n",
              "      <th>...</th>\n",
              "      <td>...</td>\n",
              "      <td>...</td>\n",
              "      <td>...</td>\n",
              "      <td>...</td>\n",
              "      <td>...</td>\n",
              "      <td>...</td>\n",
              "      <td>...</td>\n",
              "      <td>...</td>\n",
              "      <td>...</td>\n",
              "    </tr>\n",
              "    <tr>\n",
              "      <th>6639</th>\n",
              "      <td>6639</td>\n",
              "      <td>843</td>\n",
              "      <td>rome</td>\n",
              "      <td>5</td>\n",
              "      <td>irish</td>\n",
              "      <td>0</td>\n",
              "      <td>794</td>\n",
              "      <td>987</td>\n",
              "      <td>1</td>\n",
              "    </tr>\n",
              "    <tr>\n",
              "      <th>6640</th>\n",
              "      <td>6640</td>\n",
              "      <td>844</td>\n",
              "      <td>vienna</td>\n",
              "      <td>1</td>\n",
              "      <td>irish</td>\n",
              "      <td>1</td>\n",
              "      <td>794</td>\n",
              "      <td>26</td>\n",
              "      <td>1</td>\n",
              "    </tr>\n",
              "    <tr>\n",
              "      <th>6641</th>\n",
              "      <td>6641</td>\n",
              "      <td>844</td>\n",
              "      <td>vienna</td>\n",
              "      <td>1</td>\n",
              "      <td>irish</td>\n",
              "      <td>1</td>\n",
              "      <td>794</td>\n",
              "      <td>263</td>\n",
              "      <td>0</td>\n",
              "    </tr>\n",
              "    <tr>\n",
              "      <th>6642</th>\n",
              "      <td>6642</td>\n",
              "      <td>844</td>\n",
              "      <td>vienna</td>\n",
              "      <td>1</td>\n",
              "      <td>irish</td>\n",
              "      <td>1</td>\n",
              "      <td>794</td>\n",
              "      <td>456</td>\n",
              "      <td>0</td>\n",
              "    </tr>\n",
              "    <tr>\n",
              "      <th>6643</th>\n",
              "      <td>6643</td>\n",
              "      <td>844</td>\n",
              "      <td>vienna</td>\n",
              "      <td>1</td>\n",
              "      <td>irish</td>\n",
              "      <td>1</td>\n",
              "      <td>794</td>\n",
              "      <td>699</td>\n",
              "      <td>0</td>\n",
              "    </tr>\n",
              "  </tbody>\n",
              "</table>\n",
              "<p>6644 rows × 9 columns</p>\n",
              "</div>\n",
              "      <button class=\"colab-df-convert\" onclick=\"convertToInteractive('df-36825794-11b1-45b7-88cf-773bc9e4e9a5')\"\n",
              "              title=\"Convert this dataframe to an interactive table.\"\n",
              "              style=\"display:none;\">\n",
              "        \n",
              "  <svg xmlns=\"http://www.w3.org/2000/svg\" height=\"24px\"viewBox=\"0 0 24 24\"\n",
              "       width=\"24px\">\n",
              "    <path d=\"M0 0h24v24H0V0z\" fill=\"none\"/>\n",
              "    <path d=\"M18.56 5.44l.94 2.06.94-2.06 2.06-.94-2.06-.94-.94-2.06-.94 2.06-2.06.94zm-11 1L8.5 8.5l.94-2.06 2.06-.94-2.06-.94L8.5 2.5l-.94 2.06-2.06.94zm10 10l.94 2.06.94-2.06 2.06-.94-2.06-.94-.94-2.06-.94 2.06-2.06.94z\"/><path d=\"M17.41 7.96l-1.37-1.37c-.4-.4-.92-.59-1.43-.59-.52 0-1.04.2-1.43.59L10.3 9.45l-7.72 7.72c-.78.78-.78 2.05 0 2.83L4 21.41c.39.39.9.59 1.41.59.51 0 1.02-.2 1.41-.59l7.78-7.78 2.81-2.81c.8-.78.8-2.07 0-2.86zM5.41 20L4 18.59l7.72-7.72 1.47 1.35L5.41 20z\"/>\n",
              "  </svg>\n",
              "      </button>\n",
              "      \n",
              "  <style>\n",
              "    .colab-df-container {\n",
              "      display:flex;\n",
              "      flex-wrap:wrap;\n",
              "      gap: 12px;\n",
              "    }\n",
              "\n",
              "    .colab-df-convert {\n",
              "      background-color: #E8F0FE;\n",
              "      border: none;\n",
              "      border-radius: 50%;\n",
              "      cursor: pointer;\n",
              "      display: none;\n",
              "      fill: #1967D2;\n",
              "      height: 32px;\n",
              "      padding: 0 0 0 0;\n",
              "      width: 32px;\n",
              "    }\n",
              "\n",
              "    .colab-df-convert:hover {\n",
              "      background-color: #E2EBFA;\n",
              "      box-shadow: 0px 1px 2px rgba(60, 64, 67, 0.3), 0px 1px 3px 1px rgba(60, 64, 67, 0.15);\n",
              "      fill: #174EA6;\n",
              "    }\n",
              "\n",
              "    [theme=dark] .colab-df-convert {\n",
              "      background-color: #3B4455;\n",
              "      fill: #D2E3FC;\n",
              "    }\n",
              "\n",
              "    [theme=dark] .colab-df-convert:hover {\n",
              "      background-color: #434B5C;\n",
              "      box-shadow: 0px 1px 3px 1px rgba(0, 0, 0, 0.15);\n",
              "      filter: drop-shadow(0px 1px 2px rgba(0, 0, 0, 0.3));\n",
              "      fill: #FFFFFF;\n",
              "    }\n",
              "  </style>\n",
              "\n",
              "      <script>\n",
              "        const buttonEl =\n",
              "          document.querySelector('#df-36825794-11b1-45b7-88cf-773bc9e4e9a5 button.colab-df-convert');\n",
              "        buttonEl.style.display =\n",
              "          google.colab.kernel.accessAllowed ? 'block' : 'none';\n",
              "\n",
              "        async function convertToInteractive(key) {\n",
              "          const element = document.querySelector('#df-36825794-11b1-45b7-88cf-773bc9e4e9a5');\n",
              "          const dataTable =\n",
              "            await google.colab.kernel.invokeFunction('convertToInteractive',\n",
              "                                                     [key], {});\n",
              "          if (!dataTable) return;\n",
              "\n",
              "          const docLinkHtml = 'Like what you see? Visit the ' +\n",
              "            '<a target=\"_blank\" href=https://colab.research.google.com/notebooks/data_table.ipynb>data table notebook</a>'\n",
              "            + ' to learn more about interactive tables.';\n",
              "          element.innerHTML = '';\n",
              "          dataTable['output_type'] = 'display_data';\n",
              "          await google.colab.output.renderOutput(dataTable, element);\n",
              "          const docLink = document.createElement('div');\n",
              "          docLink.innerHTML = docLinkHtml;\n",
              "          element.appendChild(docLink);\n",
              "        }\n",
              "      </script>\n",
              "    </div>\n",
              "  </div>\n",
              "  "
            ]
          },
          "metadata": {},
          "execution_count": 6
        }
      ],
      "source": [
        "df_eval"
      ]
    },
    {
      "cell_type": "markdown",
      "metadata": {
        "id": "Aslje-iVULv-"
      },
      "source": [
        "# Préparation des données"
      ]
    },
    {
      "cell_type": "markdown",
      "metadata": {
        "id": "nJu8Pi0pUPn8"
      },
      "source": [
        "Tout d'abord on homogénéise les colonnes (variables d'entrée des datasets de train et de test). On fait aussi la jointure avec le dataframe contenant les features des hôtels."
      ]
    },
    {
      "cell_type": "code",
      "execution_count": 34,
      "metadata": {
        "id": "VlI9G0v1T-if"
      },
      "outputs": [],
      "source": [
        "df.drop(\"avatar_name\", axis = 1, inplace = True)\n",
        "df_eval.drop(\"index\", axis = 1, inplace = True)\n",
        "df_hotel.drop(\"city\", axis = 1, inplace = True) # on doit la supprimer immédiatement pour ne pas créer de doublon\n",
        "df = pd.merge(df, df_hotel, on = \"hotel_id\", how = \"left\") # on merge avec le csv features_hotels\n",
        "df_eval = pd.merge(df_eval, df_hotel, on = \"hotel_id\", how = \"left\")\n",
        "df = pd.merge(df, df_clust, on = \"hotel_id\", how = \"left\") # on merge avec le csv hotel_price_clust\n",
        "df_eval = pd.merge(df_eval, df_clust, on = \"hotel_id\", how = \"left\")\n",
        "df = pd.merge(df, df_stock_j44_clust, on = \"hotel_id\", how = \"left\") # on merge avec le csv stock_j44_clust\n",
        "df_eval = pd.merge(df_eval, df_stock_j44_clust, on = \"hotel_id\", how = \"left\")\n",
        "mobile_list_1, mobile_list_2 = [], []"
      ]
    },
    {
      "cell_type": "markdown",
      "source": [
        "Le merge avec la feature stagne, qui varie selon la ville ET le jour, est un peu différent et nécessite un traitement à part. Aussi, un comportement étrange a été remarqué pour la ville Madrid au jour 2, pour certains hôtels la valeur de la variable mobile a une influence sur le prix, contrairement à habituellement. On va donc détecter quels sont ces hôtels et les stocker dans des listes pour modifier leur prix après."
      ],
      "metadata": {
        "id": "BmrjVpldIRbb"
      }
    },
    {
      "cell_type": "code",
      "source": [
        "# ATTENTION : cellule à réexécuter après création des mobile_list\n",
        "golden_list = []\n",
        "for index, row in df.iterrows():\n",
        "  city, hotel, date, mobile = row[\"city\"], row[\"hotel_id\"], row[\"date\"], row[\"mobile\"]\n",
        "  if (date==2) & (mobile==1) & (hotel in mobile_list_2): # cas particulier repéré où la valeur de mobile a une influence pour la date 2\n",
        "    golden_list.append(round(0.92*df_golden.iloc[hotel][date]))\n",
        "  else:\n",
        "    if (date==1) & (mobile==1) & (hotel in mobile_list_1): # pareil pour la date 1\n",
        "      golden_list.append(round(0.92*df_golden.iloc[hotel][date]))\n",
        "    else:\n",
        "      golden_list.append(df_golden.iloc[hotel][date])\n",
        "df[\"golden\"] = golden_list\n",
        "mobile_list_1, mobile_list_2 = [], [] # on vide les listes pour éviter des problèmes lors de potentielles réexécutions"
      ],
      "metadata": {
        "id": "aHcWOWq3_Eaw"
      },
      "execution_count": 35,
      "outputs": []
    },
    {
      "cell_type": "code",
      "source": [
        "golden_list = []\n",
        "for index, row in df_eval.iterrows():\n",
        "  hotel, date = row[\"hotel_id\"], row[\"date\"]\n",
        "  golden_list.append(df_golden.iloc[hotel][date])\n",
        "df_eval[\"golden\"] = golden_list"
      ],
      "metadata": {
        "id": "A-NVrjXPBT01"
      },
      "execution_count": 36,
      "outputs": []
    },
    {
      "cell_type": "code",
      "source": [
        "golden_list = []\n",
        "# ATTENTION : cellule à réexécuter après création des mobile_list\n",
        "for index, row in df.iterrows():\n",
        "  language, city, golden = row[\"language\"], row[\"city\"], row[\"golden\"]\n",
        "  coeff = df_lang[(df_lang[\"language\"] == \"french\") & (df_lang[\"city\"] == \"paris\")][\"coeff\"].values.tolist()[0]\n",
        "  golden_list.append(coeff * golden)\n",
        "df[\"golden\"] = golden_list"
      ],
      "metadata": {
        "id": "S6ttU74fucmI"
      },
      "execution_count": 37,
      "outputs": []
    },
    {
      "cell_type": "code",
      "source": [
        "row_list = []\n",
        "a = df[df[\"language\"] == \"hungarian\"]\n",
        "for index, row in a.iterrows():\n",
        "  if abs(row[\"price\"] - row[\"stagne\"]) > 1:\n",
        "    row_list.append(row)\n",
        "df_errors = pd.DataFrame(data=row_list)\n",
        "df_errors_1, df_errors_2 = df_errors[df_errors[\"date\"] == 1], df_errors[df_errors[\"date\"] == 2]\n",
        "mobile_list_1, mobile_list_2 = df_errors_1[\"hotel_id\"].tolist(), df_errors_2[\"hotel_id\"].tolist()"
      ],
      "metadata": {
        "id": "qzFGRXR_7tJS"
      },
      "execution_count": 18,
      "outputs": []
    },
    {
      "cell_type": "markdown",
      "metadata": {
        "id": "Y2mkdo7meaGO"
      },
      "source": [
        "Pour l'instant on va supprimer les colonnes avatar_id, hotel_id et order_requests pour se faciliter la tâche. De nouvelles variables pourraient être générées à partir de celles-ci mais pour l'instant notre but est juste de faire tourner un premier modèle."
      ]
    },
    {
      "cell_type": "code",
      "execution_count": null,
      "metadata": {
        "id": "2ZFOp6GGeub4"
      },
      "outputs": [],
      "source": [
        "df.drop([\"avatar_id\", \"hotel_id\", \"order_requests\"], axis = 1, inplace = True)\n",
        "df_eval.drop([\"avatar_id\", \"hotel_id\", \"order_requests\"], axis = 1, inplace= True)"
      ]
    },
    {
      "cell_type": "markdown",
      "metadata": {
        "id": "WeUOWVAjVfxc"
      },
      "source": [
        "Ensuite on trie les colonnes par ordre alphabétique pour une visualisation/comparaison plus claire de celles-ci."
      ]
    },
    {
      "cell_type": "code",
      "execution_count": null,
      "metadata": {
        "id": "X0w5CMc_U0ta"
      },
      "outputs": [],
      "source": [
        "df = df.reindex(sorted(df.columns), axis=1)\n",
        "df_eval = df_eval.reindex(sorted(df_eval.columns), axis=1)"
      ]
    },
    {
      "cell_type": "markdown",
      "metadata": {
        "id": "evybwa77YKYf"
      },
      "source": [
        "On doit encoder les variables catégorielles \"city\" et \"language\". Pour effectuer cette tâche nous allons utliser la méthode get_dummies de pandas car les modalités de ces variables n'ont pas de lien entre elles."
      ]
    },
    {
      "cell_type": "code",
      "execution_count": null,
      "metadata": {
        "id": "nE1lmSZxYZtk"
      },
      "outputs": [],
      "source": [
        "# génération des dummies pour les variables city, language, brand et group\n",
        "cities = pd.get_dummies(df[\"city\"], prefix_sep = \"_\", prefix = \"city\")\n",
        "languages =  pd.get_dummies(df[\"language\"], prefix_sep = \"_\", prefix = \"language\")\n",
        "brands = pd.get_dummies(df[\"brand\"], prefix_sep = \"_\", prefix = \"brand\")\n",
        "groups = pd.get_dummies(df[\"group\"], prefix_sep = \"_\", prefix = \"group\")\n",
        "df = pd.concat([df, cities, languages, brands, groups], axis = 1) # on ajoute les colonnes générées au df\n",
        "df.drop([\"city\", \"language\", \"brand\", \"group\"], axis = 1, inplace = True) # on supprime les colonnes d'origine"
      ]
    },
    {
      "cell_type": "markdown",
      "metadata": {
        "id": "RFdLOCOpa1lL"
      },
      "source": [
        "On effectue le même processus pour le dataset d'évaluation."
      ]
    },
    {
      "cell_type": "code",
      "execution_count": null,
      "metadata": {
        "id": "iM_XJ6FoaTSg"
      },
      "outputs": [],
      "source": [
        "cities = pd.get_dummies(df_eval[\"city\"], prefix_sep = \"_\", prefix = \"city\")\n",
        "languages =  pd.get_dummies(df_eval[\"language\"], prefix_sep = \"_\", prefix = \"language\")\n",
        "brands = pd.get_dummies(df_eval[\"brand\"], prefix_sep = \"_\", prefix = \"brand\")\n",
        "groups = pd.get_dummies(df_eval[\"group\"], prefix_sep = \"_\", prefix = \"group\")\n",
        "df_eval = pd.concat([df_eval, cities, languages, brands, groups], axis = 1)\n",
        "df_eval.drop([\"city\", \"language\", \"brand\", \"group\"], axis = 1, inplace = True)"
      ]
    },
    {
      "cell_type": "markdown",
      "source": [
        "## Train test split"
      ],
      "metadata": {
        "id": "AvxxTWRHR7pm"
      }
    },
    {
      "cell_type": "markdown",
      "metadata": {
        "id": "_LdpyUouWhjt"
      },
      "source": [
        "Maintenant on sépare la variable de sortie (price) des variables d'entrée."
      ]
    },
    {
      "cell_type": "code",
      "execution_count": null,
      "metadata": {
        "id": "_-zP8Oj6WnXB"
      },
      "outputs": [],
      "source": [
        "X = df.drop(\"price\", axis = 1)\n",
        "y = df[\"price\"]"
      ]
    },
    {
      "cell_type": "markdown",
      "metadata": {
        "id": "-CkeK8lvOafw"
      },
      "source": [
        "Enfin, on split nos données en entraînement/test (répartition 80/20)."
      ]
    },
    {
      "cell_type": "code",
      "execution_count": null,
      "metadata": {
        "id": "yFb4slipOXD8"
      },
      "outputs": [],
      "source": [
        "X_train, X_test, y_train, y_test = train_test_split(X, y, test_size=0.2)"
      ]
    },
    {
      "cell_type": "markdown",
      "metadata": {
        "id": "ZVhJ9BPlL-el"
      },
      "source": [
        "## Scaling des données"
      ]
    },
    {
      "cell_type": "markdown",
      "metadata": {
        "id": "3QbTZqAiOCKM"
      },
      "source": [
        "Partie non obligatoire : scaler les données pour permettre une meilleure prédiction du modèle. N'est pas nécessaire pour tous les modèles."
      ]
    },
    {
      "cell_type": "code",
      "execution_count": null,
      "metadata": {
        "id": "JOjnFcs6OMo5"
      },
      "outputs": [],
      "source": [
        "scaler = StandardScaler()\n",
        "X[['cluster_hotel','date', 'stock', 'stock_j44_clust']] = scaler.fit_transform(df[['cluster_hotel','date', 'stock', 'stock_j44_clust']]) \n",
        "df_eval[['cluster_hotel','date', 'stock', 'stock_j44_clust']] = scaler.fit_transform(df_eval[['cluster_hotel','date', 'stock', 'stock_j44_clust']])\n",
        "X_train, X_test, y_train, y_test = train_test_split(X, y, test_size=0.2)"
      ]
    },
    {
      "cell_type": "markdown",
      "metadata": {
        "id": "BOXFBWr5-v1A"
      },
      "source": [
        "# Entraînement et test d'un modèle"
      ]
    },
    {
      "cell_type": "markdown",
      "metadata": {
        "id": "A4ix3kN0-08Z"
      },
      "source": [
        "Ici je vaiis utiliser un modèle de type MLPRegressor [https://scikit-learn.org/stable/modules/generated/sklearn.neural_network.MLPRegressor.html#sklearn.neural_network.MLPRegressor](https://).\n",
        "Nous allons déclarer le modèle puis l'entraîner et le tester."
      ]
    },
    {
      "cell_type": "code",
      "execution_count": null,
      "metadata": {
        "colab": {
          "base_uri": "https://localhost:8080/"
        },
        "id": "91qx581LtBvD",
        "outputId": "f79c8c11-cd43-4b74-bd9b-0f07a432a21b"
      },
      "outputs": [
        {
          "output_type": "stream",
          "name": "stdout",
          "text": [
            "Iteration 1, loss = 104.94022182\n",
            "Validation score: 0.998447\n"
          ]
        }
      ],
      "source": [
        "# import du régresseur\n",
        "from sklearn.neural_network import MLPRegressor\n",
        "# définition du régresseur utilisé et entraînement de celui-ci\n",
        "reg = MLPRegressor(hidden_layer_sizes = (256, 256, 256), verbose = True, early_stopping = True, tol = 0.05, n_iter_no_change=1, validation_fraction=0.1).fit(X_train, y_train)"
      ]
    },
    {
      "cell_type": "code",
      "execution_count": null,
      "metadata": {
        "colab": {
          "base_uri": "https://localhost:8080/"
        },
        "id": "OjTz5cp3HKSU",
        "outputId": "5a82b08a-67ab-4ec6-97d6-7d14b3f808c1"
      },
      "outputs": [
        {
          "output_type": "stream",
          "name": "stdout",
          "text": [
            "rmse :  3.1829956792531617\n"
          ]
        }
      ],
      "source": [
        "y_pred = reg.predict(X_test)\n",
        "rmse = mean_squared_error(y_true = y_test, y_pred = y_pred, squared = False)\n",
        "print('rmse : ', rmse)"
      ]
    },
    {
      "cell_type": "markdown",
      "metadata": {
        "id": "mr0TdvXlHX0r"
      },
      "source": [
        "# Export des résultats et évaluation sur Kaggle"
      ]
    },
    {
      "cell_type": "markdown",
      "metadata": {
        "id": "95RtyCEzHet5"
      },
      "source": [
        "On doit ensuite utiliser le dataset de test fourni par sur le Kaggle en renvoyer le fichier au format demandé."
      ]
    },
    {
      "cell_type": "code",
      "execution_count": null,
      "metadata": {
        "id": "VpnB-YAUdg48"
      },
      "outputs": [],
      "source": [
        "eval = reg.predict(df_eval)\n",
        "submission = pd.DataFrame(data = eval.tolist(), columns = [\"price\"])\n",
        "submission.to_csv(\"MLP_first_iteration.csv\", index_label='index') # tout ça pour créer la colonne Unnamed et la transformer en index (nécessaire pour l'évaluation par le site)"
      ]
    }
  ],
  "metadata": {
    "colab": {
      "collapsed_sections": [
        "dKoSmWw4Q5X2",
        "VnnJjBYiJWx-",
        "QW0OxZi5u3QM"
      ],
      "provenance": [],
      "include_colab_link": true
    },
    "gpuClass": "standard",
    "kernelspec": {
      "display_name": "Python 3",
      "language": "python",
      "name": "python3"
    },
    "language_info": {
      "codemirror_mode": {
        "name": "ipython",
        "version": 3
      },
      "file_extension": ".py",
      "mimetype": "text/x-python",
      "name": "python",
      "nbconvert_exporter": "python",
      "pygments_lexer": "ipython3",
      "version": "3.8.3"
    }
  },
  "nbformat": 4,
  "nbformat_minor": 0
}