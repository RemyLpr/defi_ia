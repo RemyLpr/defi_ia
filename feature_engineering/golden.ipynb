{
  "nbformat": 4,
  "nbformat_minor": 0,
  "metadata": {
    "colab": {
      "provenance": [],
      "collapsed_sections": [
        "LjKCrYxNFmN8",
        "IaX2eokhZLkM"
      ],
      "authorship_tag": "ABX9TyNXNiK/k9hMF8q9muoZ++Ym",
      "include_colab_link": true
    },
    "kernelspec": {
      "name": "python3",
      "display_name": "Python 3"
    },
    "language_info": {
      "name": "python"
    }
  },
  "cells": [
    {
      "cell_type": "markdown",
      "metadata": {
        "id": "view-in-github",
        "colab_type": "text"
      },
      "source": [
        "<a href=\"https://colab.research.google.com/github/RemyLpr/defi_ia/blob/main/feature_engineering/golden.ipynb\" target=\"_parent\"><img src=\"https://colab.research.google.com/assets/colab-badge.svg\" alt=\"Open In Colab\"/></a>"
      ]
    },
    {
      "cell_type": "markdown",
      "source": [
        "Dans ce notebook on va créer un dataframe contenant les prix pour chaque hôtel à chaque date avec les autres paramètres fixés (mobile = 0, langue = hongrois). Pour les valeurs manquantes on va les inférer à l'aide d'autres hôtels dont l'évolution des stocks est semblable."
      ],
      "metadata": {
        "id": "xRR4UeQPFHP6"
      }
    },
    {
      "cell_type": "markdown",
      "source": [
        "# Import des librairies et des données"
      ],
      "metadata": {
        "id": "LjKCrYxNFmN8"
      }
    },
    {
      "cell_type": "code",
      "execution_count": 10,
      "metadata": {
        "id": "mUQI09PjFFa3"
      },
      "outputs": [],
      "source": [
        "import numpy as np\n",
        "import pandas as pd\n",
        "import math\n",
        "from sklearn.preprocessing import normalize\n",
        "from scipy.spatial import distance\n",
        "import warnings\n",
        "warnings.filterwarnings('ignore')\n",
        "import matplotlib.pyplot as plt"
      ]
    },
    {
      "cell_type": "code",
      "source": [
        "df_stock = pd.read_csv(\"stock.csv\")\n",
        "df_vienna = pd.read_csv(\"vienna.csv\")\n",
        "df_vilnius = pd.read_csv(\"vilnius.csv\")\n",
        "df_amsterdam = pd.read_csv(\"amsterdam.csv\")\n",
        "df_rome = pd.read_csv(\"rome.csv\")\n",
        "df_valletta = pd.read_csv(\"valletta.csv\")\n",
        "df_paris = pd.read_csv(\"paris.csv\")\n",
        "df_madrid = pd.read_csv(\"madrid.csv\")\n",
        "df_copenhagen = pd.read_csv(\"copenhagen.csv\")\n",
        "df_sofia = pd.read_csv(\"sofia.csv\")\n",
        "df = pd.concat([df_vienna, df_vilnius, df_amsterdam, df_rome, df_valletta, df_paris, df_madrid, df_copenhagen, df_sofia])"
      ],
      "metadata": {
        "id": "o4k8Z343HFQZ"
      },
      "execution_count": 89,
      "outputs": []
    },
    {
      "cell_type": "markdown",
      "source": [
        "# Création de la feature Vente à partir des stocks"
      ],
      "metadata": {
        "id": "Jzl-b9Z2329_"
      }
    },
    {
      "cell_type": "markdown",
      "source": [
        "Pour chaque hôtel et chaque jour on va calculer combien de chambres ont été vendues."
      ],
      "metadata": {
        "id": "GJ9mctjP39Mf"
      }
    },
    {
      "cell_type": "code",
      "source": [
        "newrow_list = []\n",
        "for index, row in df_stock.iterrows():\n",
        "  newrow = []\n",
        "  for col in df_stock.columns:\n",
        "    col = int(col)\n",
        "    if col < 44:\n",
        "      newrow.append(row[col+1] - row[col])\n",
        "    else:\n",
        "      newrow[-1] = 0\n",
        "  newrow_list.append(newrow)\n",
        "df_vente = pd.DataFrame(data = newrow_list)"
      ],
      "metadata": {
        "id": "OBH-99-338XX"
      },
      "execution_count": 90,
      "outputs": []
    },
    {
      "cell_type": "markdown",
      "source": [
        "# Séparation des données et association au meilleur voisin"
      ],
      "metadata": {
        "id": "u9AG3yXYINp4"
      }
    },
    {
      "cell_type": "markdown",
      "source": [
        "On va ici séparer les données entre les hôtels non-requêtables sur certains jours et donc ayant des prix manquants et les hôtels dont on a les prix pour tous les jours. Nous allons utiliser les seconds pour inférer des valeurs de prix pour les premiers. Pour cela on va sélectionner le meilleur voisin d'un hôtel contenant des données manquantes à partir de l'évolution de ses stocks, potentiellement complétée préalablement dans le notebook stock."
      ],
      "metadata": {
        "id": "fj5dE45GIRmB"
      }
    },
    {
      "cell_type": "code",
      "source": [
        "price_list = [] # liste de liste des prix pour chaque jour pour chaque hôtel\n",
        "for hotel in range(0, 999):\n",
        "  df_hot = df[df[\"hotel_id\"] == hotel]\n",
        "  price_per_hotel = [] # liste des prix pour chaque jour pour un hôtel\n",
        "  for date in range(0, 45):\n",
        "    df_hot_date = df_hot[df_hot[\"date\"] == date]\n",
        "    price = df_hot_date[\"price\"].mean()\n",
        "    price_per_hotel.append(price)\n",
        "  price_list.append(price_per_hotel)"
      ],
      "metadata": {
        "id": "zJkNhQ5EIrQY"
      },
      "execution_count": 91,
      "outputs": []
    },
    {
      "cell_type": "code",
      "source": [
        "df_price = pd.DataFrame(data = price_list) \n",
        "df_na = df_price[df_price.isna().any(axis=1)] # hôtels ayant des données manquantes\n",
        "df_no_na = df_price.dropna() # hôtels sans données manquantes"
      ],
      "metadata": {
        "id": "bPP7eWYpJKJt"
      },
      "execution_count": 92,
      "outputs": []
    },
    {
      "cell_type": "markdown",
      "source": [
        "Maintenant que l'on a la liste des hôtels contenants des données manquantes on va leur associer leur meilleur voisin et inférer les valeurs absentes."
      ],
      "metadata": {
        "id": "FDvDlv0aKHd4"
      }
    },
    {
      "cell_type": "code",
      "source": [
        "for index, row in df_na.iterrows(): # on parcourt les hôtels ayants des prix manquants\n",
        "  list_dist = [] # liste des distances entre l'hôtel A et ses voisins\n",
        "  list_na = [] # liste des valeurs manquantes pour l'hôtel A\n",
        "  list_row = [] # liste des lignes correspondants aux hôtels testés en tant que voisins\n",
        "  newrow = [] # ligne correspondant à l'hôtel A que l'on va remplir avec les prix inférés\n",
        "  hotel_A = index\n",
        "  vente_A = df_vente[df_vente.index == hotel_A] # on récupère les stocks pour l'hôtel A\n",
        "  for col in range(len(row)):\n",
        "    rowcopy = row.copy()\n",
        "    if math.isnan(row[col]):\n",
        "      list_na.append(col) \n",
        "  normalized_vente_A = normalize([vente_A.values[0]])\n",
        "  for index2, row2 in df_no_na.iterrows(): # on parcourt les hôtels dont a le prix pour tous les jours\n",
        "    hotel_B = index2\n",
        "    vente_B = df_vente[df_vente.index == hotel_B] # stocks de l'hôtel B\n",
        "    normalized_vente_B = normalize([vente_B.values[0]])\n",
        "    dist = distance.euclidean(normalized_vente_A[0][list_na], normalized_vente_B[0][list_na]) # calcul de distance entre les 2 évolutions de stocks normalisées\n",
        "    list_dist.append(dist)\n",
        "    list_row.append(row2)\n",
        "  indice_min = np.argmin(list_dist)\n",
        "  voisin = df_no_na.iloc[indice_min]\n",
        "  rowv = list_row[indice_min]\n",
        "\n",
        "  # pour afficher les paires hotel de df_na et son + proche voisin\n",
        "  #print(index, voisin.name)\n",
        "\n",
        "  # calcul du coeff entre les prix des 2 hôtels voisins\n",
        "  first, last = list_na[0], list_na[-1]\n",
        "  if first!=0:\n",
        "    bg_A, bg_B = row[first-1], list_row[indice_min][first-1]\n",
        "    part_1 = (row[:first] / rowv[:first]).tolist()\n",
        "    part_2 = (row[last+1:] / rowv[last+1:]).tolist()\n",
        "    all = part_1 + part_2\n",
        "    coeff = np.mean(all)\n",
        "  else:\n",
        "    bg_A, bg_B = 0, 0\n",
        "    coeff = np.mean((row[last+1:] / rowv[last+1:]).tolist())\n",
        "  bd_A, bd_B = row[last+1], list_row[indice_min][last+1]\n",
        "\n",
        "  # remplissage des trous dans les prix\n",
        "  for j in range(len(rowcopy)):\n",
        "    if j in list_na:\n",
        "      if bg_B == bd_B: # cas borne gauche = borne droite, on remplit par cette valeur\n",
        "        newrow.append(bg_A)\n",
        "      else:\n",
        "        estimation = round(voisin[j]*coeff)\n",
        "        if (estimation > bg_A) & (bg_A !=0): # cas estimation > borne gauche, absurde car le prix décroît avec la variable date\n",
        "          newrow.append(bg_A)\n",
        "        elif estimation < bd_A: # cas estimation < borne droite, absurde pour la même raison\n",
        "          newrow.append(bd_A)\n",
        "        else:\n",
        "          newrow.append(round(voisin[j]*coeff))\n",
        "    else:\n",
        "      newrow.append(rowcopy[j])\n",
        "  df_na.at[index] = newrow"
      ],
      "metadata": {
        "id": "PJyRiY6IKUwF"
      },
      "execution_count": 97,
      "outputs": []
    },
    {
      "cell_type": "markdown",
      "source": [
        "# Visualisation des résultats"
      ],
      "metadata": {
        "id": "IaX2eokhZLkM"
      }
    },
    {
      "cell_type": "code",
      "source": [
        "# évolution des stocks\n",
        "df_a = df_stock[df_stock.index == 10]\n",
        "df_b = df_stock[df_stock.index == 776]\n",
        "df_a = normalize([df_a.values.tolist()[0]])\n",
        "df_b = normalize([df_b.values.tolist()[0]])\n",
        "plt.plot(df_stock.columns.tolist(), df_a[0], '.')\n",
        "plt.plot(df_stock.columns.tolist(), df_b[0], '.')"
      ],
      "metadata": {
        "colab": {
          "base_uri": "https://localhost:8080/",
          "height": 282
        },
        "id": "iRFpp4dI7NKI",
        "outputId": "21b9fa42-cb36-41ad-c39e-8b7aa70ce1e4"
      },
      "execution_count": 44,
      "outputs": [
        {
          "output_type": "execute_result",
          "data": {
            "text/plain": [
              "[<matplotlib.lines.Line2D at 0x7f1018034700>]"
            ]
          },
          "metadata": {},
          "execution_count": 44
        },
        {
          "output_type": "display_data",
          "data": {
            "text/plain": [
              "<Figure size 432x288 with 1 Axes>"
            ],
            "image/png": "[encoded data removed]"
          },
          "metadata": {
            "needs_background": "light"
          }
        }
      ]
    },
    {
      "cell_type": "code",
      "source": [
        "# sans données ajoutées\n",
        "df_a = df[df[\"hotel_id\"] == 59]\n",
        "df_b = df[df[\"hotel_id\"] == 82]\n",
        "plt.plot(df_a[\"date\"], df_a[\"price\"], '.')\n",
        "plt.plot(df_b[\"date\"], df_b[\"price\"], '.')"
      ],
      "metadata": {
        "colab": {
          "base_uri": "https://localhost:8080/",
          "height": 282
        },
        "id": "gQQjcs2EXnhQ",
        "outputId": "fddb83c8-5627-4c2b-8e57-5e68251be53e"
      },
      "execution_count": 86,
      "outputs": [
        {
          "output_type": "execute_result",
          "data": {
            "text/plain": [
              "[<matplotlib.lines.Line2D at 0x7f1017458c10>]"
            ]
          },
          "metadata": {},
          "execution_count": 86
        },
        {
          "output_type": "display_data",
          "data": {
            "text/plain": [
              "<Figure size 432x288 with 1 Axes>"
            ],
            "image/png": "[encoded data removed]"
          },
          "metadata": {
            "needs_background": "light"
          }
        }
      ]
    },
    {
      "cell_type": "code",
      "source": [
        "# avec données ajoutées\n",
        "df_a = df_na.loc[[0]]\n",
        "df_b = df[df[\"hotel_id\"] == 47]\n",
        "plt.plot(df_b[\"date\"], df_a.values[0], '.')\n",
        "plt.plot(df_b[\"date\"], df_b[\"price\"], '.')"
      ],
      "metadata": {
        "colab": {
          "base_uri": "https://localhost:8080/",
          "height": 282
        },
        "id": "9WDcLQfvXqBn",
        "outputId": "7a690ac0-8049-41ff-a86f-0ffbf24122e2"
      },
      "execution_count": null,
      "outputs": [
        {
          "output_type": "execute_result",
          "data": {
            "text/plain": [
              "[<matplotlib.lines.Line2D at 0x7fcf30a80970>]"
            ]
          },
          "metadata": {},
          "execution_count": 217
        },
        {
          "output_type": "display_data",
          "data": {
            "text/plain": [
              "<Figure size 432x288 with 1 Axes>"
            ],
            "image/png": "[encoded data removed]"
          },
          "metadata": {
            "needs_background": "light"
          }
        }
      ]
    },
    {
      "cell_type": "markdown",
      "source": [
        "# Export de la nouvelle feature"
      ],
      "metadata": {
        "id": "rAgZLJGZZPup"
      }
    },
    {
      "cell_type": "code",
      "source": [
        "df_golden = pd.concat([df_na, df_no_na])\n",
        "df_golden = df_golden.sort_index()\n",
        "df_golden.to_csv(\"golden_vente_local.csv\", index = False)"
      ],
      "metadata": {
        "id": "8z-RWx9aZR61"
      },
      "execution_count": 98,
      "outputs": []
    }
  ]
}