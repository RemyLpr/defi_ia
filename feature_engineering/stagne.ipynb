{
  "nbformat": 4,
  "nbformat_minor": 0,
  "metadata": {
    "colab": {
      "provenance": [],
      "authorship_tag": "ABX9TyMKPsAhPbZu1yLg6zI2ob5w",
      "include_colab_link": true
    },
    "kernelspec": {
      "name": "python3",
      "display_name": "Python 3"
    },
    "language_info": {
      "name": "python"
    }
  },
  "cells": [
    {
      "cell_type": "markdown",
      "metadata": {
        "id": "view-in-github",
        "colab_type": "text"
      },
      "source": [
        "<a href=\"https://colab.research.google.com/github/RemyLpr/defi_ia/blob/main/feature_engineering/stagne.ipynb\" target=\"_parent\"><img src=\"https://colab.research.google.com/assets/colab-badge.svg\" alt=\"Open In Colab\"/></a>"
      ]
    },
    {
      "cell_type": "markdown",
      "source": [
        "# Import des librairies et des données"
      ],
      "metadata": {
        "id": "VJ8SWUTF2-ec"
      }
    },
    {
      "cell_type": "code",
      "execution_count": 1,
      "metadata": {
        "id": "s5vaC1cm28lZ"
      },
      "outputs": [],
      "source": [
        "import pandas as pd"
      ]
    },
    {
      "cell_type": "code",
      "source": [
        "df_vienna = pd.read_csv(\"vienna_danish_nono8_mobile0.csv\")\n",
        "df_vilnius = pd.read_csv(\"vilnius_danish_nono7_mobile0.csv\")\n",
        "df_amsterdam = pd.read_csv(\"amsterdam_belgian_nono3_mobile0.csv\")\n",
        "df_rome = pd.read_csv(\"rome_italian_nono6_mobile0.csv\")\n",
        "df_valletta = pd.read_csv(\"valletta_danish_nono9_mobile0.csv\")\n",
        "df_paris = pd.read_csv(\"paris.csv\")\n",
        "df_madrid = pd.read_csv(\"madrid.csv\")\n",
        "df_copenhagen = pd.read_csv(\"copenhagen.csv\")\n",
        "df_sofia = pd.read_csv(\"sofia.csv\") # incomplet\n",
        "df_list = [df_vienna, df_vilnius, df_amsterdam, df_rome, df_valletta, df_paris, df_madrid, df_copenhagen, df_sofia]"
      ],
      "metadata": {
        "id": "O96Rm05F4P2_"
      },
      "execution_count": 21,
      "outputs": []
    },
    {
      "cell_type": "markdown",
      "source": [
        "On doit renommer la colonne date dans les derniers dataframes pour uniformiser la dénomination de celle-ci."
      ],
      "metadata": {
        "id": "7b4y1Dx5Eh1d"
      }
    },
    {
      "cell_type": "code",
      "source": [
        "df_paris.rename(columns = {'date':'request.date'}, inplace = True)\n",
        "df_madrid.rename(columns = {'date':'request.date'}, inplace = True)\n",
        "df_copenhagen.rename(columns = {'date':'request.date'}, inplace = True)\n",
        "df_sofia.rename(columns = {'date':'request.date'}, inplace = True)"
      ],
      "metadata": {
        "id": "fxhxEeWZELaK"
      },
      "execution_count": 26,
      "outputs": []
    },
    {
      "cell_type": "markdown",
      "source": [
        "# Création de la feature stagne"
      ],
      "metadata": {
        "id": "8qDnX60E3CEl"
      }
    },
    {
      "cell_type": "markdown",
      "source": [
        "Dans ce notebook on va, pour chaque ville, identifier quand stagne ou quand évolue le prix d'un hôtel. En effet, quelle que soit la requête, le prix d'un même hôtel augmente à des jours précis. Nous allons donc créer une nouvelle variable (binaire) indiquant pour le jour J si le prix à changé par rapport au jour J+1 (ce qui correspond au passé dans le référentiel de temps du défi). Pour effectuer ce travail on a besoin de données correspondant à la même requête pour chaque ville. Nous avons récupéré ces données sur la section data du Github."
      ],
      "metadata": {
        "id": "5-7kwOSc3J9f"
      }
    },
    {
      "cell_type": "code",
      "source": [
        "df_stagn = pd.DataFrame()\n",
        "for df in df_list:\n",
        "  hotel_list = []\n",
        "  is_stagnant_list = []\n",
        "  for hotel in df.hotel_id.unique():\n",
        "    df_hot = df[df[\"hotel_id\"] == hotel]\n",
        "    is_stagnant_list = []\n",
        "    for date in range(0, 44): # on fait pas la première date\n",
        "      df_hot_date_current = df_hot[df_hot[\"request.date\"] == date]\n",
        "      df_hot_date_previous = df_hot[df_hot[\"request.date\"] == date+1]\n",
        "      current_price = df_hot_date_current[\"price\"].mean() # mean pour transformer le format juste, pas d'opération effectuée\n",
        "      previous_price = df_hot_date_previous[\"price\"].mean()\n",
        "      is_stagnant_list.append(int(current_price == previous_price))\n",
        "    # cas date = 45, par convention on dit que ça stagne pas\n",
        "    is_stagnant_list.append(0)\n",
        "    hotel_list.append(is_stagnant_list)\n",
        "  df_stagn_city = pd.DataFrame(data = hotel_list)\n",
        "  df_stagn_city[\"hotel_id\"] = df.hotel_id.unique()\n",
        "  df_stagn = pd.concat([df_stagn, df_stagn_city])"
      ],
      "metadata": {
        "id": "3KHSdvx8Dj2W"
      },
      "execution_count": 32,
      "outputs": []
    },
    {
      "cell_type": "code",
      "source": [
        "df_stagn.to_csv(\"stagne.csv\", index = False)"
      ],
      "metadata": {
        "id": "ybdM3EHvFBA0"
      },
      "execution_count": 35,
      "outputs": []
    }
  ]
}