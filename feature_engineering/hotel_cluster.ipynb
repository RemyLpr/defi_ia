{
  "nbformat": 4,
  "nbformat_minor": 0,
  "metadata": {
    "colab": {
      "provenance": [],
      "authorship_tag": "ABX9TyPzcCoSprRM7DiGJ8xK9880",
      "include_colab_link": true
    },
    "kernelspec": {
      "name": "python3",
      "display_name": "Python 3"
    },
    "language_info": {
      "name": "python"
    }
  },
  "cells": [
    {
      "cell_type": "markdown",
      "metadata": {
        "id": "view-in-github",
        "colab_type": "text"
      },
      "source": [
        "<a href=\"https://colab.research.google.com/github/RemyLpr/defi_ia/blob/main/feature_engineering/hotel_cluster.ipynb\" target=\"_parent\"><img src=\"https://colab.research.google.com/assets/colab-badge.svg\" alt=\"Open In Colab\"/></a>"
      ]
    },
    {
      "cell_type": "markdown",
      "source": [
        "# Import des librairies"
      ],
      "metadata": {
        "id": "n57gcn3iaZnl"
      }
    },
    {
      "cell_type": "code",
      "execution_count": null,
      "metadata": {
        "id": "aeFAjz4vZ-3B"
      },
      "outputs": [],
      "source": [
        "import pandas as pd\n",
        "import urllib.parse\n",
        "import requests\n",
        "import random\n",
        "import string"
      ]
    },
    {
      "cell_type": "markdown",
      "source": [
        "# Zoo"
      ],
      "metadata": {
        "id": "jmZb4eiacfUP"
      }
    },
    {
      "cell_type": "code",
      "source": [
        "domain = \"51.91.251.0\"\n",
        "port = 3000\n",
        "host = f\"http://{domain}:{port}\"\n",
        "path = lambda x: urllib.parse.urljoin(host, x)\n",
        "user_id = 'e68dad03-0d1a-4038-8766-382b25fe4252'"
      ],
      "metadata": {
        "id": "4yX5epEUbBDu"
      },
      "execution_count": null,
      "outputs": []
    },
    {
      "cell_type": "code",
      "source": [
        "cities = [\"amsterdam\", \"copenhagen\", \"madrid\", \"paris\", \"rome\", \"sofia\", \"valletta\", \"vienna\", \"vilnius\"]"
      ],
      "metadata": {
        "id": "c9PCbv2Jc-K2"
      },
      "execution_count": null,
      "outputs": []
    },
    {
      "cell_type": "code",
      "source": [
        "for city in cities:\n",
        "  avatar = ''.join(random.choices(string.ascii_uppercase + string.digits, k=6))\n",
        "  params = {\"city\" : city, \"date\" : 44, \"language\" : \"french\", \"mobile\" : 0, \"avatar_name\" : avatar}\n",
        "  requests.post(path(f'avatars/{user_id}/{avatar}')) # on doit indiquer à l'API qu'on crée ce nouvel avatar\n",
        "  r = requests.get(path(f\"pricing/{user_id}\"), params = params)\n",
        "  result = r.json() # résultat de la requête au format json\n",
        "  query_res = pd.DataFrame(result['prices'])\n",
        "  params_df = pd.DataFrame([result['request']]*len(query_res))\n",
        "  if city == \"amsterdam\":\n",
        "    df = pd.concat([query_res, params_df], axis=1)\n",
        "    df[\"avatar_name\"] = avatar\n",
        "  else:\n",
        "    new_df = pd.concat([query_res, params_df], axis=1)\n",
        "    new_df[\"avatar_name\"] = avatar # ajout du nom de l'avatar\n",
        "    # on ajoute les données extraites à notre dataset\n",
        "    df = pd.concat([df, new_df])\n",
        "df.to_csv(\"hotel_cluster.csv\", index=False) # pour pas écrire la colonne Unnamed : 0\n",
        "print(\"Requêtage terminé !\")"
      ],
      "metadata": {
        "colab": {
          "base_uri": "https://localhost:8080/"
        },
        "id": "DR6meCfCcqYs",
        "outputId": "daefca8d-bb3b-4014-ed05-b54a2957c992"
      },
      "execution_count": null,
      "outputs": [
        {
          "output_type": "stream",
          "name": "stdout",
          "text": [
            "Requêtage terminé !\n"
          ]
        }
      ]
    },
    {
      "cell_type": "code",
      "source": [
        "df_amsterdam = df[df[\"city\"] == \"amsterdam\"]"
      ],
      "metadata": {
        "id": "SdVhrIXBmTUI"
      },
      "execution_count": null,
      "outputs": []
    },
    {
      "cell_type": "code",
      "source": [
        "from matplotlib import pyplot as plt\n",
        "plt.hist(df_amsterdam[\"price\"], bins = 38)"
      ],
      "metadata": {
        "colab": {
          "base_uri": "https://localhost:8080/",
          "height": 508
        },
        "id": "87C9fvxVmebJ",
        "outputId": "0845df81-c9c2-481c-d3ef-3e4e897d499d"
      },
      "execution_count": null,
      "outputs": [
        {
          "output_type": "execute_result",
          "data": {
            "text/plain": [
              "(array([14.,  5.,  0.,  0.,  0.,  0., 20., 17.,  2.,  0.,  0.,  0.,  0.,\n",
              "         0.,  0., 22., 11.,  0.,  0.,  0.,  5.,  8.,  7.,  0.,  0.,  0.,\n",
              "         0.,  0.,  0.,  0.,  0.,  0.,  0.,  0.,  0., 10.,  5.,  9.]),\n",
              " array([ 66.        ,  70.13157895,  74.26315789,  78.39473684,\n",
              "         82.52631579,  86.65789474,  90.78947368,  94.92105263,\n",
              "         99.05263158, 103.18421053, 107.31578947, 111.44736842,\n",
              "        115.57894737, 119.71052632, 123.84210526, 127.97368421,\n",
              "        132.10526316, 136.23684211, 140.36842105, 144.5       ,\n",
              "        148.63157895, 152.76315789, 156.89473684, 161.02631579,\n",
              "        165.15789474, 169.28947368, 173.42105263, 177.55263158,\n",
              "        181.68421053, 185.81578947, 189.94736842, 194.07894737,\n",
              "        198.21052632, 202.34210526, 206.47368421, 210.60526316,\n",
              "        214.73684211, 218.86842105, 223.        ]),\n",
              " <a list of 38 Patch objects>)"
            ]
          },
          "metadata": {},
          "execution_count": 8
        },
        {
          "output_type": "display_data",
          "data": {
            "text/plain": [
              "<Figure size 432x288 with 1 Axes>"
            ],
            "image/png": "[encoded data removed]"
          },
          "metadata": {
            "needs_background": "light"
          }
        }
      ]
    },
    {
      "cell_type": "code",
      "source": [
        "import numpy as np\n",
        "\n",
        "conditions = [\n",
        "    (df['price'] < 80),\n",
        "    (df['price'] >= 80) & (df['price'] < 120),\n",
        "    (df['price'] >= 120) & (df['price'] < 140),\n",
        "    (df['price'] >= 140) & (df['price'] < 180),\n",
        "    (df['price'] >= 180)\n",
        "]\n",
        "\n",
        "values = [1, 2, 3, 4, 5]\n",
        "\n",
        "df['cluster_hotel'] = np.select(conditions, values)\n",
        "\n",
        "df"
      ],
      "metadata": {
        "colab": {
          "base_uri": "https://localhost:8080/",
          "height": 424
        },
        "id": "6nkjaPG268rr",
        "outputId": "e6de4def-8d6b-4e3b-8b5e-94f4a872bed7"
      },
      "execution_count": null,
      "outputs": [
        {
          "output_type": "execute_result",
          "data": {
            "text/plain": [
              "    hotel_id  price  stock       city  date language  mobile  avatar_id  \\\n",
              "0        146    158    196  amsterdam    44   french       0     181589   \n",
              "1          9     73    140  amsterdam    44   french       0     181589   \n",
              "2        212    154    193  amsterdam    44   french       0     181589   \n",
              "3        515    223    282  amsterdam    44   french       0     181589   \n",
              "4        921     68    140  amsterdam    44   french       0     181589   \n",
              "..       ...    ...    ...        ...   ...      ...     ...        ...   \n",
              "91       551     54     55    vilnius    44   french       0     181597   \n",
              "92       488    172    279    vilnius    44   french       0     181597   \n",
              "93       215     73     56    vilnius    44   french       0     181597   \n",
              "94       187    122    194    vilnius    44   french       0     181597   \n",
              "95       406     51     56    vilnius    44   french       0     181597   \n",
              "\n",
              "   avatar_name  cluster_hotel  \n",
              "0       CBBRZL              4  \n",
              "1       CBBRZL              1  \n",
              "2       CBBRZL              4  \n",
              "3       CBBRZL              5  \n",
              "4       CBBRZL              1  \n",
              "..         ...            ...  \n",
              "91      Y3QUNB              1  \n",
              "92      Y3QUNB              4  \n",
              "93      Y3QUNB              1  \n",
              "94      Y3QUNB              3  \n",
              "95      Y3QUNB              1  \n",
              "\n",
              "[999 rows x 10 columns]"
            ],
            "text/html": [
              "\n",
              "  <div id=\"df-336e2cab-9b30-47d4-9a9f-f700d0f36292\">\n",
              "    <div class=\"colab-df-container\">\n",
              "      <div>\n",
              "<style scoped>\n",
              "    .dataframe tbody tr th:only-of-type {\n",
              "        vertical-align: middle;\n",
              "    }\n",
              "\n",
              "    .dataframe tbody tr th {\n",
              "        vertical-align: top;\n",
              "    }\n",
              "\n",
              "    .dataframe thead th {\n",
              "        text-align: right;\n",
              "    }\n",
              "</style>\n",
              "<table border=\"1\" class=\"dataframe\">\n",
              "  <thead>\n",
              "    <tr style=\"text-align: right;\">\n",
              "      <th></th>\n",
              "      <th>hotel_id</th>\n",
              "      <th>price</th>\n",
              "      <th>stock</th>\n",
              "      <th>city</th>\n",
              "      <th>date</th>\n",
              "      <th>language</th>\n",
              "      <th>mobile</th>\n",
              "      <th>avatar_id</th>\n",
              "      <th>avatar_name</th>\n",
              "      <th>cluster_hotel</th>\n",
              "    </tr>\n",
              "  </thead>\n",
              "  <tbody>\n",
              "    <tr>\n",
              "      <th>0</th>\n",
              "      <td>146</td>\n",
              "      <td>158</td>\n",
              "      <td>196</td>\n",
              "      <td>amsterdam</td>\n",
              "      <td>44</td>\n",
              "      <td>french</td>\n",
              "      <td>0</td>\n",
              "      <td>181589</td>\n",
              "      <td>CBBRZL</td>\n",
              "      <td>4</td>\n",
              "    </tr>\n",
              "    <tr>\n",
              "      <th>1</th>\n",
              "      <td>9</td>\n",
              "      <td>73</td>\n",
              "      <td>140</td>\n",
              "      <td>amsterdam</td>\n",
              "      <td>44</td>\n",
              "      <td>french</td>\n",
              "      <td>0</td>\n",
              "      <td>181589</td>\n",
              "      <td>CBBRZL</td>\n",
              "      <td>1</td>\n",
              "    </tr>\n",
              "    <tr>\n",
              "      <th>2</th>\n",
              "      <td>212</td>\n",
              "      <td>154</td>\n",
              "      <td>193</td>\n",
              "      <td>amsterdam</td>\n",
              "      <td>44</td>\n",
              "      <td>french</td>\n",
              "      <td>0</td>\n",
              "      <td>181589</td>\n",
              "      <td>CBBRZL</td>\n",
              "      <td>4</td>\n",
              "    </tr>\n",
              "    <tr>\n",
              "      <th>3</th>\n",
              "      <td>515</td>\n",
              "      <td>223</td>\n",
              "      <td>282</td>\n",
              "      <td>amsterdam</td>\n",
              "      <td>44</td>\n",
              "      <td>french</td>\n",
              "      <td>0</td>\n",
              "      <td>181589</td>\n",
              "      <td>CBBRZL</td>\n",
              "      <td>5</td>\n",
              "    </tr>\n",
              "    <tr>\n",
              "      <th>4</th>\n",
              "      <td>921</td>\n",
              "      <td>68</td>\n",
              "      <td>140</td>\n",
              "      <td>amsterdam</td>\n",
              "      <td>44</td>\n",
              "      <td>french</td>\n",
              "      <td>0</td>\n",
              "      <td>181589</td>\n",
              "      <td>CBBRZL</td>\n",
              "      <td>1</td>\n",
              "    </tr>\n",
              "    <tr>\n",
              "      <th>...</th>\n",
              "      <td>...</td>\n",
              "      <td>...</td>\n",
              "      <td>...</td>\n",
              "      <td>...</td>\n",
              "      <td>...</td>\n",
              "      <td>...</td>\n",
              "      <td>...</td>\n",
              "      <td>...</td>\n",
              "      <td>...</td>\n",
              "      <td>...</td>\n",
              "    </tr>\n",
              "    <tr>\n",
              "      <th>91</th>\n",
              "      <td>551</td>\n",
              "      <td>54</td>\n",
              "      <td>55</td>\n",
              "      <td>vilnius</td>\n",
              "      <td>44</td>\n",
              "      <td>french</td>\n",
              "      <td>0</td>\n",
              "      <td>181597</td>\n",
              "      <td>Y3QUNB</td>\n",
              "      <td>1</td>\n",
              "    </tr>\n",
              "    <tr>\n",
              "      <th>92</th>\n",
              "      <td>488</td>\n",
              "      <td>172</td>\n",
              "      <td>279</td>\n",
              "      <td>vilnius</td>\n",
              "      <td>44</td>\n",
              "      <td>french</td>\n",
              "      <td>0</td>\n",
              "      <td>181597</td>\n",
              "      <td>Y3QUNB</td>\n",
              "      <td>4</td>\n",
              "    </tr>\n",
              "    <tr>\n",
              "      <th>93</th>\n",
              "      <td>215</td>\n",
              "      <td>73</td>\n",
              "      <td>56</td>\n",
              "      <td>vilnius</td>\n",
              "      <td>44</td>\n",
              "      <td>french</td>\n",
              "      <td>0</td>\n",
              "      <td>181597</td>\n",
              "      <td>Y3QUNB</td>\n",
              "      <td>1</td>\n",
              "    </tr>\n",
              "    <tr>\n",
              "      <th>94</th>\n",
              "      <td>187</td>\n",
              "      <td>122</td>\n",
              "      <td>194</td>\n",
              "      <td>vilnius</td>\n",
              "      <td>44</td>\n",
              "      <td>french</td>\n",
              "      <td>0</td>\n",
              "      <td>181597</td>\n",
              "      <td>Y3QUNB</td>\n",
              "      <td>3</td>\n",
              "    </tr>\n",
              "    <tr>\n",
              "      <th>95</th>\n",
              "      <td>406</td>\n",
              "      <td>51</td>\n",
              "      <td>56</td>\n",
              "      <td>vilnius</td>\n",
              "      <td>44</td>\n",
              "      <td>french</td>\n",
              "      <td>0</td>\n",
              "      <td>181597</td>\n",
              "      <td>Y3QUNB</td>\n",
              "      <td>1</td>\n",
              "    </tr>\n",
              "  </tbody>\n",
              "</table>\n",
              "<p>999 rows × 10 columns</p>\n",
              "</div>\n",
              "      <button class=\"colab-df-convert\" onclick=\"convertToInteractive('df-336e2cab-9b30-47d4-9a9f-f700d0f36292')\"\n",
              "              title=\"Convert this dataframe to an interactive table.\"\n",
              "              style=\"display:none;\">\n",
              "        \n",
              "  <svg xmlns=\"http://www.w3.org/2000/svg\" height=\"24px\"viewBox=\"0 0 24 24\"\n",
              "       width=\"24px\">\n",
              "    <path d=\"M0 0h24v24H0V0z\" fill=\"none\"/>\n",
              "    <path d=\"M18.56 5.44l.94 2.06.94-2.06 2.06-.94-2.06-.94-.94-2.06-.94 2.06-2.06.94zm-11 1L8.5 8.5l.94-2.06 2.06-.94-2.06-.94L8.5 2.5l-.94 2.06-2.06.94zm10 10l.94 2.06.94-2.06 2.06-.94-2.06-.94-.94-2.06-.94 2.06-2.06.94z\"/><path d=\"M17.41 7.96l-1.37-1.37c-.4-.4-.92-.59-1.43-.59-.52 0-1.04.2-1.43.59L10.3 9.45l-7.72 7.72c-.78.78-.78 2.05 0 2.83L4 21.41c.39.39.9.59 1.41.59.51 0 1.02-.2 1.41-.59l7.78-7.78 2.81-2.81c.8-.78.8-2.07 0-2.86zM5.41 20L4 18.59l7.72-7.72 1.47 1.35L5.41 20z\"/>\n",
              "  </svg>\n",
              "      </button>\n",
              "      \n",
              "  <style>\n",
              "    .colab-df-container {\n",
              "      display:flex;\n",
              "      flex-wrap:wrap;\n",
              "      gap: 12px;\n",
              "    }\n",
              "\n",
              "    .colab-df-convert {\n",
              "      background-color: #E8F0FE;\n",
              "      border: none;\n",
              "      border-radius: 50%;\n",
              "      cursor: pointer;\n",
              "      display: none;\n",
              "      fill: #1967D2;\n",
              "      height: 32px;\n",
              "      padding: 0 0 0 0;\n",
              "      width: 32px;\n",
              "    }\n",
              "\n",
              "    .colab-df-convert:hover {\n",
              "      background-color: #E2EBFA;\n",
              "      box-shadow: 0px 1px 2px rgba(60, 64, 67, 0.3), 0px 1px 3px 1px rgba(60, 64, 67, 0.15);\n",
              "      fill: #174EA6;\n",
              "    }\n",
              "\n",
              "    [theme=dark] .colab-df-convert {\n",
              "      background-color: #3B4455;\n",
              "      fill: #D2E3FC;\n",
              "    }\n",
              "\n",
              "    [theme=dark] .colab-df-convert:hover {\n",
              "      background-color: #434B5C;\n",
              "      box-shadow: 0px 1px 3px 1px rgba(0, 0, 0, 0.15);\n",
              "      filter: drop-shadow(0px 1px 2px rgba(0, 0, 0, 0.3));\n",
              "      fill: #FFFFFF;\n",
              "    }\n",
              "  </style>\n",
              "\n",
              "      <script>\n",
              "        const buttonEl =\n",
              "          document.querySelector('#df-336e2cab-9b30-47d4-9a9f-f700d0f36292 button.colab-df-convert');\n",
              "        buttonEl.style.display =\n",
              "          google.colab.kernel.accessAllowed ? 'block' : 'none';\n",
              "\n",
              "        async function convertToInteractive(key) {\n",
              "          const element = document.querySelector('#df-336e2cab-9b30-47d4-9a9f-f700d0f36292');\n",
              "          const dataTable =\n",
              "            await google.colab.kernel.invokeFunction('convertToInteractive',\n",
              "                                                     [key], {});\n",
              "          if (!dataTable) return;\n",
              "\n",
              "          const docLinkHtml = 'Like what you see? Visit the ' +\n",
              "            '<a target=\"_blank\" href=https://colab.research.google.com/notebooks/data_table.ipynb>data table notebook</a>'\n",
              "            + ' to learn more about interactive tables.';\n",
              "          element.innerHTML = '';\n",
              "          dataTable['output_type'] = 'display_data';\n",
              "          await google.colab.output.renderOutput(dataTable, element);\n",
              "          const docLink = document.createElement('div');\n",
              "          docLink.innerHTML = docLinkHtml;\n",
              "          element.appendChild(docLink);\n",
              "        }\n",
              "      </script>\n",
              "    </div>\n",
              "  </div>\n",
              "  "
            ]
          },
          "metadata": {},
          "execution_count": 10
        }
      ]
    },
    {
      "cell_type": "code",
      "source": [
        "df = df[[\"hotel_id\", \"cluster_hotel\"]]"
      ],
      "metadata": {
        "id": "8STQykHS8JlF"
      },
      "execution_count": null,
      "outputs": []
    },
    {
      "cell_type": "code",
      "source": [
        "df.to_csv(\"hotel_price_clust.csv\", index = False)"
      ],
      "metadata": {
        "id": "S8q03uDp8bge"
      },
      "execution_count": null,
      "outputs": []
    }
  ]
}