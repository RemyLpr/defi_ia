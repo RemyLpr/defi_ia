{
  "nbformat": 4,
  "nbformat_minor": 0,
  "metadata": {
    "colab": {
      "provenance": [],
      "authorship_tag": "ABX9TyNWENY53Wexz3C5ROsR32ys",
      "include_colab_link": true
    },
    "kernelspec": {
      "name": "python3",
      "display_name": "Python 3"
    },
    "language_info": {
      "name": "python"
    }
  },
  "cells": [
    {
      "cell_type": "markdown",
      "metadata": {
        "id": "view-in-github",
        "colab_type": "text"
      },
      "source": [
        "<a href=\"https://colab.research.google.com/github/RemyLpr/defi_ia/blob/main/feature_engineering/coeff_lang.ipynb\" target=\"_parent\"><img src=\"https://colab.research.google.com/assets/colab-badge.svg\" alt=\"Open In Colab\"/></a>"
      ]
    },
    {
      "cell_type": "markdown",
      "source": [
        "# Import des librairies et des données"
      ],
      "metadata": {
        "id": "opuoRTqC32Wr"
      }
    },
    {
      "cell_type": "code",
      "source": [
        "import numpy as np\n",
        "import pandas as pd"
      ],
      "metadata": {
        "id": "ifJ_QIcD3495"
      },
      "execution_count": 1,
      "outputs": []
    },
    {
      "cell_type": "code",
      "execution_count": 3,
      "metadata": {
        "id": "UVU2K1Kj3zjh"
      },
      "outputs": [],
      "source": [
        "df = pd.read_csv(\"train_set.csv\") # issu du notebook req_api\n",
        "df_hung = pd.read_csv(\"df_hung.csv\") # issu du notebook ?"
      ]
    },
    {
      "cell_type": "markdown",
      "source": [
        "# Calcul des coefficients"
      ],
      "metadata": {
        "id": "kLbRItoI4Ih6"
      }
    },
    {
      "cell_type": "code",
      "source": [
        "languages = df[\"language\"].unique().tolist()\n",
        "languages.remove(\"hungarian\")\n",
        "data = []\n",
        "for lang in languages:\n",
        "  df_lang = df[df[\"language\"] == lang]\n",
        "  cities = df[\"city\"].unique().tolist()\n",
        "  for city in cities:\n",
        "    df_lang_city = df_lang[df_lang[\"city\"] == city]\n",
        "    coeff_list = []\n",
        "    df_hung_city = df_hung[df_hung[\"city\"] == city]\n",
        "    for index, row in df_lang_city.iterrows():\n",
        "      hotel, date = row[\"hotel_id\"], row[\"date\"]\n",
        "      df_match = df_hung_city[(df_hung_city[\"hotel_id\"] == hotel) & (df_hung_city[\"date\"] == date)]\n",
        "      for index2, row2 in df_match.iterrows():\n",
        "        coeff_list.append(row[\"price\"]/row2[\"price\"])\n",
        "    coeff_list = np.array(coeff_list)\n",
        "    coeff = round(np.mean(coeff_list), 2)\n",
        "    data.append((lang, city, coeff))\n",
        "df_coeff = pd.DataFrame(data = data, columns = [\"language\", \"city\", \"coeff\"])"
      ],
      "metadata": {
        "id": "WZ_e_PCk4Sx9"
      },
      "execution_count": 4,
      "outputs": []
    },
    {
      "cell_type": "markdown",
      "source": [
        "# Export des résultats"
      ],
      "metadata": {
        "id": "y7dR90i34e2B"
      }
    },
    {
      "cell_type": "code",
      "source": [
        "df_coeff.to_csv(\"coeff_lang.csv\", index = False)"
      ],
      "metadata": {
        "id": "HyFb5HNW4gXN"
      },
      "execution_count": 10,
      "outputs": []
    }
  ]
}