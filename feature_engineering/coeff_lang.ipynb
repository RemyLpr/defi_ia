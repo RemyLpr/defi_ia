{
  "nbformat": 4,
  "nbformat_minor": 0,
  "metadata": {
    "colab": {
      "provenance": [],
      "include_colab_link": true
    },
    "kernelspec": {
      "name": "python3",
      "display_name": "Python 3"
    },
    "language_info": {
      "name": "python"
    }
  },
  "cells": [
    {
      "cell_type": "markdown",
      "metadata": {
        "id": "view-in-github",
        "colab_type": "text"
      },
      "source": [
        "<a href=\"https://colab.research.google.com/github/RemyLpr/defi_ia/blob/main/feature_engineering/coeff_lang.ipynb\" target=\"_parent\"><img src=\"https://colab.research.google.com/assets/colab-badge.svg\" alt=\"Open In Colab\"/></a>"
      ]
    },
    {
      "cell_type": "markdown",
      "source": [
        "# Import des librairies et des données"
      ],
      "metadata": {
        "id": "opuoRTqC32Wr"
      }
    },
    {
      "cell_type": "code",
      "source": [
        "import numpy as np\n",
        "import pandas as pd\n",
        "import matplotlib.pyplot as plt"
      ],
      "metadata": {
        "id": "ifJ_QIcD3495"
      },
      "execution_count": 100,
      "outputs": []
    },
    {
      "cell_type": "code",
      "execution_count": 79,
      "metadata": {
        "id": "UVU2K1Kj3zjh"
      },
      "outputs": [],
      "source": [
        "df = pd.read_csv(\"train_set.csv\") # issu du notebook req_api\n",
        "df_vienna = pd.read_csv(\"vienna.csv\")\n",
        "df_vilnius = pd.read_csv(\"vilnius.csv\")\n",
        "df_amsterdam = pd.read_csv(\"amsterdam.csv\")\n",
        "df_rome = pd.read_csv(\"rome.csv\")\n",
        "df_valletta = pd.read_csv(\"valletta.csv\")\n",
        "df_paris = pd.read_csv(\"paris.csv\")\n",
        "df_madrid = pd.read_csv(\"madrid.csv\")\n",
        "df_copenhagen = pd.read_csv(\"copenhagen.csv\")\n",
        "df_sofia = pd.read_csv(\"sofia.csv\")\n",
        "df_hung = pd.concat([df_vienna, df_vilnius, df_amsterdam, df_rome, df_valletta, df_paris, df_madrid, df_copenhagen, df_sofia])"
      ]
    },
    {
      "cell_type": "markdown",
      "source": [
        "# Calcul des coefficients"
      ],
      "metadata": {
        "id": "kLbRItoI4Ih6"
      }
    },
    {
      "cell_type": "code",
      "source": [
        "languages = df[\"language\"].unique().tolist()\n",
        "languages.remove(\"hungarian\")\n",
        "data = []\n",
        "data2 = []\n",
        "for lang in languages:\n",
        "  df_lang = df[df[\"language\"] == lang]\n",
        "  cities = df[\"city\"].unique().tolist()\n",
        "  for city in cities:\n",
        "    coeff_list = []\n",
        "    df_lang_city = df_lang[df_lang[\"city\"] == city]\n",
        "    df_hung_city = df_hung[df_hung[\"city\"] == city]\n",
        "    for index, row in df_lang_city.iterrows():\n",
        "      hotel, date = row[\"hotel_id\"], row[\"date\"]\n",
        "      df_match = df_hung_city[(df_hung_city[\"hotel_id\"] == hotel) & (df_hung_city[\"date\"] == date)]\n",
        "      for index2, row2 in df_match.iterrows():\n",
        "        if (date <=2) and (abs(row[\"price\"]*0.92 - np.mean(coeff_list) < abs(row[\"price\"] - np.mean(coeff_list)))):\n",
        "          pass\n",
        "        else:\n",
        "          coeff_list.append(row[\"price\"]/row2[\"price\"])\n",
        "    data2.append(coeff_list)\n",
        "    coeff_list = np.array(coeff_list)\n",
        "    coeff = round(np.mean(coeff_list), 2)\n",
        "    data.append((lang, city, coeff))\n",
        "df_coeff = pd.DataFrame(data = data, columns = [\"language\", \"city\", \"coeff\"])"
      ],
      "metadata": {
        "id": "WZ_e_PCk4Sx9",
        "outputId": "ba8d01e2-07ea-4444-9a73-8fa4e7160adb",
        "colab": {
          "base_uri": "https://localhost:8080/"
        }
      },
      "execution_count": 86,
      "outputs": [
        {
          "output_type": "stream",
          "name": "stderr",
          "text": [
            "/usr/local/lib/python3.8/dist-packages/numpy/core/fromnumeric.py:3440: RuntimeWarning: Mean of empty slice.\n",
            "  return _methods._mean(a, axis=axis, dtype=dtype,\n",
            "/usr/local/lib/python3.8/dist-packages/numpy/core/_methods.py:189: RuntimeWarning: invalid value encountered in double_scalars\n",
            "  ret = ret.dtype.type(ret / rcount)\n"
          ]
        }
      ]
    },
    {
      "cell_type": "markdown",
      "source": [
        "# Visualisation des résultats"
      ],
      "metadata": {
        "id": "3YJ20nBn-Uq6"
      }
    },
    {
      "cell_type": "code",
      "source": [
        "plt.hist(data2[1])"
      ],
      "metadata": {
        "id": "2ObhR2JL-Wzu",
        "outputId": "111c9aa8-e03b-4d8c-a74e-6fe604aea4af",
        "colab": {
          "base_uri": "https://localhost:8080/",
          "height": 353
        }
      },
      "execution_count": 104,
      "outputs": [
        {
          "output_type": "execute_result",
          "data": {
            "text/plain": [
              "(array([ 49.,  14.,  38.,  83., 116.,  89.,  39.,   8.,  20.,   9.]),\n",
              " array([1.07017544, 1.07274694, 1.07531843, 1.07788993, 1.08046143,\n",
              "        1.08303292, 1.08560442, 1.08817592, 1.09074742, 1.09331891,\n",
              "        1.09589041]),\n",
              " <a list of 10 Patch objects>)"
            ]
          },
          "metadata": {},
          "execution_count": 104
        },
        {
          "output_type": "display_data",
          "data": {
            "text/plain": [
              "<Figure size 432x288 with 1 Axes>"
            ],
            "image/png": "[encoded data removed]"
          },
          "metadata": {
            "needs_background": "light"
          }
        }
      ]
    },
    {
      "cell_type": "markdown",
      "source": [
        "# Export des résultats"
      ],
      "metadata": {
        "id": "y7dR90i34e2B"
      }
    },
    {
      "cell_type": "code",
      "source": [
        "df_coeff.to_csv(\"coeff_lang.csv\", index = False)"
      ],
      "metadata": {
        "id": "HyFb5HNW4gXN"
      },
      "execution_count": 99,
      "outputs": []
    }
  ]
}